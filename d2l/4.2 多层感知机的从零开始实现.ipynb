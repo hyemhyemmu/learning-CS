{
  "cells": [
    {
      "cell_type": "markdown",
      "id": "59b31683",
      "metadata": {
        "origin_pos": 0,
        "id": "59b31683"
      },
      "source": [
        "# 多层感知机的从零开始实现\n",
        ":label:`sec_mlp_scratch`\n",
        "\n",
        "我们已经在 :numref:`sec_mlp`中描述了多层感知机（MLP），\n",
        "现在让我们尝试自己实现一个多层感知机。\n",
        "为了与之前softmax回归（ :numref:`sec_softmax_scratch` ）\n",
        "获得的结果进行比较，\n",
        "我们将继续使用Fashion-MNIST图像分类数据集\n",
        "（ :numref:`sec_fashion_mnist`）。\n"
      ]
    },
    {
      "cell_type": "code",
      "execution_count": 1,
      "id": "ffbb0fc1",
      "metadata": {
        "execution": {
          "iopub.execute_input": "2023-08-18T06:59:21.394152Z",
          "iopub.status.busy": "2023-08-18T06:59:21.393407Z",
          "iopub.status.idle": "2023-08-18T06:59:24.364157Z",
          "shell.execute_reply": "2023-08-18T06:59:24.362977Z"
        },
        "origin_pos": 2,
        "tab": [
          "pytorch"
        ],
        "id": "ffbb0fc1",
        "colab": {
          "base_uri": "https://localhost:8080/"
        },
        "collapsed": true,
        "outputId": "8eb5ae0e-877a-466b-ae4d-97fad8d66fde"
      },
      "outputs": [
        {
          "output_type": "stream",
          "name": "stdout",
          "text": [
            "Requirement already satisfied: d2l in /usr/local/lib/python3.11/dist-packages (1.0.3)\n",
            "Requirement already satisfied: jupyter==1.0.0 in /usr/local/lib/python3.11/dist-packages (from d2l) (1.0.0)\n",
            "Requirement already satisfied: numpy==1.23.5 in /usr/local/lib/python3.11/dist-packages (from d2l) (1.23.5)\n",
            "Requirement already satisfied: matplotlib==3.7.2 in /usr/local/lib/python3.11/dist-packages (from d2l) (3.7.2)\n",
            "Requirement already satisfied: matplotlib-inline==0.1.6 in /usr/local/lib/python3.11/dist-packages (from d2l) (0.1.6)\n",
            "Requirement already satisfied: requests==2.31.0 in /usr/local/lib/python3.11/dist-packages (from d2l) (2.31.0)\n",
            "Requirement already satisfied: pandas==2.0.3 in /usr/local/lib/python3.11/dist-packages (from d2l) (2.0.3)\n",
            "Requirement already satisfied: scipy==1.10.1 in /usr/local/lib/python3.11/dist-packages (from d2l) (1.10.1)\n",
            "Requirement already satisfied: notebook in /usr/local/lib/python3.11/dist-packages (from jupyter==1.0.0->d2l) (6.5.7)\n",
            "Requirement already satisfied: qtconsole in /usr/local/lib/python3.11/dist-packages (from jupyter==1.0.0->d2l) (5.6.1)\n",
            "Requirement already satisfied: jupyter-console in /usr/local/lib/python3.11/dist-packages (from jupyter==1.0.0->d2l) (6.1.0)\n",
            "Requirement already satisfied: nbconvert in /usr/local/lib/python3.11/dist-packages (from jupyter==1.0.0->d2l) (7.16.6)\n",
            "Requirement already satisfied: ipykernel in /usr/local/lib/python3.11/dist-packages (from jupyter==1.0.0->d2l) (6.17.1)\n",
            "Requirement already satisfied: ipywidgets in /usr/local/lib/python3.11/dist-packages (from jupyter==1.0.0->d2l) (7.7.1)\n",
            "Requirement already satisfied: contourpy>=1.0.1 in /usr/local/lib/python3.11/dist-packages (from matplotlib==3.7.2->d2l) (1.3.1)\n",
            "Requirement already satisfied: cycler>=0.10 in /usr/local/lib/python3.11/dist-packages (from matplotlib==3.7.2->d2l) (0.12.1)\n",
            "Requirement already satisfied: fonttools>=4.22.0 in /usr/local/lib/python3.11/dist-packages (from matplotlib==3.7.2->d2l) (4.56.0)\n",
            "Requirement already satisfied: kiwisolver>=1.0.1 in /usr/local/lib/python3.11/dist-packages (from matplotlib==3.7.2->d2l) (1.4.8)\n",
            "Requirement already satisfied: packaging>=20.0 in /usr/local/lib/python3.11/dist-packages (from matplotlib==3.7.2->d2l) (24.2)\n",
            "Requirement already satisfied: pillow>=6.2.0 in /usr/local/lib/python3.11/dist-packages (from matplotlib==3.7.2->d2l) (11.1.0)\n",
            "Requirement already satisfied: pyparsing<3.1,>=2.3.1 in /usr/local/lib/python3.11/dist-packages (from matplotlib==3.7.2->d2l) (3.0.9)\n",
            "Requirement already satisfied: python-dateutil>=2.7 in /usr/local/lib/python3.11/dist-packages (from matplotlib==3.7.2->d2l) (2.8.2)\n",
            "Requirement already satisfied: traitlets in /usr/local/lib/python3.11/dist-packages (from matplotlib-inline==0.1.6->d2l) (5.7.1)\n",
            "Requirement already satisfied: pytz>=2020.1 in /usr/local/lib/python3.11/dist-packages (from pandas==2.0.3->d2l) (2025.2)\n",
            "Requirement already satisfied: tzdata>=2022.1 in /usr/local/lib/python3.11/dist-packages (from pandas==2.0.3->d2l) (2025.2)\n",
            "Requirement already satisfied: charset-normalizer<4,>=2 in /usr/local/lib/python3.11/dist-packages (from requests==2.31.0->d2l) (3.4.1)\n",
            "Requirement already satisfied: idna<4,>=2.5 in /usr/local/lib/python3.11/dist-packages (from requests==2.31.0->d2l) (3.10)\n",
            "Requirement already satisfied: urllib3<3,>=1.21.1 in /usr/local/lib/python3.11/dist-packages (from requests==2.31.0->d2l) (2.3.0)\n",
            "Requirement already satisfied: certifi>=2017.4.17 in /usr/local/lib/python3.11/dist-packages (from requests==2.31.0->d2l) (2025.1.31)\n",
            "Requirement already satisfied: six>=1.5 in /usr/local/lib/python3.11/dist-packages (from python-dateutil>=2.7->matplotlib==3.7.2->d2l) (1.17.0)\n",
            "Requirement already satisfied: debugpy>=1.0 in /usr/local/lib/python3.11/dist-packages (from ipykernel->jupyter==1.0.0->d2l) (1.8.0)\n",
            "Requirement already satisfied: ipython>=7.23.1 in /usr/local/lib/python3.11/dist-packages (from ipykernel->jupyter==1.0.0->d2l) (7.34.0)\n",
            "Requirement already satisfied: jupyter-client>=6.1.12 in /usr/local/lib/python3.11/dist-packages (from ipykernel->jupyter==1.0.0->d2l) (6.1.12)\n",
            "Requirement already satisfied: nest-asyncio in /usr/local/lib/python3.11/dist-packages (from ipykernel->jupyter==1.0.0->d2l) (1.6.0)\n",
            "Requirement already satisfied: psutil in /usr/local/lib/python3.11/dist-packages (from ipykernel->jupyter==1.0.0->d2l) (5.9.5)\n",
            "Requirement already satisfied: pyzmq>=17 in /usr/local/lib/python3.11/dist-packages (from ipykernel->jupyter==1.0.0->d2l) (24.0.1)\n",
            "Requirement already satisfied: tornado>=6.1 in /usr/local/lib/python3.11/dist-packages (from ipykernel->jupyter==1.0.0->d2l) (6.4.2)\n",
            "Requirement already satisfied: ipython-genutils~=0.2.0 in /usr/local/lib/python3.11/dist-packages (from ipywidgets->jupyter==1.0.0->d2l) (0.2.0)\n",
            "Requirement already satisfied: widgetsnbextension~=3.6.0 in /usr/local/lib/python3.11/dist-packages (from ipywidgets->jupyter==1.0.0->d2l) (3.6.10)\n",
            "Requirement already satisfied: jupyterlab-widgets>=1.0.0 in /usr/local/lib/python3.11/dist-packages (from ipywidgets->jupyter==1.0.0->d2l) (3.0.13)\n",
            "Requirement already satisfied: prompt-toolkit!=3.0.0,!=3.0.1,<3.1.0,>=2.0.0 in /usr/local/lib/python3.11/dist-packages (from jupyter-console->jupyter==1.0.0->d2l) (3.0.50)\n",
            "Requirement already satisfied: pygments in /usr/local/lib/python3.11/dist-packages (from jupyter-console->jupyter==1.0.0->d2l) (2.18.0)\n",
            "Requirement already satisfied: beautifulsoup4 in /usr/local/lib/python3.11/dist-packages (from nbconvert->jupyter==1.0.0->d2l) (4.13.3)\n",
            "Requirement already satisfied: bleach!=5.0.0 in /usr/local/lib/python3.11/dist-packages (from bleach[css]!=5.0.0->nbconvert->jupyter==1.0.0->d2l) (6.2.0)\n",
            "Requirement already satisfied: defusedxml in /usr/local/lib/python3.11/dist-packages (from nbconvert->jupyter==1.0.0->d2l) (0.7.1)\n",
            "Requirement already satisfied: jinja2>=3.0 in /usr/local/lib/python3.11/dist-packages (from nbconvert->jupyter==1.0.0->d2l) (3.1.6)\n",
            "Requirement already satisfied: jupyter-core>=4.7 in /usr/local/lib/python3.11/dist-packages (from nbconvert->jupyter==1.0.0->d2l) (5.7.2)\n",
            "Requirement already satisfied: jupyterlab-pygments in /usr/local/lib/python3.11/dist-packages (from nbconvert->jupyter==1.0.0->d2l) (0.3.0)\n",
            "Requirement already satisfied: markupsafe>=2.0 in /usr/local/lib/python3.11/dist-packages (from nbconvert->jupyter==1.0.0->d2l) (3.0.2)\n",
            "Requirement already satisfied: mistune<4,>=2.0.3 in /usr/local/lib/python3.11/dist-packages (from nbconvert->jupyter==1.0.0->d2l) (3.1.3)\n",
            "Requirement already satisfied: nbclient>=0.5.0 in /usr/local/lib/python3.11/dist-packages (from nbconvert->jupyter==1.0.0->d2l) (0.10.2)\n",
            "Requirement already satisfied: nbformat>=5.7 in /usr/local/lib/python3.11/dist-packages (from nbconvert->jupyter==1.0.0->d2l) (5.10.4)\n",
            "Requirement already satisfied: pandocfilters>=1.4.1 in /usr/local/lib/python3.11/dist-packages (from nbconvert->jupyter==1.0.0->d2l) (1.5.1)\n",
            "Requirement already satisfied: argon2-cffi in /usr/local/lib/python3.11/dist-packages (from notebook->jupyter==1.0.0->d2l) (23.1.0)\n",
            "Requirement already satisfied: Send2Trash>=1.8.0 in /usr/local/lib/python3.11/dist-packages (from notebook->jupyter==1.0.0->d2l) (1.8.3)\n",
            "Requirement already satisfied: terminado>=0.8.3 in /usr/local/lib/python3.11/dist-packages (from notebook->jupyter==1.0.0->d2l) (0.18.1)\n",
            "Requirement already satisfied: prometheus-client in /usr/local/lib/python3.11/dist-packages (from notebook->jupyter==1.0.0->d2l) (0.21.1)\n",
            "Requirement already satisfied: nbclassic>=0.4.7 in /usr/local/lib/python3.11/dist-packages (from notebook->jupyter==1.0.0->d2l) (1.2.0)\n",
            "Requirement already satisfied: qtpy>=2.4.0 in /usr/local/lib/python3.11/dist-packages (from qtconsole->jupyter==1.0.0->d2l) (2.4.3)\n",
            "Requirement already satisfied: webencodings in /usr/local/lib/python3.11/dist-packages (from bleach!=5.0.0->bleach[css]!=5.0.0->nbconvert->jupyter==1.0.0->d2l) (0.5.1)\n",
            "Requirement already satisfied: tinycss2<1.5,>=1.1.0 in /usr/local/lib/python3.11/dist-packages (from bleach[css]!=5.0.0->nbconvert->jupyter==1.0.0->d2l) (1.4.0)\n",
            "Requirement already satisfied: setuptools>=18.5 in /usr/local/lib/python3.11/dist-packages (from ipython>=7.23.1->ipykernel->jupyter==1.0.0->d2l) (75.2.0)\n",
            "Requirement already satisfied: jedi>=0.16 in /usr/local/lib/python3.11/dist-packages (from ipython>=7.23.1->ipykernel->jupyter==1.0.0->d2l) (0.19.2)\n",
            "Requirement already satisfied: decorator in /usr/local/lib/python3.11/dist-packages (from ipython>=7.23.1->ipykernel->jupyter==1.0.0->d2l) (4.4.2)\n",
            "Requirement already satisfied: pickleshare in /usr/local/lib/python3.11/dist-packages (from ipython>=7.23.1->ipykernel->jupyter==1.0.0->d2l) (0.7.5)\n",
            "Requirement already satisfied: backcall in /usr/local/lib/python3.11/dist-packages (from ipython>=7.23.1->ipykernel->jupyter==1.0.0->d2l) (0.2.0)\n",
            "Requirement already satisfied: pexpect>4.3 in /usr/local/lib/python3.11/dist-packages (from ipython>=7.23.1->ipykernel->jupyter==1.0.0->d2l) (4.9.0)\n",
            "Requirement already satisfied: platformdirs>=2.5 in /usr/local/lib/python3.11/dist-packages (from jupyter-core>=4.7->nbconvert->jupyter==1.0.0->d2l) (4.3.7)\n",
            "Requirement already satisfied: notebook-shim>=0.2.3 in /usr/local/lib/python3.11/dist-packages (from nbclassic>=0.4.7->notebook->jupyter==1.0.0->d2l) (0.2.4)\n",
            "Requirement already satisfied: fastjsonschema>=2.15 in /usr/local/lib/python3.11/dist-packages (from nbformat>=5.7->nbconvert->jupyter==1.0.0->d2l) (2.21.1)\n",
            "Requirement already satisfied: jsonschema>=2.6 in /usr/local/lib/python3.11/dist-packages (from nbformat>=5.7->nbconvert->jupyter==1.0.0->d2l) (4.23.0)\n",
            "Requirement already satisfied: wcwidth in /usr/local/lib/python3.11/dist-packages (from prompt-toolkit!=3.0.0,!=3.0.1,<3.1.0,>=2.0.0->jupyter-console->jupyter==1.0.0->d2l) (0.2.13)\n",
            "Requirement already satisfied: ptyprocess in /usr/local/lib/python3.11/dist-packages (from terminado>=0.8.3->notebook->jupyter==1.0.0->d2l) (0.7.0)\n",
            "Requirement already satisfied: argon2-cffi-bindings in /usr/local/lib/python3.11/dist-packages (from argon2-cffi->notebook->jupyter==1.0.0->d2l) (21.2.0)\n",
            "Requirement already satisfied: soupsieve>1.2 in /usr/local/lib/python3.11/dist-packages (from beautifulsoup4->nbconvert->jupyter==1.0.0->d2l) (2.6)\n",
            "Requirement already satisfied: typing-extensions>=4.0.0 in /usr/local/lib/python3.11/dist-packages (from beautifulsoup4->nbconvert->jupyter==1.0.0->d2l) (4.13.0)\n",
            "Requirement already satisfied: parso<0.9.0,>=0.8.4 in /usr/local/lib/python3.11/dist-packages (from jedi>=0.16->ipython>=7.23.1->ipykernel->jupyter==1.0.0->d2l) (0.8.4)\n",
            "Requirement already satisfied: attrs>=22.2.0 in /usr/local/lib/python3.11/dist-packages (from jsonschema>=2.6->nbformat>=5.7->nbconvert->jupyter==1.0.0->d2l) (25.3.0)\n",
            "Requirement already satisfied: jsonschema-specifications>=2023.03.6 in /usr/local/lib/python3.11/dist-packages (from jsonschema>=2.6->nbformat>=5.7->nbconvert->jupyter==1.0.0->d2l) (2024.10.1)\n",
            "Requirement already satisfied: referencing>=0.28.4 in /usr/local/lib/python3.11/dist-packages (from jsonschema>=2.6->nbformat>=5.7->nbconvert->jupyter==1.0.0->d2l) (0.36.2)\n",
            "Requirement already satisfied: rpds-py>=0.7.1 in /usr/local/lib/python3.11/dist-packages (from jsonschema>=2.6->nbformat>=5.7->nbconvert->jupyter==1.0.0->d2l) (0.24.0)\n",
            "Requirement already satisfied: jupyter-server<3,>=1.8 in /usr/local/lib/python3.11/dist-packages (from notebook-shim>=0.2.3->nbclassic>=0.4.7->notebook->jupyter==1.0.0->d2l) (1.16.0)\n",
            "Requirement already satisfied: cffi>=1.0.1 in /usr/local/lib/python3.11/dist-packages (from argon2-cffi-bindings->argon2-cffi->notebook->jupyter==1.0.0->d2l) (1.17.1)\n",
            "Requirement already satisfied: pycparser in /usr/local/lib/python3.11/dist-packages (from cffi>=1.0.1->argon2-cffi-bindings->argon2-cffi->notebook->jupyter==1.0.0->d2l) (2.22)\n",
            "Requirement already satisfied: anyio>=3.1.0 in /usr/local/lib/python3.11/dist-packages (from jupyter-server<3,>=1.8->notebook-shim>=0.2.3->nbclassic>=0.4.7->notebook->jupyter==1.0.0->d2l) (4.9.0)\n",
            "Requirement already satisfied: websocket-client in /usr/local/lib/python3.11/dist-packages (from jupyter-server<3,>=1.8->notebook-shim>=0.2.3->nbclassic>=0.4.7->notebook->jupyter==1.0.0->d2l) (1.8.0)\n",
            "Requirement already satisfied: sniffio>=1.1 in /usr/local/lib/python3.11/dist-packages (from anyio>=3.1.0->jupyter-server<3,>=1.8->notebook-shim>=0.2.3->nbclassic>=0.4.7->notebook->jupyter==1.0.0->d2l) (1.3.1)\n"
          ]
        }
      ],
      "source": [
        "!pip install d2l\n",
        "import torch\n",
        "from torch import nn\n",
        "from d2l import torch as d2l"
      ]
    },
    {
      "cell_type": "code",
      "execution_count": 2,
      "id": "0be61c4f",
      "metadata": {
        "execution": {
          "iopub.execute_input": "2023-08-18T06:59:24.369567Z",
          "iopub.status.busy": "2023-08-18T06:59:24.368990Z",
          "iopub.status.idle": "2023-08-18T06:59:24.501326Z",
          "shell.execute_reply": "2023-08-18T06:59:24.500151Z"
        },
        "origin_pos": 5,
        "tab": [
          "pytorch"
        ],
        "id": "0be61c4f",
        "colab": {
          "base_uri": "https://localhost:8080/"
        },
        "outputId": "ff30f826-a269-49d5-9604-a397514aded2"
      },
      "outputs": [
        {
          "output_type": "stream",
          "name": "stderr",
          "text": [
            "100%|██████████| 26.4M/26.4M [00:02<00:00, 11.6MB/s]\n",
            "100%|██████████| 29.5k/29.5k [00:00<00:00, 212kB/s]\n",
            "100%|██████████| 4.42M/4.42M [00:01<00:00, 3.87MB/s]\n",
            "100%|██████████| 5.15k/5.15k [00:00<00:00, 15.1MB/s]\n",
            "/usr/local/lib/python3.11/dist-packages/torch/utils/data/dataloader.py:624: UserWarning: This DataLoader will create 4 worker processes in total. Our suggested max number of worker in current system is 2, which is smaller than what this DataLoader is going to create. Please be aware that excessive worker creation might get DataLoader running slow or even freeze, lower the worker number to avoid potential slowness/freeze if necessary.\n",
            "  warnings.warn(\n"
          ]
        }
      ],
      "source": [
        "batch_size = 256\n",
        "train_iter, test_iter = d2l.load_data_fashion_mnist(batch_size)"
      ]
    },
    {
      "cell_type": "markdown",
      "id": "8236e2cd",
      "metadata": {
        "origin_pos": 6,
        "id": "8236e2cd"
      },
      "source": [
        "## 初始化模型参数\n",
        "\n",
        "回想一下，Fashion-MNIST中的每个图像由\n",
        "$28 \\times 28 = 784$个灰度像素值组成。\n",
        "所有图像共分为10个类别。\n",
        "忽略像素之间的空间结构，\n",
        "我们可以将每个图像视为具有784个输入特征\n",
        "和10个类的简单分类数据集。\n",
        "首先，我们将[**实现一个具有单隐藏层的多层感知机，\n",
        "它包含256个隐藏单元**]。\n",
        "注意，我们可以将这两个变量都视为超参数。\n",
        "通常，我们选择2的若干次幂作为层的宽度。\n",
        "因为内存在硬件中的分配和寻址方式，这么做往往可以在计算上更高效。\n",
        "\n",
        "我们用几个张量来表示我们的参数。\n",
        "注意，对于每一层我们都要记录一个权重矩阵和一个偏置向量。\n",
        "跟以前一样，我们要为损失关于这些参数的梯度分配内存。\n"
      ]
    },
    {
      "cell_type": "code",
      "execution_count": 4,
      "id": "7730f280",
      "metadata": {
        "execution": {
          "iopub.execute_input": "2023-08-18T06:59:24.508163Z",
          "iopub.status.busy": "2023-08-18T06:59:24.506257Z",
          "iopub.status.idle": "2023-08-18T06:59:24.520861Z",
          "shell.execute_reply": "2023-08-18T06:59:24.519861Z"
        },
        "origin_pos": 8,
        "tab": [
          "pytorch"
        ],
        "id": "7730f280"
      },
      "outputs": [],
      "source": [
        "num_inputs, num_outputs, num_hiddens = 784, 10, 256 # 输入层、输出层、隐藏层的神经元个数\n",
        "\n",
        "W1 = nn.Parameter(torch.randn(num_inputs, num_hiddens, requires_grad=True) * 0.01)\n",
        "b1 = nn.Parameter(torch.zeros(num_hiddens, requires_grad=True))\n",
        "W2 = nn.Parameter(torch.randn(num_hiddens, num_outputs, requires_grad=True) * 0.01)\n",
        "b2 = nn.Parameter(torch.zeros(num_outputs, requires_grad=True))\n",
        "\n",
        "params = [W1, b1, W2, b2]"
      ]
    },
    {
      "cell_type": "markdown",
      "id": "2700dfe8",
      "metadata": {
        "origin_pos": 11,
        "id": "2700dfe8"
      },
      "source": [
        "## 激活函数\n",
        "\n",
        "为了确保我们对模型的细节了如指掌，\n",
        "我们将[**实现ReLU激活函数**]，\n",
        "而不是直接调用内置的`relu`函数。\n"
      ]
    },
    {
      "cell_type": "code",
      "execution_count": 5,
      "id": "5f46a813",
      "metadata": {
        "execution": {
          "iopub.execute_input": "2023-08-18T06:59:24.528151Z",
          "iopub.status.busy": "2023-08-18T06:59:24.526356Z",
          "iopub.status.idle": "2023-08-18T06:59:24.533695Z",
          "shell.execute_reply": "2023-08-18T06:59:24.532654Z"
        },
        "origin_pos": 13,
        "tab": [
          "pytorch"
        ],
        "id": "5f46a813"
      },
      "outputs": [],
      "source": [
        "def relu(X):\n",
        "    a = torch.zeros_like(X)\n",
        "    return torch.max(X, a)"
      ]
    },
    {
      "cell_type": "markdown",
      "id": "741dbe39",
      "metadata": {
        "origin_pos": 16,
        "id": "741dbe39"
      },
      "source": [
        "## 模型\n",
        "\n",
        "因为我们忽略了空间结构，\n",
        "所以我们使用`reshape`将每个二维图像转换为一个长度为`num_inputs`的向量。\n",
        "只需几行代码就可以(**实现我们的模型**)。\n"
      ]
    },
    {
      "cell_type": "code",
      "execution_count": 6,
      "id": "b3d9923a",
      "metadata": {
        "execution": {
          "iopub.execute_input": "2023-08-18T06:59:24.541482Z",
          "iopub.status.busy": "2023-08-18T06:59:24.539621Z",
          "iopub.status.idle": "2023-08-18T06:59:24.547435Z",
          "shell.execute_reply": "2023-08-18T06:59:24.546468Z"
        },
        "origin_pos": 18,
        "tab": [
          "pytorch"
        ],
        "id": "b3d9923a"
      },
      "outputs": [],
      "source": [
        "def net(X):\n",
        "    X = X.reshape((-1, num_inputs))\n",
        "    H = relu(X@W1 + b1)  # 这里“@”代表矩阵乘法\n",
        "    return (H@W2 + b2)"
      ]
    },
    {
      "cell_type": "markdown",
      "id": "bd600c14",
      "metadata": {
        "origin_pos": 21,
        "id": "bd600c14"
      },
      "source": [
        "## 损失函数\n",
        "\n",
        "由于我们已经从零实现过softmax函数（ :numref:`sec_softmax_scratch`），\n",
        "因此在这里我们直接使用高级API中的内置函数来计算softmax和交叉熵损失。\n",
        "回想一下我们之前在 :numref:`subsec_softmax-implementation-revisited`中\n",
        "对这些复杂问题的讨论。\n",
        "我们鼓励感兴趣的读者查看损失函数的源代码，以加深对实现细节的了解。\n"
      ]
    },
    {
      "cell_type": "code",
      "execution_count": 7,
      "id": "f55fe0ea",
      "metadata": {
        "execution": {
          "iopub.execute_input": "2023-08-18T06:59:24.554675Z",
          "iopub.status.busy": "2023-08-18T06:59:24.552824Z",
          "iopub.status.idle": "2023-08-18T06:59:24.560084Z",
          "shell.execute_reply": "2023-08-18T06:59:24.559049Z"
        },
        "origin_pos": 23,
        "tab": [
          "pytorch"
        ],
        "id": "f55fe0ea"
      },
      "outputs": [],
      "source": [
        "loss = nn.CrossEntropyLoss(reduction='none')"
      ]
    },
    {
      "cell_type": "markdown",
      "id": "b3a03c3a",
      "metadata": {
        "origin_pos": 25,
        "id": "b3a03c3a"
      },
      "source": [
        "## 训练\n",
        "\n",
        "幸运的是，[**多层感知机的训练过程与softmax回归的训练过程完全相同**]。\n",
        "可以直接调用`d2l`包的`train_ch3`函数（参见 :numref:`sec_softmax_scratch` ），\n",
        "将迭代周期数设置为10，并将学习率设置为0.1.\n"
      ]
    },
    {
      "cell_type": "code",
      "execution_count": 8,
      "id": "c83cc0c7",
      "metadata": {
        "execution": {
          "iopub.execute_input": "2023-08-18T06:59:24.567796Z",
          "iopub.status.busy": "2023-08-18T06:59:24.566005Z",
          "iopub.status.idle": "2023-08-18T07:00:19.750339Z",
          "shell.execute_reply": "2023-08-18T07:00:19.748990Z"
        },
        "origin_pos": 27,
        "tab": [
          "pytorch"
        ],
        "id": "c83cc0c7",
        "outputId": "b0588895-4615-4fd7-e6a3-efe99d7c8931",
        "colab": {
          "base_uri": "https://localhost:8080/",
          "height": 180
        }
      },
      "outputs": [
        {
          "output_type": "error",
          "ename": "AttributeError",
          "evalue": "module 'd2l.torch' has no attribute 'train_ch3'",
          "traceback": [
            "\u001b[0;31m---------------------------------------------------------------------------\u001b[0m",
            "\u001b[0;31mAttributeError\u001b[0m                            Traceback (most recent call last)",
            "\u001b[0;32m<ipython-input-8-c05076c9830f>\u001b[0m in \u001b[0;36m<cell line: 0>\u001b[0;34m()\u001b[0m\n\u001b[1;32m      1\u001b[0m \u001b[0mnum_epochs\u001b[0m\u001b[0;34m,\u001b[0m \u001b[0mlr\u001b[0m \u001b[0;34m=\u001b[0m \u001b[0;36m10\u001b[0m\u001b[0;34m,\u001b[0m \u001b[0;36m0.1\u001b[0m\u001b[0;34m\u001b[0m\u001b[0;34m\u001b[0m\u001b[0m\n\u001b[1;32m      2\u001b[0m \u001b[0mupdater\u001b[0m \u001b[0;34m=\u001b[0m \u001b[0mtorch\u001b[0m\u001b[0;34m.\u001b[0m\u001b[0moptim\u001b[0m\u001b[0;34m.\u001b[0m\u001b[0mSGD\u001b[0m\u001b[0;34m(\u001b[0m\u001b[0mparams\u001b[0m\u001b[0;34m,\u001b[0m \u001b[0mlr\u001b[0m\u001b[0;34m=\u001b[0m\u001b[0mlr\u001b[0m\u001b[0;34m)\u001b[0m\u001b[0;34m\u001b[0m\u001b[0;34m\u001b[0m\u001b[0m\n\u001b[0;32m----> 3\u001b[0;31m \u001b[0md2l\u001b[0m\u001b[0;34m.\u001b[0m\u001b[0mtrain_ch3\u001b[0m\u001b[0;34m(\u001b[0m\u001b[0mnet\u001b[0m\u001b[0;34m,\u001b[0m \u001b[0mtrain_iter\u001b[0m\u001b[0;34m,\u001b[0m \u001b[0mtest_iter\u001b[0m\u001b[0;34m,\u001b[0m \u001b[0mloss\u001b[0m\u001b[0;34m,\u001b[0m \u001b[0mnum_epochs\u001b[0m\u001b[0;34m,\u001b[0m \u001b[0mupdater\u001b[0m\u001b[0;34m)\u001b[0m\u001b[0;34m\u001b[0m\u001b[0;34m\u001b[0m\u001b[0m\n\u001b[0m",
            "\u001b[0;31mAttributeError\u001b[0m: module 'd2l.torch' has no attribute 'train_ch3'"
          ]
        }
      ],
      "source": [
        "num_epochs, lr = 10, 0.1\n",
        "updater = torch.optim.SGD(params, lr=lr)\n",
        "d2l.train_ch3(net, train_iter, test_iter, loss, num_epochs, updater)"
      ]
    },
    {
      "cell_type": "markdown",
      "id": "4da98919",
      "metadata": {
        "origin_pos": 30,
        "id": "4da98919"
      },
      "source": [
        "为了对学习到的模型进行评估，我们将[**在一些测试数据上应用这个模型**]。\n"
      ]
    },
    {
      "cell_type": "code",
      "execution_count": 9,
      "id": "8230ba7c",
      "metadata": {
        "execution": {
          "iopub.execute_input": "2023-08-18T07:00:19.755336Z",
          "iopub.status.busy": "2023-08-18T07:00:19.754506Z",
          "iopub.status.idle": "2023-08-18T07:00:20.323813Z",
          "shell.execute_reply": "2023-08-18T07:00:20.322738Z"
        },
        "origin_pos": 31,
        "tab": [
          "pytorch"
        ],
        "id": "8230ba7c",
        "outputId": "7dd26eba-1631-4dd2-b386-b92a6bad5ea2",
        "colab": {
          "base_uri": "https://localhost:8080/",
          "height": 144
        }
      },
      "outputs": [
        {
          "output_type": "error",
          "ename": "AttributeError",
          "evalue": "module 'd2l.torch' has no attribute 'predict_ch3'",
          "traceback": [
            "\u001b[0;31m---------------------------------------------------------------------------\u001b[0m",
            "\u001b[0;31mAttributeError\u001b[0m                            Traceback (most recent call last)",
            "\u001b[0;32m<ipython-input-9-e2148c027a79>\u001b[0m in \u001b[0;36m<cell line: 0>\u001b[0;34m()\u001b[0m\n\u001b[0;32m----> 1\u001b[0;31m \u001b[0md2l\u001b[0m\u001b[0;34m.\u001b[0m\u001b[0mpredict_ch3\u001b[0m\u001b[0;34m(\u001b[0m\u001b[0mnet\u001b[0m\u001b[0;34m,\u001b[0m \u001b[0mtest_iter\u001b[0m\u001b[0;34m)\u001b[0m\u001b[0;34m\u001b[0m\u001b[0;34m\u001b[0m\u001b[0m\n\u001b[0m",
            "\u001b[0;31mAttributeError\u001b[0m: module 'd2l.torch' has no attribute 'predict_ch3'"
          ]
        }
      ],
      "source": [
        "d2l.predict_ch3(net, test_iter)"
      ]
    },
    {
      "cell_type": "markdown",
      "id": "c97420c6",
      "metadata": {
        "origin_pos": 32,
        "id": "c97420c6"
      },
      "source": [
        "## 小结\n",
        "\n",
        "* 手动实现一个简单的多层感知机是很容易的。然而如果有大量的层，从零开始实现多层感知机会变得很麻烦（例如，要命名和记录模型的参数）。\n",
        "\n"
      ]
    },
    {
      "cell_type": "markdown",
      "source": [
        "## 练习\n",
        "\n",
        "1. 在所有其他参数保持不变的情况下，更改超参数`num_hiddens`的值，并查看此超参数的变化对结果有何影响。确定此超参数的最佳值。\n",
        "1. 尝试添加更多的隐藏层，并查看它对结果有何影响。\n",
        "1. 改变学习速率会如何影响结果？保持模型架构和其他超参数（包括轮数）不变，学习率设置为多少会带来最好的结果？\n",
        "1. 通过对所有超参数（学习率、轮数、隐藏层数、每层的隐藏单元数）进行联合优化，可以得到的最佳结果是什么？\n",
        "1. 描述为什么涉及多个超参数更具挑战性。\n",
        "1. 如果想要构建多个超参数的搜索方法，请想出一个聪明的策略。\n"
      ],
      "metadata": {
        "id": "IM8Gp5vfZJTW"
      },
      "id": "IM8Gp5vfZJTW"
    },
    {
      "cell_type": "markdown",
      "id": "d0e00850",
      "metadata": {
        "origin_pos": 34,
        "tab": [
          "pytorch"
        ],
        "id": "d0e00850"
      },
      "source": [
        "[Discussions](https://discuss.d2l.ai/t/1804)\n"
      ]
    }
  ],
  "metadata": {
    "kernelspec": {
      "display_name": "Python 3",
      "name": "python3"
    },
    "language_info": {
      "name": "python"
    },
    "required_libs": [],
    "colab": {
      "provenance": []
    }
  },
  "nbformat": 4,
  "nbformat_minor": 5
}