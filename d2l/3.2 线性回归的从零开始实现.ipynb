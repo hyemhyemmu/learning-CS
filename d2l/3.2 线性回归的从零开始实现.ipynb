{
  "cells": [
    {
      "cell_type": "markdown",
      "id": "3b3e0a72",
      "metadata": {
        "origin_pos": 0,
        "id": "3b3e0a72"
      },
      "source": [
        "# 线性回归的从零开始实现\n",
        ":label:`sec_linear_scratch`\n",
        "\n",
        "在了解线性回归的关键思想之后，我们可以开始通过代码来动手实现线性回归了。\n",
        "在这一节中，(**我们将从零开始实现整个方法，\n",
        "包括数据流水线、模型、损失函数和小批量随机梯度下降优化器**)。\n",
        "虽然现代的深度学习框架几乎可以自动化地进行所有这些工作，但从零开始实现可以确保我们真正知道自己在做什么。\n",
        "同时，了解更细致的工作原理将方便我们自定义模型、自定义层或自定义损失函数。\n",
        "在这一节中，我们将只使用张量和自动求导。\n",
        "在之后的章节中，我们会充分利用深度学习框架的优势，介绍更简洁的实现方式。\n"
      ]
    },
    {
      "cell_type": "code",
      "execution_count": 1,
      "id": "c6f4cd71",
      "metadata": {
        "execution": {
          "iopub.execute_input": "2023-08-18T07:02:01.462670Z",
          "iopub.status.busy": "2023-08-18T07:02:01.461918Z",
          "iopub.status.idle": "2023-08-18T07:02:04.547486Z",
          "shell.execute_reply": "2023-08-18T07:02:04.546281Z"
        },
        "origin_pos": 2,
        "tab": [
          "pytorch"
        ],
        "id": "c6f4cd71",
        "colab": {
          "base_uri": "https://localhost:8080/"
        },
        "collapsed": true,
        "outputId": "2b23ce8e-e39b-40cd-e54e-81733e46db12"
      },
      "outputs": [
        {
          "output_type": "stream",
          "name": "stdout",
          "text": [
            "Requirement already satisfied: d2l in /usr/local/lib/python3.11/dist-packages (1.0.3)\n",
            "Requirement already satisfied: jupyter==1.0.0 in /usr/local/lib/python3.11/dist-packages (from d2l) (1.0.0)\n",
            "Requirement already satisfied: numpy==1.23.5 in /usr/local/lib/python3.11/dist-packages (from d2l) (1.23.5)\n",
            "Requirement already satisfied: matplotlib==3.7.2 in /usr/local/lib/python3.11/dist-packages (from d2l) (3.7.2)\n",
            "Requirement already satisfied: matplotlib-inline==0.1.6 in /usr/local/lib/python3.11/dist-packages (from d2l) (0.1.6)\n",
            "Requirement already satisfied: requests==2.31.0 in /usr/local/lib/python3.11/dist-packages (from d2l) (2.31.0)\n",
            "Requirement already satisfied: pandas==2.0.3 in /usr/local/lib/python3.11/dist-packages (from d2l) (2.0.3)\n",
            "Requirement already satisfied: scipy==1.10.1 in /usr/local/lib/python3.11/dist-packages (from d2l) (1.10.1)\n",
            "Requirement already satisfied: notebook in /usr/local/lib/python3.11/dist-packages (from jupyter==1.0.0->d2l) (6.5.7)\n",
            "Requirement already satisfied: qtconsole in /usr/local/lib/python3.11/dist-packages (from jupyter==1.0.0->d2l) (5.6.1)\n",
            "Requirement already satisfied: jupyter-console in /usr/local/lib/python3.11/dist-packages (from jupyter==1.0.0->d2l) (6.1.0)\n",
            "Requirement already satisfied: nbconvert in /usr/local/lib/python3.11/dist-packages (from jupyter==1.0.0->d2l) (7.16.6)\n",
            "Requirement already satisfied: ipykernel in /usr/local/lib/python3.11/dist-packages (from jupyter==1.0.0->d2l) (6.17.1)\n",
            "Requirement already satisfied: ipywidgets in /usr/local/lib/python3.11/dist-packages (from jupyter==1.0.0->d2l) (7.7.1)\n",
            "Requirement already satisfied: contourpy>=1.0.1 in /usr/local/lib/python3.11/dist-packages (from matplotlib==3.7.2->d2l) (1.3.1)\n",
            "Requirement already satisfied: cycler>=0.10 in /usr/local/lib/python3.11/dist-packages (from matplotlib==3.7.2->d2l) (0.12.1)\n",
            "Requirement already satisfied: fonttools>=4.22.0 in /usr/local/lib/python3.11/dist-packages (from matplotlib==3.7.2->d2l) (4.56.0)\n",
            "Requirement already satisfied: kiwisolver>=1.0.1 in /usr/local/lib/python3.11/dist-packages (from matplotlib==3.7.2->d2l) (1.4.8)\n",
            "Requirement already satisfied: packaging>=20.0 in /usr/local/lib/python3.11/dist-packages (from matplotlib==3.7.2->d2l) (24.2)\n",
            "Requirement already satisfied: pillow>=6.2.0 in /usr/local/lib/python3.11/dist-packages (from matplotlib==3.7.2->d2l) (11.1.0)\n",
            "Requirement already satisfied: pyparsing<3.1,>=2.3.1 in /usr/local/lib/python3.11/dist-packages (from matplotlib==3.7.2->d2l) (3.0.9)\n",
            "Requirement already satisfied: python-dateutil>=2.7 in /usr/local/lib/python3.11/dist-packages (from matplotlib==3.7.2->d2l) (2.8.2)\n",
            "Requirement already satisfied: traitlets in /usr/local/lib/python3.11/dist-packages (from matplotlib-inline==0.1.6->d2l) (5.7.1)\n",
            "Requirement already satisfied: pytz>=2020.1 in /usr/local/lib/python3.11/dist-packages (from pandas==2.0.3->d2l) (2025.2)\n",
            "Requirement already satisfied: tzdata>=2022.1 in /usr/local/lib/python3.11/dist-packages (from pandas==2.0.3->d2l) (2025.2)\n",
            "Requirement already satisfied: charset-normalizer<4,>=2 in /usr/local/lib/python3.11/dist-packages (from requests==2.31.0->d2l) (3.4.1)\n",
            "Requirement already satisfied: idna<4,>=2.5 in /usr/local/lib/python3.11/dist-packages (from requests==2.31.0->d2l) (3.10)\n",
            "Requirement already satisfied: urllib3<3,>=1.21.1 in /usr/local/lib/python3.11/dist-packages (from requests==2.31.0->d2l) (2.3.0)\n",
            "Requirement already satisfied: certifi>=2017.4.17 in /usr/local/lib/python3.11/dist-packages (from requests==2.31.0->d2l) (2025.1.31)\n",
            "Requirement already satisfied: six>=1.5 in /usr/local/lib/python3.11/dist-packages (from python-dateutil>=2.7->matplotlib==3.7.2->d2l) (1.17.0)\n",
            "Requirement already satisfied: debugpy>=1.0 in /usr/local/lib/python3.11/dist-packages (from ipykernel->jupyter==1.0.0->d2l) (1.8.0)\n",
            "Requirement already satisfied: ipython>=7.23.1 in /usr/local/lib/python3.11/dist-packages (from ipykernel->jupyter==1.0.0->d2l) (7.34.0)\n",
            "Requirement already satisfied: jupyter-client>=6.1.12 in /usr/local/lib/python3.11/dist-packages (from ipykernel->jupyter==1.0.0->d2l) (6.1.12)\n",
            "Requirement already satisfied: nest-asyncio in /usr/local/lib/python3.11/dist-packages (from ipykernel->jupyter==1.0.0->d2l) (1.6.0)\n",
            "Requirement already satisfied: psutil in /usr/local/lib/python3.11/dist-packages (from ipykernel->jupyter==1.0.0->d2l) (5.9.5)\n",
            "Requirement already satisfied: pyzmq>=17 in /usr/local/lib/python3.11/dist-packages (from ipykernel->jupyter==1.0.0->d2l) (24.0.1)\n",
            "Requirement already satisfied: tornado>=6.1 in /usr/local/lib/python3.11/dist-packages (from ipykernel->jupyter==1.0.0->d2l) (6.4.2)\n",
            "Requirement already satisfied: ipython-genutils~=0.2.0 in /usr/local/lib/python3.11/dist-packages (from ipywidgets->jupyter==1.0.0->d2l) (0.2.0)\n",
            "Requirement already satisfied: widgetsnbextension~=3.6.0 in /usr/local/lib/python3.11/dist-packages (from ipywidgets->jupyter==1.0.0->d2l) (3.6.10)\n",
            "Requirement already satisfied: jupyterlab-widgets>=1.0.0 in /usr/local/lib/python3.11/dist-packages (from ipywidgets->jupyter==1.0.0->d2l) (3.0.13)\n",
            "Requirement already satisfied: prompt-toolkit!=3.0.0,!=3.0.1,<3.1.0,>=2.0.0 in /usr/local/lib/python3.11/dist-packages (from jupyter-console->jupyter==1.0.0->d2l) (3.0.50)\n",
            "Requirement already satisfied: pygments in /usr/local/lib/python3.11/dist-packages (from jupyter-console->jupyter==1.0.0->d2l) (2.18.0)\n",
            "Requirement already satisfied: beautifulsoup4 in /usr/local/lib/python3.11/dist-packages (from nbconvert->jupyter==1.0.0->d2l) (4.13.3)\n",
            "Requirement already satisfied: bleach!=5.0.0 in /usr/local/lib/python3.11/dist-packages (from bleach[css]!=5.0.0->nbconvert->jupyter==1.0.0->d2l) (6.2.0)\n",
            "Requirement already satisfied: defusedxml in /usr/local/lib/python3.11/dist-packages (from nbconvert->jupyter==1.0.0->d2l) (0.7.1)\n",
            "Requirement already satisfied: jinja2>=3.0 in /usr/local/lib/python3.11/dist-packages (from nbconvert->jupyter==1.0.0->d2l) (3.1.6)\n",
            "Requirement already satisfied: jupyter-core>=4.7 in /usr/local/lib/python3.11/dist-packages (from nbconvert->jupyter==1.0.0->d2l) (5.7.2)\n",
            "Requirement already satisfied: jupyterlab-pygments in /usr/local/lib/python3.11/dist-packages (from nbconvert->jupyter==1.0.0->d2l) (0.3.0)\n",
            "Requirement already satisfied: markupsafe>=2.0 in /usr/local/lib/python3.11/dist-packages (from nbconvert->jupyter==1.0.0->d2l) (3.0.2)\n",
            "Requirement already satisfied: mistune<4,>=2.0.3 in /usr/local/lib/python3.11/dist-packages (from nbconvert->jupyter==1.0.0->d2l) (3.1.3)\n",
            "Requirement already satisfied: nbclient>=0.5.0 in /usr/local/lib/python3.11/dist-packages (from nbconvert->jupyter==1.0.0->d2l) (0.10.2)\n",
            "Requirement already satisfied: nbformat>=5.7 in /usr/local/lib/python3.11/dist-packages (from nbconvert->jupyter==1.0.0->d2l) (5.10.4)\n",
            "Requirement already satisfied: pandocfilters>=1.4.1 in /usr/local/lib/python3.11/dist-packages (from nbconvert->jupyter==1.0.0->d2l) (1.5.1)\n",
            "Requirement already satisfied: argon2-cffi in /usr/local/lib/python3.11/dist-packages (from notebook->jupyter==1.0.0->d2l) (23.1.0)\n",
            "Requirement already satisfied: Send2Trash>=1.8.0 in /usr/local/lib/python3.11/dist-packages (from notebook->jupyter==1.0.0->d2l) (1.8.3)\n",
            "Requirement already satisfied: terminado>=0.8.3 in /usr/local/lib/python3.11/dist-packages (from notebook->jupyter==1.0.0->d2l) (0.18.1)\n",
            "Requirement already satisfied: prometheus-client in /usr/local/lib/python3.11/dist-packages (from notebook->jupyter==1.0.0->d2l) (0.21.1)\n",
            "Requirement already satisfied: nbclassic>=0.4.7 in /usr/local/lib/python3.11/dist-packages (from notebook->jupyter==1.0.0->d2l) (1.2.0)\n",
            "Requirement already satisfied: qtpy>=2.4.0 in /usr/local/lib/python3.11/dist-packages (from qtconsole->jupyter==1.0.0->d2l) (2.4.3)\n",
            "Requirement already satisfied: webencodings in /usr/local/lib/python3.11/dist-packages (from bleach!=5.0.0->bleach[css]!=5.0.0->nbconvert->jupyter==1.0.0->d2l) (0.5.1)\n",
            "Requirement already satisfied: tinycss2<1.5,>=1.1.0 in /usr/local/lib/python3.11/dist-packages (from bleach[css]!=5.0.0->nbconvert->jupyter==1.0.0->d2l) (1.4.0)\n",
            "Requirement already satisfied: setuptools>=18.5 in /usr/local/lib/python3.11/dist-packages (from ipython>=7.23.1->ipykernel->jupyter==1.0.0->d2l) (75.2.0)\n",
            "Requirement already satisfied: jedi>=0.16 in /usr/local/lib/python3.11/dist-packages (from ipython>=7.23.1->ipykernel->jupyter==1.0.0->d2l) (0.19.2)\n",
            "Requirement already satisfied: decorator in /usr/local/lib/python3.11/dist-packages (from ipython>=7.23.1->ipykernel->jupyter==1.0.0->d2l) (4.4.2)\n",
            "Requirement already satisfied: pickleshare in /usr/local/lib/python3.11/dist-packages (from ipython>=7.23.1->ipykernel->jupyter==1.0.0->d2l) (0.7.5)\n",
            "Requirement already satisfied: backcall in /usr/local/lib/python3.11/dist-packages (from ipython>=7.23.1->ipykernel->jupyter==1.0.0->d2l) (0.2.0)\n",
            "Requirement already satisfied: pexpect>4.3 in /usr/local/lib/python3.11/dist-packages (from ipython>=7.23.1->ipykernel->jupyter==1.0.0->d2l) (4.9.0)\n",
            "Requirement already satisfied: platformdirs>=2.5 in /usr/local/lib/python3.11/dist-packages (from jupyter-core>=4.7->nbconvert->jupyter==1.0.0->d2l) (4.3.7)\n",
            "Requirement already satisfied: notebook-shim>=0.2.3 in /usr/local/lib/python3.11/dist-packages (from nbclassic>=0.4.7->notebook->jupyter==1.0.0->d2l) (0.2.4)\n",
            "Requirement already satisfied: fastjsonschema>=2.15 in /usr/local/lib/python3.11/dist-packages (from nbformat>=5.7->nbconvert->jupyter==1.0.0->d2l) (2.21.1)\n",
            "Requirement already satisfied: jsonschema>=2.6 in /usr/local/lib/python3.11/dist-packages (from nbformat>=5.7->nbconvert->jupyter==1.0.0->d2l) (4.23.0)\n",
            "Requirement already satisfied: wcwidth in /usr/local/lib/python3.11/dist-packages (from prompt-toolkit!=3.0.0,!=3.0.1,<3.1.0,>=2.0.0->jupyter-console->jupyter==1.0.0->d2l) (0.2.13)\n",
            "Requirement already satisfied: ptyprocess in /usr/local/lib/python3.11/dist-packages (from terminado>=0.8.3->notebook->jupyter==1.0.0->d2l) (0.7.0)\n",
            "Requirement already satisfied: argon2-cffi-bindings in /usr/local/lib/python3.11/dist-packages (from argon2-cffi->notebook->jupyter==1.0.0->d2l) (21.2.0)\n",
            "Requirement already satisfied: soupsieve>1.2 in /usr/local/lib/python3.11/dist-packages (from beautifulsoup4->nbconvert->jupyter==1.0.0->d2l) (2.6)\n",
            "Requirement already satisfied: typing-extensions>=4.0.0 in /usr/local/lib/python3.11/dist-packages (from beautifulsoup4->nbconvert->jupyter==1.0.0->d2l) (4.13.0)\n",
            "Requirement already satisfied: parso<0.9.0,>=0.8.4 in /usr/local/lib/python3.11/dist-packages (from jedi>=0.16->ipython>=7.23.1->ipykernel->jupyter==1.0.0->d2l) (0.8.4)\n",
            "Requirement already satisfied: attrs>=22.2.0 in /usr/local/lib/python3.11/dist-packages (from jsonschema>=2.6->nbformat>=5.7->nbconvert->jupyter==1.0.0->d2l) (25.3.0)\n",
            "Requirement already satisfied: jsonschema-specifications>=2023.03.6 in /usr/local/lib/python3.11/dist-packages (from jsonschema>=2.6->nbformat>=5.7->nbconvert->jupyter==1.0.0->d2l) (2024.10.1)\n",
            "Requirement already satisfied: referencing>=0.28.4 in /usr/local/lib/python3.11/dist-packages (from jsonschema>=2.6->nbformat>=5.7->nbconvert->jupyter==1.0.0->d2l) (0.36.2)\n",
            "Requirement already satisfied: rpds-py>=0.7.1 in /usr/local/lib/python3.11/dist-packages (from jsonschema>=2.6->nbformat>=5.7->nbconvert->jupyter==1.0.0->d2l) (0.24.0)\n",
            "Requirement already satisfied: jupyter-server<3,>=1.8 in /usr/local/lib/python3.11/dist-packages (from notebook-shim>=0.2.3->nbclassic>=0.4.7->notebook->jupyter==1.0.0->d2l) (1.16.0)\n",
            "Requirement already satisfied: cffi>=1.0.1 in /usr/local/lib/python3.11/dist-packages (from argon2-cffi-bindings->argon2-cffi->notebook->jupyter==1.0.0->d2l) (1.17.1)\n",
            "Requirement already satisfied: pycparser in /usr/local/lib/python3.11/dist-packages (from cffi>=1.0.1->argon2-cffi-bindings->argon2-cffi->notebook->jupyter==1.0.0->d2l) (2.22)\n",
            "Requirement already satisfied: anyio>=3.1.0 in /usr/local/lib/python3.11/dist-packages (from jupyter-server<3,>=1.8->notebook-shim>=0.2.3->nbclassic>=0.4.7->notebook->jupyter==1.0.0->d2l) (4.9.0)\n",
            "Requirement already satisfied: websocket-client in /usr/local/lib/python3.11/dist-packages (from jupyter-server<3,>=1.8->notebook-shim>=0.2.3->nbclassic>=0.4.7->notebook->jupyter==1.0.0->d2l) (1.8.0)\n",
            "Requirement already satisfied: sniffio>=1.1 in /usr/local/lib/python3.11/dist-packages (from anyio>=3.1.0->jupyter-server<3,>=1.8->notebook-shim>=0.2.3->nbclassic>=0.4.7->notebook->jupyter==1.0.0->d2l) (1.3.1)\n"
          ]
        }
      ],
      "source": [
        "%matplotlib inline\n",
        "!pip install d2l\n",
        "import random\n",
        "import torch\n",
        "from d2l import torch as d2l"
      ]
    },
    {
      "cell_type": "markdown",
      "id": "18283191",
      "metadata": {
        "origin_pos": 5,
        "id": "18283191"
      },
      "source": [
        "## 生成数据集\n",
        "\n",
        "为了简单起见，我们将[**根据带有噪声的线性模型构造一个人造数据集。**]\n",
        "我们的任务是使用这个有限样本的数据集来恢复这个模型的参数。\n",
        "我们将使用低维数据，这样可以很容易地将其可视化。\n",
        "在下面的代码中，我们生成一个包含1000个样本的数据集，\n",
        "每个样本包含从标准正态分布中采样的2个特征。\n",
        "我们的合成数据集是一个矩阵$\\mathbf{X}\\in \\mathbb{R}^{1000 \\times 2}$。\n",
        "\n",
        "(**我们使用线性模型参数$\\mathbf{w} = [2, -3.4]^\\top$、$b = 4.2$\n",
        "和噪声项$\\epsilon$生成数据集及其标签：\n",
        "\n",
        "$$\\mathbf{y}= \\mathbf{X} \\mathbf{w} + b + \\mathbf\\epsilon.$$\n",
        "**)\n",
        "\n",
        "$\\epsilon$可以视为模型预测和标签时的潜在观测误差。\n",
        "在这里我们认为标准假设成立，即$\\epsilon$服从均值为0的正态分布。\n",
        "为了简化问题，我们将标准差设为0.01。\n",
        "下面的代码生成合成数据集。\n"
      ]
    },
    {
      "cell_type": "code",
      "execution_count": 39,
      "id": "54efeafe",
      "metadata": {
        "execution": {
          "iopub.execute_input": "2023-08-18T07:02:04.553500Z",
          "iopub.status.busy": "2023-08-18T07:02:04.552544Z",
          "iopub.status.idle": "2023-08-18T07:02:04.560226Z",
          "shell.execute_reply": "2023-08-18T07:02:04.559125Z"
        },
        "origin_pos": 6,
        "tab": [
          "pytorch"
        ],
        "id": "54efeafe"
      },
      "outputs": [],
      "source": [
        "def synthetic_data(w, b, num_examples):  #@save\n",
        "    \"\"\"生成y=Xw+b+噪声\"\"\"\n",
        "    X = torch.normal(0, 1, (num_examples, len(w)))\n",
        "    y = torch.matmul(X, w) + b\n",
        "    y += torch.normal(0, 0.01, y.shape)\n",
        "    return X, y.reshape((-1, 1))"
      ]
    },
    {
      "cell_type": "code",
      "execution_count": 41,
      "id": "1e60261c",
      "metadata": {
        "execution": {
          "iopub.execute_input": "2023-08-18T07:02:04.564932Z",
          "iopub.status.busy": "2023-08-18T07:02:04.564190Z",
          "iopub.status.idle": "2023-08-18T07:02:04.575309Z",
          "shell.execute_reply": "2023-08-18T07:02:04.574216Z"
        },
        "origin_pos": 8,
        "tab": [
          "pytorch"
        ],
        "id": "1e60261c"
      },
      "outputs": [],
      "source": [
        "true_w = torch.tensor([2, -3.4])\n",
        "true_b = 4.2\n",
        "features, labels = synthetic_data(true_w, true_b, 1000)"
      ]
    },
    {
      "cell_type": "markdown",
      "id": "772256cb",
      "metadata": {
        "origin_pos": 9,
        "id": "772256cb"
      },
      "source": [
        "注意，[**`features`中的每一行都包含一个二维数据样本，\n",
        "`labels`中的每一行都包含一维标签值（一个标量）**]。\n"
      ]
    },
    {
      "cell_type": "code",
      "execution_count": 42,
      "id": "ec13e4f8",
      "metadata": {
        "execution": {
          "iopub.execute_input": "2023-08-18T07:02:04.580067Z",
          "iopub.status.busy": "2023-08-18T07:02:04.579449Z",
          "iopub.status.idle": "2023-08-18T07:02:04.587391Z",
          "shell.execute_reply": "2023-08-18T07:02:04.586306Z"
        },
        "origin_pos": 10,
        "tab": [
          "pytorch"
        ],
        "id": "ec13e4f8",
        "outputId": "e438aef8-06db-4310-e145-54d8aeeecf5f",
        "colab": {
          "base_uri": "https://localhost:8080/"
        }
      },
      "outputs": [
        {
          "output_type": "stream",
          "name": "stdout",
          "text": [
            "features: tensor([0.9388, 0.4500]) \n",
            "label: tensor([4.5422])\n"
          ]
        }
      ],
      "source": [
        "print('features:', features[0],'\\nlabel:', labels[0])"
      ]
    },
    {
      "cell_type": "markdown",
      "id": "6b8c624b",
      "metadata": {
        "origin_pos": 11,
        "id": "6b8c624b"
      },
      "source": [
        "通过生成第二个特征`features[:, 1]`和`labels`的散点图，\n",
        "可以直观观察到两者之间的线性关系。\n"
      ]
    },
    {
      "cell_type": "code",
      "execution_count": 43,
      "id": "53ef493c",
      "metadata": {
        "execution": {
          "iopub.execute_input": "2023-08-18T07:02:04.592131Z",
          "iopub.status.busy": "2023-08-18T07:02:04.591402Z",
          "iopub.status.idle": "2023-08-18T07:02:04.829190Z",
          "shell.execute_reply": "2023-08-18T07:02:04.827927Z"
        },
        "origin_pos": 12,
        "tab": [
          "pytorch"
        ],
        "id": "53ef493c",
        "outputId": "15c2a012-5bb8-457e-c304-601e8123b117",
        "colab": {
          "base_uri": "https://localhost:8080/",
          "height": 247
        }
      },
      "outputs": [
        {
          "output_type": "display_data",
          "data": {
            "text/plain": [
              "<Figure size 350x250 with 1 Axes>"
            ],
            "image/svg+xml": "<?xml version=\"1.0\" encoding=\"utf-8\" standalone=\"no\"?>\n<!DOCTYPE svg PUBLIC \"-//W3C//DTD SVG 1.1//EN\"\n  \"http://www.w3.org/Graphics/SVG/1.1/DTD/svg11.dtd\">\n<svg xmlns:xlink=\"http://www.w3.org/1999/xlink\" width=\"231.442187pt\" height=\"169.678125pt\" viewBox=\"0 0 231.442187 169.678125\" xmlns=\"http://www.w3.org/2000/svg\" version=\"1.1\">\n <metadata>\n  <rdf:RDF xmlns:dc=\"http://purl.org/dc/elements/1.1/\" xmlns:cc=\"http://creativecommons.org/ns#\" xmlns:rdf=\"http://www.w3.org/1999/02/22-rdf-syntax-ns#\">\n   <cc:Work>\n    <dc:type rdf:resource=\"http://purl.org/dc/dcmitype/StillImage\"/>\n    <dc:date>2025-04-02T19:14:52.192008</dc:date>\n    <dc:format>image/svg+xml</dc:format>\n    <dc:creator>\n     <cc:Agent>\n      <dc:title>Matplotlib v3.7.2, https://matplotlib.org/</dc:title>\n     </cc:Agent>\n    </dc:creator>\n   </cc:Work>\n  </rdf:RDF>\n </metadata>\n <defs>\n  <style type=\"text/css\">*{stroke-linejoin: round; stroke-linecap: butt}</style>\n </defs>\n <g id=\"figure_1\">\n  <g id=\"patch_1\">\n   <path d=\"M 0 169.678125 \nL 231.442187 169.678125 \nL 231.442187 0 \nL 0 0 \nz\n\" style=\"fill: #ffffff\"/>\n  </g>\n  <g id=\"axes_1\">\n   <g id=\"patch_2\">\n    <path d=\"M 28.942188 145.8 \nL 224.242188 145.8 \nL 224.242188 7.2 \nL 28.942188 7.2 \nz\n\" style=\"fill: #ffffff\"/>\n   </g>\n   <g id=\"PathCollection_1\">\n    <defs>\n     <path id=\"md21c41be0c\" d=\"M 0 0.5 \nC 0.132602 0.5 0.25979 0.447317 0.353553 0.353553 \nC 0.447317 0.25979 0.5 0.132602 0.5 0 \nC 0.5 -0.132602 0.447317 -0.25979 0.353553 -0.353553 \nC 0.25979 -0.447317 0.132602 -0.5 0 -0.5 \nC -0.132602 -0.5 -0.25979 -0.447317 -0.353553 -0.353553 \nC -0.447317 -0.25979 -0.5 -0.132602 -0.5 0 \nC -0.5 0.132602 -0.447317 0.25979 -0.353553 0.353553 \nC -0.25979 0.447317 -0.132602 0.5 0 0.5 \nz\n\" style=\"stroke: #1f77b4\"/>\n    </defs>\n    <g clip-path=\"url(#p5e62eacdb9)\">\n     <use xlink:href=\"#md21c41be0c\" x=\"143.730392\" y=\"77.548963\" style=\"fill: #1f77b4; stroke: #1f77b4\"/>\n     <use xlink:href=\"#md21c41be0c\" x=\"127.631818\" y=\"83.458661\" style=\"fill: #1f77b4; stroke: #1f77b4\"/>\n     <use xlink:href=\"#md21c41be0c\" x=\"151.129274\" y=\"74.141469\" style=\"fill: #1f77b4; stroke: #1f77b4\"/>\n     <use xlink:href=\"#md21c41be0c\" x=\"122.059277\" y=\"72.114611\" style=\"fill: #1f77b4; stroke: #1f77b4\"/>\n     <use xlink:href=\"#md21c41be0c\" x=\"160.25895\" y=\"102.052612\" style=\"fill: #1f77b4; stroke: #1f77b4\"/>\n     <use xlink:href=\"#md21c41be0c\" x=\"155.142947\" y=\"84.097462\" style=\"fill: #1f77b4; stroke: #1f77b4\"/>\n     <use xlink:href=\"#md21c41be0c\" x=\"124.770505\" y=\"75.612308\" style=\"fill: #1f77b4; stroke: #1f77b4\"/>\n     <use xlink:href=\"#md21c41be0c\" x=\"158.033691\" y=\"84.582692\" style=\"fill: #1f77b4; stroke: #1f77b4\"/>\n     <use xlink:href=\"#md21c41be0c\" x=\"133.320466\" y=\"59.799363\" style=\"fill: #1f77b4; stroke: #1f77b4\"/>\n     <use xlink:href=\"#md21c41be0c\" x=\"159.059174\" y=\"94.566258\" style=\"fill: #1f77b4; stroke: #1f77b4\"/>\n     <use xlink:href=\"#md21c41be0c\" x=\"121.725121\" y=\"62.821881\" style=\"fill: #1f77b4; stroke: #1f77b4\"/>\n     <use xlink:href=\"#md21c41be0c\" x=\"119.726367\" y=\"85.664838\" style=\"fill: #1f77b4; stroke: #1f77b4\"/>\n     <use xlink:href=\"#md21c41be0c\" x=\"149.344893\" y=\"98.568657\" style=\"fill: #1f77b4; stroke: #1f77b4\"/>\n     <use xlink:href=\"#md21c41be0c\" x=\"102.445547\" y=\"68.636606\" style=\"fill: #1f77b4; stroke: #1f77b4\"/>\n     <use xlink:href=\"#md21c41be0c\" x=\"72.213507\" y=\"48.683482\" style=\"fill: #1f77b4; stroke: #1f77b4\"/>\n     <use xlink:href=\"#md21c41be0c\" x=\"103.405603\" y=\"59.856351\" style=\"fill: #1f77b4; stroke: #1f77b4\"/>\n     <use xlink:href=\"#md21c41be0c\" x=\"74.525437\" y=\"35.599768\" style=\"fill: #1f77b4; stroke: #1f77b4\"/>\n     <use xlink:href=\"#md21c41be0c\" x=\"115.508683\" y=\"74.909167\" style=\"fill: #1f77b4; stroke: #1f77b4\"/>\n     <use xlink:href=\"#md21c41be0c\" x=\"118.634108\" y=\"78.648981\" style=\"fill: #1f77b4; stroke: #1f77b4\"/>\n     <use xlink:href=\"#md21c41be0c\" x=\"131.654753\" y=\"79.56277\" style=\"fill: #1f77b4; stroke: #1f77b4\"/>\n     <use xlink:href=\"#md21c41be0c\" x=\"99.741931\" y=\"57.838852\" style=\"fill: #1f77b4; stroke: #1f77b4\"/>\n     <use xlink:href=\"#md21c41be0c\" x=\"107.9449\" y=\"78.411885\" style=\"fill: #1f77b4; stroke: #1f77b4\"/>\n     <use xlink:href=\"#md21c41be0c\" x=\"173.100786\" y=\"101.786737\" style=\"fill: #1f77b4; stroke: #1f77b4\"/>\n     <use xlink:href=\"#md21c41be0c\" x=\"123.68912\" y=\"89.019928\" style=\"fill: #1f77b4; stroke: #1f77b4\"/>\n     <use xlink:href=\"#md21c41be0c\" x=\"190.502146\" y=\"103.401753\" style=\"fill: #1f77b4; stroke: #1f77b4\"/>\n     <use xlink:href=\"#md21c41be0c\" x=\"120.20259\" y=\"79.998992\" style=\"fill: #1f77b4; stroke: #1f77b4\"/>\n     <use xlink:href=\"#md21c41be0c\" x=\"174.611115\" y=\"104.070924\" style=\"fill: #1f77b4; stroke: #1f77b4\"/>\n     <use xlink:href=\"#md21c41be0c\" x=\"143.612592\" y=\"95.385393\" style=\"fill: #1f77b4; stroke: #1f77b4\"/>\n     <use xlink:href=\"#md21c41be0c\" x=\"125.330861\" y=\"70.895993\" style=\"fill: #1f77b4; stroke: #1f77b4\"/>\n     <use xlink:href=\"#md21c41be0c\" x=\"150.184559\" y=\"93.707541\" style=\"fill: #1f77b4; stroke: #1f77b4\"/>\n     <use xlink:href=\"#md21c41be0c\" x=\"55.149263\" y=\"33.602337\" style=\"fill: #1f77b4; stroke: #1f77b4\"/>\n     <use xlink:href=\"#md21c41be0c\" x=\"150.184181\" y=\"98.356066\" style=\"fill: #1f77b4; stroke: #1f77b4\"/>\n     <use xlink:href=\"#md21c41be0c\" x=\"154.440797\" y=\"89.178119\" style=\"fill: #1f77b4; stroke: #1f77b4\"/>\n     <use xlink:href=\"#md21c41be0c\" x=\"104.106109\" y=\"59.119759\" style=\"fill: #1f77b4; stroke: #1f77b4\"/>\n     <use xlink:href=\"#md21c41be0c\" x=\"116.758948\" y=\"71.381977\" style=\"fill: #1f77b4; stroke: #1f77b4\"/>\n     <use xlink:href=\"#md21c41be0c\" x=\"178.429635\" y=\"137.139728\" style=\"fill: #1f77b4; stroke: #1f77b4\"/>\n     <use xlink:href=\"#md21c41be0c\" x=\"74.465521\" y=\"52.937319\" style=\"fill: #1f77b4; stroke: #1f77b4\"/>\n     <use xlink:href=\"#md21c41be0c\" x=\"135.21291\" y=\"86.091496\" style=\"fill: #1f77b4; stroke: #1f77b4\"/>\n     <use xlink:href=\"#md21c41be0c\" x=\"162.714894\" y=\"100.80425\" style=\"fill: #1f77b4; stroke: #1f77b4\"/>\n     <use xlink:href=\"#md21c41be0c\" x=\"137.55146\" y=\"98.185366\" style=\"fill: #1f77b4; stroke: #1f77b4\"/>\n     <use xlink:href=\"#md21c41be0c\" x=\"113.707821\" y=\"77.961808\" style=\"fill: #1f77b4; stroke: #1f77b4\"/>\n     <use xlink:href=\"#md21c41be0c\" x=\"136.952557\" y=\"78.890308\" style=\"fill: #1f77b4; stroke: #1f77b4\"/>\n     <use xlink:href=\"#md21c41be0c\" x=\"108.070224\" y=\"68.841883\" style=\"fill: #1f77b4; stroke: #1f77b4\"/>\n     <use xlink:href=\"#md21c41be0c\" x=\"97.055655\" y=\"59.225589\" style=\"fill: #1f77b4; stroke: #1f77b4\"/>\n     <use xlink:href=\"#md21c41be0c\" x=\"159.903284\" y=\"105.059833\" style=\"fill: #1f77b4; stroke: #1f77b4\"/>\n     <use xlink:href=\"#md21c41be0c\" x=\"97.706969\" y=\"63.927409\" style=\"fill: #1f77b4; stroke: #1f77b4\"/>\n     <use xlink:href=\"#md21c41be0c\" x=\"169.741854\" y=\"102.479251\" style=\"fill: #1f77b4; stroke: #1f77b4\"/>\n     <use xlink:href=\"#md21c41be0c\" x=\"131.051006\" y=\"81.976271\" style=\"fill: #1f77b4; stroke: #1f77b4\"/>\n     <use xlink:href=\"#md21c41be0c\" x=\"100.705069\" y=\"59.732729\" style=\"fill: #1f77b4; stroke: #1f77b4\"/>\n     <use xlink:href=\"#md21c41be0c\" x=\"155.549166\" y=\"84.767688\" style=\"fill: #1f77b4; stroke: #1f77b4\"/>\n     <use xlink:href=\"#md21c41be0c\" x=\"142.267549\" y=\"82.407115\" style=\"fill: #1f77b4; stroke: #1f77b4\"/>\n     <use xlink:href=\"#md21c41be0c\" x=\"140.150736\" y=\"88.916581\" style=\"fill: #1f77b4; stroke: #1f77b4\"/>\n     <use xlink:href=\"#md21c41be0c\" x=\"145.991301\" y=\"87.445851\" style=\"fill: #1f77b4; stroke: #1f77b4\"/>\n     <use xlink:href=\"#md21c41be0c\" x=\"163.447121\" y=\"86.011408\" style=\"fill: #1f77b4; stroke: #1f77b4\"/>\n     <use xlink:href=\"#md21c41be0c\" x=\"121.963709\" y=\"62.712284\" style=\"fill: #1f77b4; stroke: #1f77b4\"/>\n     <use xlink:href=\"#md21c41be0c\" x=\"122.537432\" y=\"71.734427\" style=\"fill: #1f77b4; stroke: #1f77b4\"/>\n     <use xlink:href=\"#md21c41be0c\" x=\"190.670995\" y=\"115.608591\" style=\"fill: #1f77b4; stroke: #1f77b4\"/>\n     <use xlink:href=\"#md21c41be0c\" x=\"109.986405\" y=\"67.425808\" style=\"fill: #1f77b4; stroke: #1f77b4\"/>\n     <use xlink:href=\"#md21c41be0c\" x=\"153.811303\" y=\"105.93461\" style=\"fill: #1f77b4; stroke: #1f77b4\"/>\n     <use xlink:href=\"#md21c41be0c\" x=\"139.202478\" y=\"72.411983\" style=\"fill: #1f77b4; stroke: #1f77b4\"/>\n     <use xlink:href=\"#md21c41be0c\" x=\"145.906599\" y=\"94.537328\" style=\"fill: #1f77b4; stroke: #1f77b4\"/>\n     <use xlink:href=\"#md21c41be0c\" x=\"66.716839\" y=\"37.612159\" style=\"fill: #1f77b4; stroke: #1f77b4\"/>\n     <use xlink:href=\"#md21c41be0c\" x=\"113.52596\" y=\"85.851653\" style=\"fill: #1f77b4; stroke: #1f77b4\"/>\n     <use xlink:href=\"#md21c41be0c\" x=\"130.43126\" y=\"70.902507\" style=\"fill: #1f77b4; stroke: #1f77b4\"/>\n     <use xlink:href=\"#md21c41be0c\" x=\"152.637949\" y=\"100.517527\" style=\"fill: #1f77b4; stroke: #1f77b4\"/>\n     <use xlink:href=\"#md21c41be0c\" x=\"128.05417\" y=\"65.642321\" style=\"fill: #1f77b4; stroke: #1f77b4\"/>\n     <use xlink:href=\"#md21c41be0c\" x=\"153.683115\" y=\"93.727298\" style=\"fill: #1f77b4; stroke: #1f77b4\"/>\n     <use xlink:href=\"#md21c41be0c\" x=\"132.648998\" y=\"77.391705\" style=\"fill: #1f77b4; stroke: #1f77b4\"/>\n     <use xlink:href=\"#md21c41be0c\" x=\"100.556772\" y=\"59.244047\" style=\"fill: #1f77b4; stroke: #1f77b4\"/>\n     <use xlink:href=\"#md21c41be0c\" x=\"135.611237\" y=\"81.447243\" style=\"fill: #1f77b4; stroke: #1f77b4\"/>\n     <use xlink:href=\"#md21c41be0c\" x=\"99.957486\" y=\"69.517994\" style=\"fill: #1f77b4; stroke: #1f77b4\"/>\n     <use xlink:href=\"#md21c41be0c\" x=\"92.236991\" y=\"67.208076\" style=\"fill: #1f77b4; stroke: #1f77b4\"/>\n     <use xlink:href=\"#md21c41be0c\" x=\"89.035644\" y=\"49.453257\" style=\"fill: #1f77b4; stroke: #1f77b4\"/>\n     <use xlink:href=\"#md21c41be0c\" x=\"101.18682\" y=\"88.488385\" style=\"fill: #1f77b4; stroke: #1f77b4\"/>\n     <use xlink:href=\"#md21c41be0c\" x=\"164.23371\" y=\"90.491978\" style=\"fill: #1f77b4; stroke: #1f77b4\"/>\n     <use xlink:href=\"#md21c41be0c\" x=\"80.458422\" y=\"46.715688\" style=\"fill: #1f77b4; stroke: #1f77b4\"/>\n     <use xlink:href=\"#md21c41be0c\" x=\"108.743275\" y=\"48.385588\" style=\"fill: #1f77b4; stroke: #1f77b4\"/>\n     <use xlink:href=\"#md21c41be0c\" x=\"144.082207\" y=\"75.910209\" style=\"fill: #1f77b4; stroke: #1f77b4\"/>\n     <use xlink:href=\"#md21c41be0c\" x=\"145.524635\" y=\"84.136678\" style=\"fill: #1f77b4; stroke: #1f77b4\"/>\n     <use xlink:href=\"#md21c41be0c\" x=\"116.563905\" y=\"75.51246\" style=\"fill: #1f77b4; stroke: #1f77b4\"/>\n     <use xlink:href=\"#md21c41be0c\" x=\"189.962525\" y=\"112.879632\" style=\"fill: #1f77b4; stroke: #1f77b4\"/>\n     <use xlink:href=\"#md21c41be0c\" x=\"133.559632\" y=\"72.794918\" style=\"fill: #1f77b4; stroke: #1f77b4\"/>\n     <use xlink:href=\"#md21c41be0c\" x=\"115.962674\" y=\"54.311042\" style=\"fill: #1f77b4; stroke: #1f77b4\"/>\n     <use xlink:href=\"#md21c41be0c\" x=\"110.828137\" y=\"75.008615\" style=\"fill: #1f77b4; stroke: #1f77b4\"/>\n     <use xlink:href=\"#md21c41be0c\" x=\"106.818451\" y=\"62.465358\" style=\"fill: #1f77b4; stroke: #1f77b4\"/>\n     <use xlink:href=\"#md21c41be0c\" x=\"95.725044\" y=\"56.351239\" style=\"fill: #1f77b4; stroke: #1f77b4\"/>\n     <use xlink:href=\"#md21c41be0c\" x=\"94.992573\" y=\"57.176086\" style=\"fill: #1f77b4; stroke: #1f77b4\"/>\n     <use xlink:href=\"#md21c41be0c\" x=\"151.399746\" y=\"90.401064\" style=\"fill: #1f77b4; stroke: #1f77b4\"/>\n     <use xlink:href=\"#md21c41be0c\" x=\"109.556771\" y=\"51.44523\" style=\"fill: #1f77b4; stroke: #1f77b4\"/>\n     <use xlink:href=\"#md21c41be0c\" x=\"144.799962\" y=\"96.853789\" style=\"fill: #1f77b4; stroke: #1f77b4\"/>\n     <use xlink:href=\"#md21c41be0c\" x=\"154.059559\" y=\"85.951904\" style=\"fill: #1f77b4; stroke: #1f77b4\"/>\n     <use xlink:href=\"#md21c41be0c\" x=\"126.535091\" y=\"70.264335\" style=\"fill: #1f77b4; stroke: #1f77b4\"/>\n     <use xlink:href=\"#md21c41be0c\" x=\"155.889904\" y=\"102.510058\" style=\"fill: #1f77b4; stroke: #1f77b4\"/>\n     <use xlink:href=\"#md21c41be0c\" x=\"109.980703\" y=\"64.12049\" style=\"fill: #1f77b4; stroke: #1f77b4\"/>\n     <use xlink:href=\"#md21c41be0c\" x=\"138.934109\" y=\"86.341721\" style=\"fill: #1f77b4; stroke: #1f77b4\"/>\n     <use xlink:href=\"#md21c41be0c\" x=\"108.114515\" y=\"61.713513\" style=\"fill: #1f77b4; stroke: #1f77b4\"/>\n     <use xlink:href=\"#md21c41be0c\" x=\"157.775487\" y=\"91.393467\" style=\"fill: #1f77b4; stroke: #1f77b4\"/>\n     <use xlink:href=\"#md21c41be0c\" x=\"147.925809\" y=\"81.226234\" style=\"fill: #1f77b4; stroke: #1f77b4\"/>\n     <use xlink:href=\"#md21c41be0c\" x=\"108.738834\" y=\"80.310362\" style=\"fill: #1f77b4; stroke: #1f77b4\"/>\n     <use xlink:href=\"#md21c41be0c\" x=\"134.301546\" y=\"62.31103\" style=\"fill: #1f77b4; stroke: #1f77b4\"/>\n     <use xlink:href=\"#md21c41be0c\" x=\"87.495835\" y=\"68.52689\" style=\"fill: #1f77b4; stroke: #1f77b4\"/>\n     <use xlink:href=\"#md21c41be0c\" x=\"135.005916\" y=\"86.462937\" style=\"fill: #1f77b4; stroke: #1f77b4\"/>\n     <use xlink:href=\"#md21c41be0c\" x=\"74.833356\" y=\"62.387284\" style=\"fill: #1f77b4; stroke: #1f77b4\"/>\n     <use xlink:href=\"#md21c41be0c\" x=\"77.153575\" y=\"25.328261\" style=\"fill: #1f77b4; stroke: #1f77b4\"/>\n     <use xlink:href=\"#md21c41be0c\" x=\"101.820049\" y=\"64.075347\" style=\"fill: #1f77b4; stroke: #1f77b4\"/>\n     <use xlink:href=\"#md21c41be0c\" x=\"139.99704\" y=\"70.690235\" style=\"fill: #1f77b4; stroke: #1f77b4\"/>\n     <use xlink:href=\"#md21c41be0c\" x=\"183.837563\" y=\"105.441143\" style=\"fill: #1f77b4; stroke: #1f77b4\"/>\n     <use xlink:href=\"#md21c41be0c\" x=\"180.070699\" y=\"87.944196\" style=\"fill: #1f77b4; stroke: #1f77b4\"/>\n     <use xlink:href=\"#md21c41be0c\" x=\"87.581885\" y=\"57.663009\" style=\"fill: #1f77b4; stroke: #1f77b4\"/>\n     <use xlink:href=\"#md21c41be0c\" x=\"127.774809\" y=\"76.721821\" style=\"fill: #1f77b4; stroke: #1f77b4\"/>\n     <use xlink:href=\"#md21c41be0c\" x=\"176.560154\" y=\"101.281141\" style=\"fill: #1f77b4; stroke: #1f77b4\"/>\n     <use xlink:href=\"#md21c41be0c\" x=\"147.844369\" y=\"80.623888\" style=\"fill: #1f77b4; stroke: #1f77b4\"/>\n     <use xlink:href=\"#md21c41be0c\" x=\"100.972323\" y=\"59.587682\" style=\"fill: #1f77b4; stroke: #1f77b4\"/>\n     <use xlink:href=\"#md21c41be0c\" x=\"91.108283\" y=\"65.938727\" style=\"fill: #1f77b4; stroke: #1f77b4\"/>\n     <use xlink:href=\"#md21c41be0c\" x=\"125.871395\" y=\"84.457867\" style=\"fill: #1f77b4; stroke: #1f77b4\"/>\n     <use xlink:href=\"#md21c41be0c\" x=\"90.562912\" y=\"50.71493\" style=\"fill: #1f77b4; stroke: #1f77b4\"/>\n     <use xlink:href=\"#md21c41be0c\" x=\"106.150615\" y=\"70.65952\" style=\"fill: #1f77b4; stroke: #1f77b4\"/>\n     <use xlink:href=\"#md21c41be0c\" x=\"100.013081\" y=\"70.397632\" style=\"fill: #1f77b4; stroke: #1f77b4\"/>\n     <use xlink:href=\"#md21c41be0c\" x=\"129.466423\" y=\"83.003434\" style=\"fill: #1f77b4; stroke: #1f77b4\"/>\n     <use xlink:href=\"#md21c41be0c\" x=\"144.803599\" y=\"80.930976\" style=\"fill: #1f77b4; stroke: #1f77b4\"/>\n     <use xlink:href=\"#md21c41be0c\" x=\"144.391468\" y=\"98.083867\" style=\"fill: #1f77b4; stroke: #1f77b4\"/>\n     <use xlink:href=\"#md21c41be0c\" x=\"158.132327\" y=\"100.060542\" style=\"fill: #1f77b4; stroke: #1f77b4\"/>\n     <use xlink:href=\"#md21c41be0c\" x=\"112.25347\" y=\"50.977853\" style=\"fill: #1f77b4; stroke: #1f77b4\"/>\n     <use xlink:href=\"#md21c41be0c\" x=\"94.123236\" y=\"49.538718\" style=\"fill: #1f77b4; stroke: #1f77b4\"/>\n     <use xlink:href=\"#md21c41be0c\" x=\"163.787331\" y=\"93.504885\" style=\"fill: #1f77b4; stroke: #1f77b4\"/>\n     <use xlink:href=\"#md21c41be0c\" x=\"125.096221\" y=\"80.956422\" style=\"fill: #1f77b4; stroke: #1f77b4\"/>\n     <use xlink:href=\"#md21c41be0c\" x=\"110.111781\" y=\"90.550585\" style=\"fill: #1f77b4; stroke: #1f77b4\"/>\n     <use xlink:href=\"#md21c41be0c\" x=\"118.872916\" y=\"80.751362\" style=\"fill: #1f77b4; stroke: #1f77b4\"/>\n     <use xlink:href=\"#md21c41be0c\" x=\"138.696264\" y=\"74.221709\" style=\"fill: #1f77b4; stroke: #1f77b4\"/>\n     <use xlink:href=\"#md21c41be0c\" x=\"95.730781\" y=\"51.839802\" style=\"fill: #1f77b4; stroke: #1f77b4\"/>\n     <use xlink:href=\"#md21c41be0c\" x=\"124.22597\" y=\"66.910362\" style=\"fill: #1f77b4; stroke: #1f77b4\"/>\n     <use xlink:href=\"#md21c41be0c\" x=\"168.979158\" y=\"110.281383\" style=\"fill: #1f77b4; stroke: #1f77b4\"/>\n     <use xlink:href=\"#md21c41be0c\" x=\"72.50372\" y=\"31.354652\" style=\"fill: #1f77b4; stroke: #1f77b4\"/>\n     <use xlink:href=\"#md21c41be0c\" x=\"144.057271\" y=\"91.777466\" style=\"fill: #1f77b4; stroke: #1f77b4\"/>\n     <use xlink:href=\"#md21c41be0c\" x=\"89.049815\" y=\"50.775392\" style=\"fill: #1f77b4; stroke: #1f77b4\"/>\n     <use xlink:href=\"#md21c41be0c\" x=\"148.816656\" y=\"92.070147\" style=\"fill: #1f77b4; stroke: #1f77b4\"/>\n     <use xlink:href=\"#md21c41be0c\" x=\"171.918721\" y=\"114.504693\" style=\"fill: #1f77b4; stroke: #1f77b4\"/>\n     <use xlink:href=\"#md21c41be0c\" x=\"91.117797\" y=\"55.065761\" style=\"fill: #1f77b4; stroke: #1f77b4\"/>\n     <use xlink:href=\"#md21c41be0c\" x=\"117.473832\" y=\"75.833464\" style=\"fill: #1f77b4; stroke: #1f77b4\"/>\n     <use xlink:href=\"#md21c41be0c\" x=\"151.499806\" y=\"93.377184\" style=\"fill: #1f77b4; stroke: #1f77b4\"/>\n     <use xlink:href=\"#md21c41be0c\" x=\"43.93937\" y=\"32.315652\" style=\"fill: #1f77b4; stroke: #1f77b4\"/>\n     <use xlink:href=\"#md21c41be0c\" x=\"155.599046\" y=\"113.392797\" style=\"fill: #1f77b4; stroke: #1f77b4\"/>\n     <use xlink:href=\"#md21c41be0c\" x=\"171.622922\" y=\"99.668229\" style=\"fill: #1f77b4; stroke: #1f77b4\"/>\n     <use xlink:href=\"#md21c41be0c\" x=\"141.979038\" y=\"86.469499\" style=\"fill: #1f77b4; stroke: #1f77b4\"/>\n     <use xlink:href=\"#md21c41be0c\" x=\"121.464033\" y=\"95.972745\" style=\"fill: #1f77b4; stroke: #1f77b4\"/>\n     <use xlink:href=\"#md21c41be0c\" x=\"77.763382\" y=\"46.875699\" style=\"fill: #1f77b4; stroke: #1f77b4\"/>\n     <use xlink:href=\"#md21c41be0c\" x=\"173.072886\" y=\"96.984185\" style=\"fill: #1f77b4; stroke: #1f77b4\"/>\n     <use xlink:href=\"#md21c41be0c\" x=\"147.352101\" y=\"91.192376\" style=\"fill: #1f77b4; stroke: #1f77b4\"/>\n     <use xlink:href=\"#md21c41be0c\" x=\"112.262197\" y=\"77.748218\" style=\"fill: #1f77b4; stroke: #1f77b4\"/>\n     <use xlink:href=\"#md21c41be0c\" x=\"92.882765\" y=\"59.785141\" style=\"fill: #1f77b4; stroke: #1f77b4\"/>\n     <use xlink:href=\"#md21c41be0c\" x=\"196.464244\" y=\"114.209821\" style=\"fill: #1f77b4; stroke: #1f77b4\"/>\n     <use xlink:href=\"#md21c41be0c\" x=\"155.948654\" y=\"99.505657\" style=\"fill: #1f77b4; stroke: #1f77b4\"/>\n     <use xlink:href=\"#md21c41be0c\" x=\"180.049147\" y=\"102.627324\" style=\"fill: #1f77b4; stroke: #1f77b4\"/>\n     <use xlink:href=\"#md21c41be0c\" x=\"68.440772\" y=\"50.58642\" style=\"fill: #1f77b4; stroke: #1f77b4\"/>\n     <use xlink:href=\"#md21c41be0c\" x=\"134.972772\" y=\"82.454676\" style=\"fill: #1f77b4; stroke: #1f77b4\"/>\n     <use xlink:href=\"#md21c41be0c\" x=\"164.764069\" y=\"87.49353\" style=\"fill: #1f77b4; stroke: #1f77b4\"/>\n     <use xlink:href=\"#md21c41be0c\" x=\"169.770174\" y=\"100.61187\" style=\"fill: #1f77b4; stroke: #1f77b4\"/>\n     <use xlink:href=\"#md21c41be0c\" x=\"156.274131\" y=\"107.689181\" style=\"fill: #1f77b4; stroke: #1f77b4\"/>\n     <use xlink:href=\"#md21c41be0c\" x=\"121.671868\" y=\"96.340604\" style=\"fill: #1f77b4; stroke: #1f77b4\"/>\n     <use xlink:href=\"#md21c41be0c\" x=\"142.227474\" y=\"77.689469\" style=\"fill: #1f77b4; stroke: #1f77b4\"/>\n     <use xlink:href=\"#md21c41be0c\" x=\"116.828165\" y=\"78.495566\" style=\"fill: #1f77b4; stroke: #1f77b4\"/>\n     <use xlink:href=\"#md21c41be0c\" x=\"147.644666\" y=\"97.963347\" style=\"fill: #1f77b4; stroke: #1f77b4\"/>\n     <use xlink:href=\"#md21c41be0c\" x=\"140.62179\" y=\"81.824871\" style=\"fill: #1f77b4; stroke: #1f77b4\"/>\n     <use xlink:href=\"#md21c41be0c\" x=\"152.916041\" y=\"89.261069\" style=\"fill: #1f77b4; stroke: #1f77b4\"/>\n     <use xlink:href=\"#md21c41be0c\" x=\"45.654565\" y=\"13.5\" style=\"fill: #1f77b4; stroke: #1f77b4\"/>\n     <use xlink:href=\"#md21c41be0c\" x=\"74.551392\" y=\"42.685961\" style=\"fill: #1f77b4; stroke: #1f77b4\"/>\n     <use xlink:href=\"#md21c41be0c\" x=\"85.756993\" y=\"47.533773\" style=\"fill: #1f77b4; stroke: #1f77b4\"/>\n     <use xlink:href=\"#md21c41be0c\" x=\"138.441797\" y=\"87.804375\" style=\"fill: #1f77b4; stroke: #1f77b4\"/>\n     <use xlink:href=\"#md21c41be0c\" x=\"99.761933\" y=\"67.716277\" style=\"fill: #1f77b4; stroke: #1f77b4\"/>\n     <use xlink:href=\"#md21c41be0c\" x=\"111.282049\" y=\"63.341654\" style=\"fill: #1f77b4; stroke: #1f77b4\"/>\n     <use xlink:href=\"#md21c41be0c\" x=\"136.577487\" y=\"82.977179\" style=\"fill: #1f77b4; stroke: #1f77b4\"/>\n     <use xlink:href=\"#md21c41be0c\" x=\"179.861096\" y=\"104.394133\" style=\"fill: #1f77b4; stroke: #1f77b4\"/>\n     <use xlink:href=\"#md21c41be0c\" x=\"152.680466\" y=\"102.455192\" style=\"fill: #1f77b4; stroke: #1f77b4\"/>\n     <use xlink:href=\"#md21c41be0c\" x=\"166.927482\" y=\"99.149724\" style=\"fill: #1f77b4; stroke: #1f77b4\"/>\n     <use xlink:href=\"#md21c41be0c\" x=\"120.976993\" y=\"77.047212\" style=\"fill: #1f77b4; stroke: #1f77b4\"/>\n     <use xlink:href=\"#md21c41be0c\" x=\"129.943584\" y=\"65.710771\" style=\"fill: #1f77b4; stroke: #1f77b4\"/>\n     <use xlink:href=\"#md21c41be0c\" x=\"81.115447\" y=\"46.456109\" style=\"fill: #1f77b4; stroke: #1f77b4\"/>\n     <use xlink:href=\"#md21c41be0c\" x=\"108.471072\" y=\"66.690835\" style=\"fill: #1f77b4; stroke: #1f77b4\"/>\n     <use xlink:href=\"#md21c41be0c\" x=\"105.863793\" y=\"89.234173\" style=\"fill: #1f77b4; stroke: #1f77b4\"/>\n     <use xlink:href=\"#md21c41be0c\" x=\"129.463403\" y=\"94.244038\" style=\"fill: #1f77b4; stroke: #1f77b4\"/>\n     <use xlink:href=\"#md21c41be0c\" x=\"158.82566\" y=\"84.141261\" style=\"fill: #1f77b4; stroke: #1f77b4\"/>\n     <use xlink:href=\"#md21c41be0c\" x=\"151.845794\" y=\"109.39129\" style=\"fill: #1f77b4; stroke: #1f77b4\"/>\n     <use xlink:href=\"#md21c41be0c\" x=\"114.937459\" y=\"67.94619\" style=\"fill: #1f77b4; stroke: #1f77b4\"/>\n     <use xlink:href=\"#md21c41be0c\" x=\"109.247043\" y=\"73.003306\" style=\"fill: #1f77b4; stroke: #1f77b4\"/>\n     <use xlink:href=\"#md21c41be0c\" x=\"118.866181\" y=\"78.335529\" style=\"fill: #1f77b4; stroke: #1f77b4\"/>\n     <use xlink:href=\"#md21c41be0c\" x=\"122.613668\" y=\"79.816359\" style=\"fill: #1f77b4; stroke: #1f77b4\"/>\n     <use xlink:href=\"#md21c41be0c\" x=\"144.579083\" y=\"70.897117\" style=\"fill: #1f77b4; stroke: #1f77b4\"/>\n     <use xlink:href=\"#md21c41be0c\" x=\"123.416942\" y=\"76.573837\" style=\"fill: #1f77b4; stroke: #1f77b4\"/>\n     <use xlink:href=\"#md21c41be0c\" x=\"106.526456\" y=\"77.302269\" style=\"fill: #1f77b4; stroke: #1f77b4\"/>\n     <use xlink:href=\"#md21c41be0c\" x=\"146.006639\" y=\"91.545395\" style=\"fill: #1f77b4; stroke: #1f77b4\"/>\n     <use xlink:href=\"#md21c41be0c\" x=\"161.505468\" y=\"96.628302\" style=\"fill: #1f77b4; stroke: #1f77b4\"/>\n     <use xlink:href=\"#md21c41be0c\" x=\"154.125317\" y=\"67.446228\" style=\"fill: #1f77b4; stroke: #1f77b4\"/>\n     <use xlink:href=\"#md21c41be0c\" x=\"83.635807\" y=\"77.330471\" style=\"fill: #1f77b4; stroke: #1f77b4\"/>\n     <use xlink:href=\"#md21c41be0c\" x=\"38.992691\" y=\"38.531615\" style=\"fill: #1f77b4; stroke: #1f77b4\"/>\n     <use xlink:href=\"#md21c41be0c\" x=\"112.092646\" y=\"58.642194\" style=\"fill: #1f77b4; stroke: #1f77b4\"/>\n     <use xlink:href=\"#md21c41be0c\" x=\"76.110355\" y=\"40.585526\" style=\"fill: #1f77b4; stroke: #1f77b4\"/>\n     <use xlink:href=\"#md21c41be0c\" x=\"126.421249\" y=\"74.005903\" style=\"fill: #1f77b4; stroke: #1f77b4\"/>\n     <use xlink:href=\"#md21c41be0c\" x=\"118.396803\" y=\"54.552186\" style=\"fill: #1f77b4; stroke: #1f77b4\"/>\n     <use xlink:href=\"#md21c41be0c\" x=\"158.312676\" y=\"86.918356\" style=\"fill: #1f77b4; stroke: #1f77b4\"/>\n     <use xlink:href=\"#md21c41be0c\" x=\"127.382727\" y=\"89.141821\" style=\"fill: #1f77b4; stroke: #1f77b4\"/>\n     <use xlink:href=\"#md21c41be0c\" x=\"116.090834\" y=\"80.822375\" style=\"fill: #1f77b4; stroke: #1f77b4\"/>\n     <use xlink:href=\"#md21c41be0c\" x=\"114.406523\" y=\"73.77011\" style=\"fill: #1f77b4; stroke: #1f77b4\"/>\n     <use xlink:href=\"#md21c41be0c\" x=\"104.911845\" y=\"65.252965\" style=\"fill: #1f77b4; stroke: #1f77b4\"/>\n     <use xlink:href=\"#md21c41be0c\" x=\"131.766689\" y=\"71.334455\" style=\"fill: #1f77b4; stroke: #1f77b4\"/>\n     <use xlink:href=\"#md21c41be0c\" x=\"192.832755\" y=\"103.652929\" style=\"fill: #1f77b4; stroke: #1f77b4\"/>\n     <use xlink:href=\"#md21c41be0c\" x=\"126.434863\" y=\"70.02318\" style=\"fill: #1f77b4; stroke: #1f77b4\"/>\n     <use xlink:href=\"#md21c41be0c\" x=\"116.93181\" y=\"66.513212\" style=\"fill: #1f77b4; stroke: #1f77b4\"/>\n     <use xlink:href=\"#md21c41be0c\" x=\"151.366726\" y=\"84.475807\" style=\"fill: #1f77b4; stroke: #1f77b4\"/>\n     <use xlink:href=\"#md21c41be0c\" x=\"110.119059\" y=\"89.885971\" style=\"fill: #1f77b4; stroke: #1f77b4\"/>\n     <use xlink:href=\"#md21c41be0c\" x=\"108.080896\" y=\"61.101784\" style=\"fill: #1f77b4; stroke: #1f77b4\"/>\n     <use xlink:href=\"#md21c41be0c\" x=\"163.253516\" y=\"101.248907\" style=\"fill: #1f77b4; stroke: #1f77b4\"/>\n     <use xlink:href=\"#md21c41be0c\" x=\"90.891258\" y=\"53.26288\" style=\"fill: #1f77b4; stroke: #1f77b4\"/>\n     <use xlink:href=\"#md21c41be0c\" x=\"125.943503\" y=\"83.141918\" style=\"fill: #1f77b4; stroke: #1f77b4\"/>\n     <use xlink:href=\"#md21c41be0c\" x=\"184.646465\" y=\"121.406139\" style=\"fill: #1f77b4; stroke: #1f77b4\"/>\n     <use xlink:href=\"#md21c41be0c\" x=\"74.106958\" y=\"58.145347\" style=\"fill: #1f77b4; stroke: #1f77b4\"/>\n     <use xlink:href=\"#md21c41be0c\" x=\"98.824927\" y=\"55.468513\" style=\"fill: #1f77b4; stroke: #1f77b4\"/>\n     <use xlink:href=\"#md21c41be0c\" x=\"95.962039\" y=\"72.81834\" style=\"fill: #1f77b4; stroke: #1f77b4\"/>\n     <use xlink:href=\"#md21c41be0c\" x=\"147.594571\" y=\"82.332987\" style=\"fill: #1f77b4; stroke: #1f77b4\"/>\n     <use xlink:href=\"#md21c41be0c\" x=\"137.139776\" y=\"80.860718\" style=\"fill: #1f77b4; stroke: #1f77b4\"/>\n     <use xlink:href=\"#md21c41be0c\" x=\"157.499665\" y=\"105.915567\" style=\"fill: #1f77b4; stroke: #1f77b4\"/>\n     <use xlink:href=\"#md21c41be0c\" x=\"146.989541\" y=\"71.334586\" style=\"fill: #1f77b4; stroke: #1f77b4\"/>\n     <use xlink:href=\"#md21c41be0c\" x=\"116.619399\" y=\"54.529296\" style=\"fill: #1f77b4; stroke: #1f77b4\"/>\n     <use xlink:href=\"#md21c41be0c\" x=\"60.629073\" y=\"35.11952\" style=\"fill: #1f77b4; stroke: #1f77b4\"/>\n     <use xlink:href=\"#md21c41be0c\" x=\"84.01943\" y=\"53.106837\" style=\"fill: #1f77b4; stroke: #1f77b4\"/>\n     <use xlink:href=\"#md21c41be0c\" x=\"144.762021\" y=\"103.635962\" style=\"fill: #1f77b4; stroke: #1f77b4\"/>\n     <use xlink:href=\"#md21c41be0c\" x=\"99.517092\" y=\"69.513889\" style=\"fill: #1f77b4; stroke: #1f77b4\"/>\n     <use xlink:href=\"#md21c41be0c\" x=\"125.316394\" y=\"66.933942\" style=\"fill: #1f77b4; stroke: #1f77b4\"/>\n     <use xlink:href=\"#md21c41be0c\" x=\"117.030913\" y=\"76.451444\" style=\"fill: #1f77b4; stroke: #1f77b4\"/>\n     <use xlink:href=\"#md21c41be0c\" x=\"141.205084\" y=\"82.64459\" style=\"fill: #1f77b4; stroke: #1f77b4\"/>\n     <use xlink:href=\"#md21c41be0c\" x=\"121.950067\" y=\"87.089136\" style=\"fill: #1f77b4; stroke: #1f77b4\"/>\n     <use xlink:href=\"#md21c41be0c\" x=\"167.710886\" y=\"90.852669\" style=\"fill: #1f77b4; stroke: #1f77b4\"/>\n     <use xlink:href=\"#md21c41be0c\" x=\"58.355477\" y=\"32.638232\" style=\"fill: #1f77b4; stroke: #1f77b4\"/>\n     <use xlink:href=\"#md21c41be0c\" x=\"131.25759\" y=\"83.491588\" style=\"fill: #1f77b4; stroke: #1f77b4\"/>\n     <use xlink:href=\"#md21c41be0c\" x=\"138.343558\" y=\"80.659259\" style=\"fill: #1f77b4; stroke: #1f77b4\"/>\n     <use xlink:href=\"#md21c41be0c\" x=\"147.975131\" y=\"69.960044\" style=\"fill: #1f77b4; stroke: #1f77b4\"/>\n     <use xlink:href=\"#md21c41be0c\" x=\"147.904038\" y=\"91.653051\" style=\"fill: #1f77b4; stroke: #1f77b4\"/>\n     <use xlink:href=\"#md21c41be0c\" x=\"142.143539\" y=\"61.875484\" style=\"fill: #1f77b4; stroke: #1f77b4\"/>\n     <use xlink:href=\"#md21c41be0c\" x=\"99.885452\" y=\"50.377293\" style=\"fill: #1f77b4; stroke: #1f77b4\"/>\n     <use xlink:href=\"#md21c41be0c\" x=\"77.127705\" y=\"62.940992\" style=\"fill: #1f77b4; stroke: #1f77b4\"/>\n     <use xlink:href=\"#md21c41be0c\" x=\"114.811965\" y=\"77.108182\" style=\"fill: #1f77b4; stroke: #1f77b4\"/>\n     <use xlink:href=\"#md21c41be0c\" x=\"76.628656\" y=\"43.333455\" style=\"fill: #1f77b4; stroke: #1f77b4\"/>\n     <use xlink:href=\"#md21c41be0c\" x=\"140.589067\" y=\"89.854974\" style=\"fill: #1f77b4; stroke: #1f77b4\"/>\n     <use xlink:href=\"#md21c41be0c\" x=\"153.308416\" y=\"92.476329\" style=\"fill: #1f77b4; stroke: #1f77b4\"/>\n     <use xlink:href=\"#md21c41be0c\" x=\"128.604751\" y=\"78.591791\" style=\"fill: #1f77b4; stroke: #1f77b4\"/>\n     <use xlink:href=\"#md21c41be0c\" x=\"87.607916\" y=\"50.576506\" style=\"fill: #1f77b4; stroke: #1f77b4\"/>\n     <use xlink:href=\"#md21c41be0c\" x=\"142.499349\" y=\"100.291233\" style=\"fill: #1f77b4; stroke: #1f77b4\"/>\n     <use xlink:href=\"#md21c41be0c\" x=\"140.398259\" y=\"88.126368\" style=\"fill: #1f77b4; stroke: #1f77b4\"/>\n     <use xlink:href=\"#md21c41be0c\" x=\"154.796986\" y=\"95.819305\" style=\"fill: #1f77b4; stroke: #1f77b4\"/>\n     <use xlink:href=\"#md21c41be0c\" x=\"148.56267\" y=\"94.846614\" style=\"fill: #1f77b4; stroke: #1f77b4\"/>\n     <use xlink:href=\"#md21c41be0c\" x=\"114.80504\" y=\"74.805167\" style=\"fill: #1f77b4; stroke: #1f77b4\"/>\n     <use xlink:href=\"#md21c41be0c\" x=\"152.367072\" y=\"105.201447\" style=\"fill: #1f77b4; stroke: #1f77b4\"/>\n     <use xlink:href=\"#md21c41be0c\" x=\"153.41261\" y=\"108.817867\" style=\"fill: #1f77b4; stroke: #1f77b4\"/>\n     <use xlink:href=\"#md21c41be0c\" x=\"127.919275\" y=\"59.724741\" style=\"fill: #1f77b4; stroke: #1f77b4\"/>\n     <use xlink:href=\"#md21c41be0c\" x=\"82.26147\" y=\"58.873343\" style=\"fill: #1f77b4; stroke: #1f77b4\"/>\n     <use xlink:href=\"#md21c41be0c\" x=\"137.678963\" y=\"90.28901\" style=\"fill: #1f77b4; stroke: #1f77b4\"/>\n     <use xlink:href=\"#md21c41be0c\" x=\"89.350963\" y=\"67.5821\" style=\"fill: #1f77b4; stroke: #1f77b4\"/>\n     <use xlink:href=\"#md21c41be0c\" x=\"96.282934\" y=\"75.590386\" style=\"fill: #1f77b4; stroke: #1f77b4\"/>\n     <use xlink:href=\"#md21c41be0c\" x=\"104.004814\" y=\"81.472946\" style=\"fill: #1f77b4; stroke: #1f77b4\"/>\n     <use xlink:href=\"#md21c41be0c\" x=\"79.25791\" y=\"54.783091\" style=\"fill: #1f77b4; stroke: #1f77b4\"/>\n     <use xlink:href=\"#md21c41be0c\" x=\"121.246958\" y=\"58.507488\" style=\"fill: #1f77b4; stroke: #1f77b4\"/>\n     <use xlink:href=\"#md21c41be0c\" x=\"123.345642\" y=\"72.717881\" style=\"fill: #1f77b4; stroke: #1f77b4\"/>\n     <use xlink:href=\"#md21c41be0c\" x=\"95.456311\" y=\"52.022263\" style=\"fill: #1f77b4; stroke: #1f77b4\"/>\n     <use xlink:href=\"#md21c41be0c\" x=\"66.021202\" y=\"38.230707\" style=\"fill: #1f77b4; stroke: #1f77b4\"/>\n     <use xlink:href=\"#md21c41be0c\" x=\"155.880881\" y=\"81.539473\" style=\"fill: #1f77b4; stroke: #1f77b4\"/>\n     <use xlink:href=\"#md21c41be0c\" x=\"157.527891\" y=\"91.968654\" style=\"fill: #1f77b4; stroke: #1f77b4\"/>\n     <use xlink:href=\"#md21c41be0c\" x=\"148.570704\" y=\"80.498656\" style=\"fill: #1f77b4; stroke: #1f77b4\"/>\n     <use xlink:href=\"#md21c41be0c\" x=\"120.260799\" y=\"61.186378\" style=\"fill: #1f77b4; stroke: #1f77b4\"/>\n     <use xlink:href=\"#md21c41be0c\" x=\"164.943155\" y=\"92.202234\" style=\"fill: #1f77b4; stroke: #1f77b4\"/>\n     <use xlink:href=\"#md21c41be0c\" x=\"131.298862\" y=\"77.097643\" style=\"fill: #1f77b4; stroke: #1f77b4\"/>\n     <use xlink:href=\"#md21c41be0c\" x=\"112.263656\" y=\"73.486508\" style=\"fill: #1f77b4; stroke: #1f77b4\"/>\n     <use xlink:href=\"#md21c41be0c\" x=\"72.324067\" y=\"45.32367\" style=\"fill: #1f77b4; stroke: #1f77b4\"/>\n     <use xlink:href=\"#md21c41be0c\" x=\"146.632809\" y=\"95.953566\" style=\"fill: #1f77b4; stroke: #1f77b4\"/>\n     <use xlink:href=\"#md21c41be0c\" x=\"167.559897\" y=\"128.147996\" style=\"fill: #1f77b4; stroke: #1f77b4\"/>\n     <use xlink:href=\"#md21c41be0c\" x=\"162.244294\" y=\"108.236035\" style=\"fill: #1f77b4; stroke: #1f77b4\"/>\n     <use xlink:href=\"#md21c41be0c\" x=\"152.141144\" y=\"107.728684\" style=\"fill: #1f77b4; stroke: #1f77b4\"/>\n     <use xlink:href=\"#md21c41be0c\" x=\"124.542487\" y=\"91.89772\" style=\"fill: #1f77b4; stroke: #1f77b4\"/>\n     <use xlink:href=\"#md21c41be0c\" x=\"118.483451\" y=\"62.307522\" style=\"fill: #1f77b4; stroke: #1f77b4\"/>\n     <use xlink:href=\"#md21c41be0c\" x=\"137.824784\" y=\"92.094614\" style=\"fill: #1f77b4; stroke: #1f77b4\"/>\n     <use xlink:href=\"#md21c41be0c\" x=\"148.883844\" y=\"90.011881\" style=\"fill: #1f77b4; stroke: #1f77b4\"/>\n     <use xlink:href=\"#md21c41be0c\" x=\"151.389163\" y=\"86.296192\" style=\"fill: #1f77b4; stroke: #1f77b4\"/>\n     <use xlink:href=\"#md21c41be0c\" x=\"126.269615\" y=\"62.007549\" style=\"fill: #1f77b4; stroke: #1f77b4\"/>\n     <use xlink:href=\"#md21c41be0c\" x=\"82.400964\" y=\"44.534939\" style=\"fill: #1f77b4; stroke: #1f77b4\"/>\n     <use xlink:href=\"#md21c41be0c\" x=\"152.855222\" y=\"105.277436\" style=\"fill: #1f77b4; stroke: #1f77b4\"/>\n     <use xlink:href=\"#md21c41be0c\" x=\"87.14775\" y=\"54.036067\" style=\"fill: #1f77b4; stroke: #1f77b4\"/>\n     <use xlink:href=\"#md21c41be0c\" x=\"144.36374\" y=\"73.029459\" style=\"fill: #1f77b4; stroke: #1f77b4\"/>\n     <use xlink:href=\"#md21c41be0c\" x=\"102.392377\" y=\"53.611901\" style=\"fill: #1f77b4; stroke: #1f77b4\"/>\n     <use xlink:href=\"#md21c41be0c\" x=\"184.257819\" y=\"117.831821\" style=\"fill: #1f77b4; stroke: #1f77b4\"/>\n     <use xlink:href=\"#md21c41be0c\" x=\"108.596569\" y=\"71.271417\" style=\"fill: #1f77b4; stroke: #1f77b4\"/>\n     <use xlink:href=\"#md21c41be0c\" x=\"108.808245\" y=\"71.332365\" style=\"fill: #1f77b4; stroke: #1f77b4\"/>\n     <use xlink:href=\"#md21c41be0c\" x=\"118.04852\" y=\"68.809771\" style=\"fill: #1f77b4; stroke: #1f77b4\"/>\n     <use xlink:href=\"#md21c41be0c\" x=\"37.81946\" y=\"38.494287\" style=\"fill: #1f77b4; stroke: #1f77b4\"/>\n     <use xlink:href=\"#md21c41be0c\" x=\"112.362235\" y=\"66.301587\" style=\"fill: #1f77b4; stroke: #1f77b4\"/>\n     <use xlink:href=\"#md21c41be0c\" x=\"166.882768\" y=\"104.687078\" style=\"fill: #1f77b4; stroke: #1f77b4\"/>\n     <use xlink:href=\"#md21c41be0c\" x=\"97.951342\" y=\"62.196536\" style=\"fill: #1f77b4; stroke: #1f77b4\"/>\n     <use xlink:href=\"#md21c41be0c\" x=\"185.769114\" y=\"103.294028\" style=\"fill: #1f77b4; stroke: #1f77b4\"/>\n     <use xlink:href=\"#md21c41be0c\" x=\"202.125418\" y=\"122.794939\" style=\"fill: #1f77b4; stroke: #1f77b4\"/>\n     <use xlink:href=\"#md21c41be0c\" x=\"130.699943\" y=\"83.412043\" style=\"fill: #1f77b4; stroke: #1f77b4\"/>\n     <use xlink:href=\"#md21c41be0c\" x=\"134.012202\" y=\"84.29988\" style=\"fill: #1f77b4; stroke: #1f77b4\"/>\n     <use xlink:href=\"#md21c41be0c\" x=\"98.483295\" y=\"68.57814\" style=\"fill: #1f77b4; stroke: #1f77b4\"/>\n     <use xlink:href=\"#md21c41be0c\" x=\"92.673553\" y=\"67.937361\" style=\"fill: #1f77b4; stroke: #1f77b4\"/>\n     <use xlink:href=\"#md21c41be0c\" x=\"142.076049\" y=\"76.704264\" style=\"fill: #1f77b4; stroke: #1f77b4\"/>\n     <use xlink:href=\"#md21c41be0c\" x=\"87.340875\" y=\"64.224467\" style=\"fill: #1f77b4; stroke: #1f77b4\"/>\n     <use xlink:href=\"#md21c41be0c\" x=\"108.143722\" y=\"80.233454\" style=\"fill: #1f77b4; stroke: #1f77b4\"/>\n     <use xlink:href=\"#md21c41be0c\" x=\"135.958516\" y=\"87.906231\" style=\"fill: #1f77b4; stroke: #1f77b4\"/>\n     <use xlink:href=\"#md21c41be0c\" x=\"144.009139\" y=\"74.560488\" style=\"fill: #1f77b4; stroke: #1f77b4\"/>\n     <use xlink:href=\"#md21c41be0c\" x=\"122.297737\" y=\"69.457332\" style=\"fill: #1f77b4; stroke: #1f77b4\"/>\n     <use xlink:href=\"#md21c41be0c\" x=\"124.896879\" y=\"81.777004\" style=\"fill: #1f77b4; stroke: #1f77b4\"/>\n     <use xlink:href=\"#md21c41be0c\" x=\"185.868834\" y=\"129.496358\" style=\"fill: #1f77b4; stroke: #1f77b4\"/>\n     <use xlink:href=\"#md21c41be0c\" x=\"142.358093\" y=\"85.800669\" style=\"fill: #1f77b4; stroke: #1f77b4\"/>\n     <use xlink:href=\"#md21c41be0c\" x=\"164.672447\" y=\"116.736326\" style=\"fill: #1f77b4; stroke: #1f77b4\"/>\n     <use xlink:href=\"#md21c41be0c\" x=\"106.763875\" y=\"65.024375\" style=\"fill: #1f77b4; stroke: #1f77b4\"/>\n     <use xlink:href=\"#md21c41be0c\" x=\"138.743987\" y=\"81.714512\" style=\"fill: #1f77b4; stroke: #1f77b4\"/>\n     <use xlink:href=\"#md21c41be0c\" x=\"122.719982\" y=\"61.25444\" style=\"fill: #1f77b4; stroke: #1f77b4\"/>\n     <use xlink:href=\"#md21c41be0c\" x=\"113.734287\" y=\"74.915454\" style=\"fill: #1f77b4; stroke: #1f77b4\"/>\n     <use xlink:href=\"#md21c41be0c\" x=\"122.204051\" y=\"60.218859\" style=\"fill: #1f77b4; stroke: #1f77b4\"/>\n     <use xlink:href=\"#md21c41be0c\" x=\"131.896904\" y=\"79.789693\" style=\"fill: #1f77b4; stroke: #1f77b4\"/>\n     <use xlink:href=\"#md21c41be0c\" x=\"111.338287\" y=\"65.250941\" style=\"fill: #1f77b4; stroke: #1f77b4\"/>\n     <use xlink:href=\"#md21c41be0c\" x=\"107.372006\" y=\"68.370966\" style=\"fill: #1f77b4; stroke: #1f77b4\"/>\n     <use xlink:href=\"#md21c41be0c\" x=\"72.165393\" y=\"47.166586\" style=\"fill: #1f77b4; stroke: #1f77b4\"/>\n     <use xlink:href=\"#md21c41be0c\" x=\"72.480511\" y=\"67.350319\" style=\"fill: #1f77b4; stroke: #1f77b4\"/>\n     <use xlink:href=\"#md21c41be0c\" x=\"180.851362\" y=\"109.556983\" style=\"fill: #1f77b4; stroke: #1f77b4\"/>\n     <use xlink:href=\"#md21c41be0c\" x=\"130.554445\" y=\"70.960071\" style=\"fill: #1f77b4; stroke: #1f77b4\"/>\n     <use xlink:href=\"#md21c41be0c\" x=\"117.478253\" y=\"49.123441\" style=\"fill: #1f77b4; stroke: #1f77b4\"/>\n     <use xlink:href=\"#md21c41be0c\" x=\"110.696945\" y=\"78.891305\" style=\"fill: #1f77b4; stroke: #1f77b4\"/>\n     <use xlink:href=\"#md21c41be0c\" x=\"133.458608\" y=\"71.955633\" style=\"fill: #1f77b4; stroke: #1f77b4\"/>\n     <use xlink:href=\"#md21c41be0c\" x=\"130.62269\" y=\"91.600274\" style=\"fill: #1f77b4; stroke: #1f77b4\"/>\n     <use xlink:href=\"#md21c41be0c\" x=\"144.5199\" y=\"79.287652\" style=\"fill: #1f77b4; stroke: #1f77b4\"/>\n     <use xlink:href=\"#md21c41be0c\" x=\"143.104417\" y=\"87.441933\" style=\"fill: #1f77b4; stroke: #1f77b4\"/>\n     <use xlink:href=\"#md21c41be0c\" x=\"133.083302\" y=\"77.497579\" style=\"fill: #1f77b4; stroke: #1f77b4\"/>\n     <use xlink:href=\"#md21c41be0c\" x=\"133.075809\" y=\"72.262607\" style=\"fill: #1f77b4; stroke: #1f77b4\"/>\n     <use xlink:href=\"#md21c41be0c\" x=\"143.120116\" y=\"83.076798\" style=\"fill: #1f77b4; stroke: #1f77b4\"/>\n     <use xlink:href=\"#md21c41be0c\" x=\"104.612909\" y=\"67.501307\" style=\"fill: #1f77b4; stroke: #1f77b4\"/>\n     <use xlink:href=\"#md21c41be0c\" x=\"144.097026\" y=\"89.817671\" style=\"fill: #1f77b4; stroke: #1f77b4\"/>\n     <use xlink:href=\"#md21c41be0c\" x=\"117.517224\" y=\"71.495441\" style=\"fill: #1f77b4; stroke: #1f77b4\"/>\n     <use xlink:href=\"#md21c41be0c\" x=\"83.754254\" y=\"50.314243\" style=\"fill: #1f77b4; stroke: #1f77b4\"/>\n     <use xlink:href=\"#md21c41be0c\" x=\"131.866677\" y=\"73.479294\" style=\"fill: #1f77b4; stroke: #1f77b4\"/>\n     <use xlink:href=\"#md21c41be0c\" x=\"176.706986\" y=\"108.730673\" style=\"fill: #1f77b4; stroke: #1f77b4\"/>\n     <use xlink:href=\"#md21c41be0c\" x=\"130.909756\" y=\"78.124891\" style=\"fill: #1f77b4; stroke: #1f77b4\"/>\n     <use xlink:href=\"#md21c41be0c\" x=\"175.475133\" y=\"97.369646\" style=\"fill: #1f77b4; stroke: #1f77b4\"/>\n     <use xlink:href=\"#md21c41be0c\" x=\"127.855291\" y=\"84.079257\" style=\"fill: #1f77b4; stroke: #1f77b4\"/>\n     <use xlink:href=\"#md21c41be0c\" x=\"89.217801\" y=\"77.574043\" style=\"fill: #1f77b4; stroke: #1f77b4\"/>\n     <use xlink:href=\"#md21c41be0c\" x=\"80.04848\" y=\"41.548385\" style=\"fill: #1f77b4; stroke: #1f77b4\"/>\n     <use xlink:href=\"#md21c41be0c\" x=\"151.44489\" y=\"68.993985\" style=\"fill: #1f77b4; stroke: #1f77b4\"/>\n     <use xlink:href=\"#md21c41be0c\" x=\"171.358781\" y=\"96.937862\" style=\"fill: #1f77b4; stroke: #1f77b4\"/>\n     <use xlink:href=\"#md21c41be0c\" x=\"139.232458\" y=\"89.256742\" style=\"fill: #1f77b4; stroke: #1f77b4\"/>\n     <use xlink:href=\"#md21c41be0c\" x=\"172.726987\" y=\"94.1034\" style=\"fill: #1f77b4; stroke: #1f77b4\"/>\n     <use xlink:href=\"#md21c41be0c\" x=\"145.890978\" y=\"85.318002\" style=\"fill: #1f77b4; stroke: #1f77b4\"/>\n     <use xlink:href=\"#md21c41be0c\" x=\"89.076139\" y=\"50.59746\" style=\"fill: #1f77b4; stroke: #1f77b4\"/>\n     <use xlink:href=\"#md21c41be0c\" x=\"201.187324\" y=\"105.388525\" style=\"fill: #1f77b4; stroke: #1f77b4\"/>\n     <use xlink:href=\"#md21c41be0c\" x=\"93.734268\" y=\"55.444832\" style=\"fill: #1f77b4; stroke: #1f77b4\"/>\n     <use xlink:href=\"#md21c41be0c\" x=\"75.035955\" y=\"45.024962\" style=\"fill: #1f77b4; stroke: #1f77b4\"/>\n     <use xlink:href=\"#md21c41be0c\" x=\"98.024003\" y=\"68.762423\" style=\"fill: #1f77b4; stroke: #1f77b4\"/>\n     <use xlink:href=\"#md21c41be0c\" x=\"130.945137\" y=\"86.392147\" style=\"fill: #1f77b4; stroke: #1f77b4\"/>\n     <use xlink:href=\"#md21c41be0c\" x=\"176.78421\" y=\"80.823865\" style=\"fill: #1f77b4; stroke: #1f77b4\"/>\n     <use xlink:href=\"#md21c41be0c\" x=\"62.080021\" y=\"51.533413\" style=\"fill: #1f77b4; stroke: #1f77b4\"/>\n     <use xlink:href=\"#md21c41be0c\" x=\"157.159027\" y=\"91.258542\" style=\"fill: #1f77b4; stroke: #1f77b4\"/>\n     <use xlink:href=\"#md21c41be0c\" x=\"106.625029\" y=\"61.552894\" style=\"fill: #1f77b4; stroke: #1f77b4\"/>\n     <use xlink:href=\"#md21c41be0c\" x=\"160.064631\" y=\"100.929246\" style=\"fill: #1f77b4; stroke: #1f77b4\"/>\n     <use xlink:href=\"#md21c41be0c\" x=\"199.552249\" y=\"119.259615\" style=\"fill: #1f77b4; stroke: #1f77b4\"/>\n     <use xlink:href=\"#md21c41be0c\" x=\"125.449232\" y=\"70.293093\" style=\"fill: #1f77b4; stroke: #1f77b4\"/>\n     <use xlink:href=\"#md21c41be0c\" x=\"123.996774\" y=\"84.910034\" style=\"fill: #1f77b4; stroke: #1f77b4\"/>\n     <use xlink:href=\"#md21c41be0c\" x=\"69.567914\" y=\"48.581422\" style=\"fill: #1f77b4; stroke: #1f77b4\"/>\n     <use xlink:href=\"#md21c41be0c\" x=\"132.109713\" y=\"63.475284\" style=\"fill: #1f77b4; stroke: #1f77b4\"/>\n     <use xlink:href=\"#md21c41be0c\" x=\"139.024822\" y=\"91.806552\" style=\"fill: #1f77b4; stroke: #1f77b4\"/>\n     <use xlink:href=\"#md21c41be0c\" x=\"84.447748\" y=\"34.615625\" style=\"fill: #1f77b4; stroke: #1f77b4\"/>\n     <use xlink:href=\"#md21c41be0c\" x=\"128.204399\" y=\"64.892837\" style=\"fill: #1f77b4; stroke: #1f77b4\"/>\n     <use xlink:href=\"#md21c41be0c\" x=\"156.206666\" y=\"88.994558\" style=\"fill: #1f77b4; stroke: #1f77b4\"/>\n     <use xlink:href=\"#md21c41be0c\" x=\"154.137638\" y=\"88.162784\" style=\"fill: #1f77b4; stroke: #1f77b4\"/>\n     <use xlink:href=\"#md21c41be0c\" x=\"129.5427\" y=\"61.607108\" style=\"fill: #1f77b4; stroke: #1f77b4\"/>\n     <use xlink:href=\"#md21c41be0c\" x=\"202.224754\" y=\"124.814175\" style=\"fill: #1f77b4; stroke: #1f77b4\"/>\n     <use xlink:href=\"#md21c41be0c\" x=\"132.830065\" y=\"64.700141\" style=\"fill: #1f77b4; stroke: #1f77b4\"/>\n     <use xlink:href=\"#md21c41be0c\" x=\"137.870373\" y=\"97.369524\" style=\"fill: #1f77b4; stroke: #1f77b4\"/>\n     <use xlink:href=\"#md21c41be0c\" x=\"119.48847\" y=\"56.394269\" style=\"fill: #1f77b4; stroke: #1f77b4\"/>\n     <use xlink:href=\"#md21c41be0c\" x=\"125.18653\" y=\"66.919543\" style=\"fill: #1f77b4; stroke: #1f77b4\"/>\n     <use xlink:href=\"#md21c41be0c\" x=\"163.08708\" y=\"83.594081\" style=\"fill: #1f77b4; stroke: #1f77b4\"/>\n     <use xlink:href=\"#md21c41be0c\" x=\"124.033558\" y=\"83.175506\" style=\"fill: #1f77b4; stroke: #1f77b4\"/>\n     <use xlink:href=\"#md21c41be0c\" x=\"89.550735\" y=\"46.991161\" style=\"fill: #1f77b4; stroke: #1f77b4\"/>\n     <use xlink:href=\"#md21c41be0c\" x=\"137.027933\" y=\"73.449796\" style=\"fill: #1f77b4; stroke: #1f77b4\"/>\n     <use xlink:href=\"#md21c41be0c\" x=\"95.319592\" y=\"58.744129\" style=\"fill: #1f77b4; stroke: #1f77b4\"/>\n     <use xlink:href=\"#md21c41be0c\" x=\"156.812097\" y=\"97.833462\" style=\"fill: #1f77b4; stroke: #1f77b4\"/>\n     <use xlink:href=\"#md21c41be0c\" x=\"134.989054\" y=\"91.708173\" style=\"fill: #1f77b4; stroke: #1f77b4\"/>\n     <use xlink:href=\"#md21c41be0c\" x=\"131.796852\" y=\"79.443118\" style=\"fill: #1f77b4; stroke: #1f77b4\"/>\n     <use xlink:href=\"#md21c41be0c\" x=\"149.690447\" y=\"94.295756\" style=\"fill: #1f77b4; stroke: #1f77b4\"/>\n     <use xlink:href=\"#md21c41be0c\" x=\"142.300637\" y=\"94.837841\" style=\"fill: #1f77b4; stroke: #1f77b4\"/>\n     <use xlink:href=\"#md21c41be0c\" x=\"135.195266\" y=\"99.410526\" style=\"fill: #1f77b4; stroke: #1f77b4\"/>\n     <use xlink:href=\"#md21c41be0c\" x=\"94.505746\" y=\"49.347431\" style=\"fill: #1f77b4; stroke: #1f77b4\"/>\n     <use xlink:href=\"#md21c41be0c\" x=\"153.234383\" y=\"98.349049\" style=\"fill: #1f77b4; stroke: #1f77b4\"/>\n     <use xlink:href=\"#md21c41be0c\" x=\"158.854753\" y=\"109.297984\" style=\"fill: #1f77b4; stroke: #1f77b4\"/>\n     <use xlink:href=\"#md21c41be0c\" x=\"142.882865\" y=\"92.007352\" style=\"fill: #1f77b4; stroke: #1f77b4\"/>\n     <use xlink:href=\"#md21c41be0c\" x=\"155.536375\" y=\"111.701203\" style=\"fill: #1f77b4; stroke: #1f77b4\"/>\n     <use xlink:href=\"#md21c41be0c\" x=\"129.015978\" y=\"87.284715\" style=\"fill: #1f77b4; stroke: #1f77b4\"/>\n     <use xlink:href=\"#md21c41be0c\" x=\"115.502351\" y=\"72.536055\" style=\"fill: #1f77b4; stroke: #1f77b4\"/>\n     <use xlink:href=\"#md21c41be0c\" x=\"90.421557\" y=\"56.235921\" style=\"fill: #1f77b4; stroke: #1f77b4\"/>\n     <use xlink:href=\"#md21c41be0c\" x=\"148.679538\" y=\"85.227999\" style=\"fill: #1f77b4; stroke: #1f77b4\"/>\n     <use xlink:href=\"#md21c41be0c\" x=\"149.008197\" y=\"95.814755\" style=\"fill: #1f77b4; stroke: #1f77b4\"/>\n     <use xlink:href=\"#md21c41be0c\" x=\"143.120532\" y=\"86.487242\" style=\"fill: #1f77b4; stroke: #1f77b4\"/>\n     <use xlink:href=\"#md21c41be0c\" x=\"117.234668\" y=\"69.516149\" style=\"fill: #1f77b4; stroke: #1f77b4\"/>\n     <use xlink:href=\"#md21c41be0c\" x=\"142.046414\" y=\"81.646051\" style=\"fill: #1f77b4; stroke: #1f77b4\"/>\n     <use xlink:href=\"#md21c41be0c\" x=\"126.973751\" y=\"67.157432\" style=\"fill: #1f77b4; stroke: #1f77b4\"/>\n     <use xlink:href=\"#md21c41be0c\" x=\"178.456263\" y=\"108.472929\" style=\"fill: #1f77b4; stroke: #1f77b4\"/>\n     <use xlink:href=\"#md21c41be0c\" x=\"153.666028\" y=\"104.831647\" style=\"fill: #1f77b4; stroke: #1f77b4\"/>\n     <use xlink:href=\"#md21c41be0c\" x=\"95.238401\" y=\"67.150163\" style=\"fill: #1f77b4; stroke: #1f77b4\"/>\n     <use xlink:href=\"#md21c41be0c\" x=\"156.088887\" y=\"96.739365\" style=\"fill: #1f77b4; stroke: #1f77b4\"/>\n     <use xlink:href=\"#md21c41be0c\" x=\"158.327423\" y=\"81.219314\" style=\"fill: #1f77b4; stroke: #1f77b4\"/>\n     <use xlink:href=\"#md21c41be0c\" x=\"181.246727\" y=\"83.930715\" style=\"fill: #1f77b4; stroke: #1f77b4\"/>\n     <use xlink:href=\"#md21c41be0c\" x=\"117.599974\" y=\"61.589987\" style=\"fill: #1f77b4; stroke: #1f77b4\"/>\n     <use xlink:href=\"#md21c41be0c\" x=\"140.224196\" y=\"87.060239\" style=\"fill: #1f77b4; stroke: #1f77b4\"/>\n     <use xlink:href=\"#md21c41be0c\" x=\"160.465113\" y=\"97.362868\" style=\"fill: #1f77b4; stroke: #1f77b4\"/>\n     <use xlink:href=\"#md21c41be0c\" x=\"111.992441\" y=\"63.181914\" style=\"fill: #1f77b4; stroke: #1f77b4\"/>\n     <use xlink:href=\"#md21c41be0c\" x=\"173.761166\" y=\"99.953233\" style=\"fill: #1f77b4; stroke: #1f77b4\"/>\n     <use xlink:href=\"#md21c41be0c\" x=\"62.395161\" y=\"41.198947\" style=\"fill: #1f77b4; stroke: #1f77b4\"/>\n     <use xlink:href=\"#md21c41be0c\" x=\"95.456943\" y=\"63.79088\" style=\"fill: #1f77b4; stroke: #1f77b4\"/>\n     <use xlink:href=\"#md21c41be0c\" x=\"127.584992\" y=\"82.338513\" style=\"fill: #1f77b4; stroke: #1f77b4\"/>\n     <use xlink:href=\"#md21c41be0c\" x=\"137.037039\" y=\"82.529821\" style=\"fill: #1f77b4; stroke: #1f77b4\"/>\n     <use xlink:href=\"#md21c41be0c\" x=\"166.627175\" y=\"93.999018\" style=\"fill: #1f77b4; stroke: #1f77b4\"/>\n     <use xlink:href=\"#md21c41be0c\" x=\"142.27304\" y=\"95.844243\" style=\"fill: #1f77b4; stroke: #1f77b4\"/>\n     <use xlink:href=\"#md21c41be0c\" x=\"97.721623\" y=\"58.144992\" style=\"fill: #1f77b4; stroke: #1f77b4\"/>\n     <use xlink:href=\"#md21c41be0c\" x=\"105.027717\" y=\"58.079935\" style=\"fill: #1f77b4; stroke: #1f77b4\"/>\n     <use xlink:href=\"#md21c41be0c\" x=\"147.441839\" y=\"78.466439\" style=\"fill: #1f77b4; stroke: #1f77b4\"/>\n     <use xlink:href=\"#md21c41be0c\" x=\"94.565352\" y=\"62.473736\" style=\"fill: #1f77b4; stroke: #1f77b4\"/>\n     <use xlink:href=\"#md21c41be0c\" x=\"174.276638\" y=\"91.631388\" style=\"fill: #1f77b4; stroke: #1f77b4\"/>\n     <use xlink:href=\"#md21c41be0c\" x=\"125.227679\" y=\"65.629429\" style=\"fill: #1f77b4; stroke: #1f77b4\"/>\n     <use xlink:href=\"#md21c41be0c\" x=\"155.09242\" y=\"89.51076\" style=\"fill: #1f77b4; stroke: #1f77b4\"/>\n     <use xlink:href=\"#md21c41be0c\" x=\"107.776335\" y=\"78.03799\" style=\"fill: #1f77b4; stroke: #1f77b4\"/>\n     <use xlink:href=\"#md21c41be0c\" x=\"126.720607\" y=\"72.675996\" style=\"fill: #1f77b4; stroke: #1f77b4\"/>\n     <use xlink:href=\"#md21c41be0c\" x=\"142.019105\" y=\"76.541021\" style=\"fill: #1f77b4; stroke: #1f77b4\"/>\n     <use xlink:href=\"#md21c41be0c\" x=\"206.143385\" y=\"127.901262\" style=\"fill: #1f77b4; stroke: #1f77b4\"/>\n     <use xlink:href=\"#md21c41be0c\" x=\"150.755668\" y=\"102.3465\" style=\"fill: #1f77b4; stroke: #1f77b4\"/>\n     <use xlink:href=\"#md21c41be0c\" x=\"141.560502\" y=\"84.813747\" style=\"fill: #1f77b4; stroke: #1f77b4\"/>\n     <use xlink:href=\"#md21c41be0c\" x=\"144.413138\" y=\"84.109885\" style=\"fill: #1f77b4; stroke: #1f77b4\"/>\n     <use xlink:href=\"#md21c41be0c\" x=\"166.694202\" y=\"104.446656\" style=\"fill: #1f77b4; stroke: #1f77b4\"/>\n     <use xlink:href=\"#md21c41be0c\" x=\"152.135919\" y=\"86.414067\" style=\"fill: #1f77b4; stroke: #1f77b4\"/>\n     <use xlink:href=\"#md21c41be0c\" x=\"85.58229\" y=\"59.325066\" style=\"fill: #1f77b4; stroke: #1f77b4\"/>\n     <use xlink:href=\"#md21c41be0c\" x=\"88.362543\" y=\"65.021311\" style=\"fill: #1f77b4; stroke: #1f77b4\"/>\n     <use xlink:href=\"#md21c41be0c\" x=\"119.826331\" y=\"85.840392\" style=\"fill: #1f77b4; stroke: #1f77b4\"/>\n     <use xlink:href=\"#md21c41be0c\" x=\"119.774158\" y=\"49.855017\" style=\"fill: #1f77b4; stroke: #1f77b4\"/>\n     <use xlink:href=\"#md21c41be0c\" x=\"111.80705\" y=\"64.80205\" style=\"fill: #1f77b4; stroke: #1f77b4\"/>\n     <use xlink:href=\"#md21c41be0c\" x=\"125.175201\" y=\"79.888096\" style=\"fill: #1f77b4; stroke: #1f77b4\"/>\n     <use xlink:href=\"#md21c41be0c\" x=\"132.190713\" y=\"85.754714\" style=\"fill: #1f77b4; stroke: #1f77b4\"/>\n     <use xlink:href=\"#md21c41be0c\" x=\"102.736959\" y=\"58.671629\" style=\"fill: #1f77b4; stroke: #1f77b4\"/>\n     <use xlink:href=\"#md21c41be0c\" x=\"129.909308\" y=\"81.158037\" style=\"fill: #1f77b4; stroke: #1f77b4\"/>\n     <use xlink:href=\"#md21c41be0c\" x=\"144.310558\" y=\"82.393836\" style=\"fill: #1f77b4; stroke: #1f77b4\"/>\n     <use xlink:href=\"#md21c41be0c\" x=\"115.003293\" y=\"81.427707\" style=\"fill: #1f77b4; stroke: #1f77b4\"/>\n     <use xlink:href=\"#md21c41be0c\" x=\"137.601751\" y=\"79.395787\" style=\"fill: #1f77b4; stroke: #1f77b4\"/>\n     <use xlink:href=\"#md21c41be0c\" x=\"128.018836\" y=\"77.396233\" style=\"fill: #1f77b4; stroke: #1f77b4\"/>\n     <use xlink:href=\"#md21c41be0c\" x=\"133.618526\" y=\"68.50986\" style=\"fill: #1f77b4; stroke: #1f77b4\"/>\n     <use xlink:href=\"#md21c41be0c\" x=\"79.687632\" y=\"49.015905\" style=\"fill: #1f77b4; stroke: #1f77b4\"/>\n     <use xlink:href=\"#md21c41be0c\" x=\"103.197853\" y=\"63.275648\" style=\"fill: #1f77b4; stroke: #1f77b4\"/>\n     <use xlink:href=\"#md21c41be0c\" x=\"107.794176\" y=\"64.319264\" style=\"fill: #1f77b4; stroke: #1f77b4\"/>\n     <use xlink:href=\"#md21c41be0c\" x=\"153.923359\" y=\"78.060101\" style=\"fill: #1f77b4; stroke: #1f77b4\"/>\n     <use xlink:href=\"#md21c41be0c\" x=\"124.921266\" y=\"90.495156\" style=\"fill: #1f77b4; stroke: #1f77b4\"/>\n     <use xlink:href=\"#md21c41be0c\" x=\"129.726767\" y=\"80.329583\" style=\"fill: #1f77b4; stroke: #1f77b4\"/>\n     <use xlink:href=\"#md21c41be0c\" x=\"136.538695\" y=\"78.184608\" style=\"fill: #1f77b4; stroke: #1f77b4\"/>\n     <use xlink:href=\"#md21c41be0c\" x=\"98.357935\" y=\"57.458109\" style=\"fill: #1f77b4; stroke: #1f77b4\"/>\n     <use xlink:href=\"#md21c41be0c\" x=\"96.57571\" y=\"85.782562\" style=\"fill: #1f77b4; stroke: #1f77b4\"/>\n     <use xlink:href=\"#md21c41be0c\" x=\"46.385271\" y=\"50.539556\" style=\"fill: #1f77b4; stroke: #1f77b4\"/>\n     <use xlink:href=\"#md21c41be0c\" x=\"111.498818\" y=\"88.498938\" style=\"fill: #1f77b4; stroke: #1f77b4\"/>\n     <use xlink:href=\"#md21c41be0c\" x=\"87.410999\" y=\"58.358412\" style=\"fill: #1f77b4; stroke: #1f77b4\"/>\n     <use xlink:href=\"#md21c41be0c\" x=\"124.700614\" y=\"68.782185\" style=\"fill: #1f77b4; stroke: #1f77b4\"/>\n     <use xlink:href=\"#md21c41be0c\" x=\"204.918976\" y=\"115.834472\" style=\"fill: #1f77b4; stroke: #1f77b4\"/>\n     <use xlink:href=\"#md21c41be0c\" x=\"89.575165\" y=\"62.14806\" style=\"fill: #1f77b4; stroke: #1f77b4\"/>\n     <use xlink:href=\"#md21c41be0c\" x=\"165.585932\" y=\"125.143361\" style=\"fill: #1f77b4; stroke: #1f77b4\"/>\n     <use xlink:href=\"#md21c41be0c\" x=\"152.877977\" y=\"81.324012\" style=\"fill: #1f77b4; stroke: #1f77b4\"/>\n     <use xlink:href=\"#md21c41be0c\" x=\"173.773312\" y=\"111.543617\" style=\"fill: #1f77b4; stroke: #1f77b4\"/>\n     <use xlink:href=\"#md21c41be0c\" x=\"123.9563\" y=\"79.823237\" style=\"fill: #1f77b4; stroke: #1f77b4\"/>\n     <use xlink:href=\"#md21c41be0c\" x=\"102.94259\" y=\"51.279072\" style=\"fill: #1f77b4; stroke: #1f77b4\"/>\n     <use xlink:href=\"#md21c41be0c\" x=\"119.971836\" y=\"83.640673\" style=\"fill: #1f77b4; stroke: #1f77b4\"/>\n     <use xlink:href=\"#md21c41be0c\" x=\"105.353208\" y=\"77.036936\" style=\"fill: #1f77b4; stroke: #1f77b4\"/>\n     <use xlink:href=\"#md21c41be0c\" x=\"145.185367\" y=\"86.266184\" style=\"fill: #1f77b4; stroke: #1f77b4\"/>\n     <use xlink:href=\"#md21c41be0c\" x=\"82.344693\" y=\"42.269744\" style=\"fill: #1f77b4; stroke: #1f77b4\"/>\n     <use xlink:href=\"#md21c41be0c\" x=\"107.161604\" y=\"60.777174\" style=\"fill: #1f77b4; stroke: #1f77b4\"/>\n     <use xlink:href=\"#md21c41be0c\" x=\"156.526564\" y=\"89.12076\" style=\"fill: #1f77b4; stroke: #1f77b4\"/>\n     <use xlink:href=\"#md21c41be0c\" x=\"120.237972\" y=\"75.834806\" style=\"fill: #1f77b4; stroke: #1f77b4\"/>\n     <use xlink:href=\"#md21c41be0c\" x=\"74.543553\" y=\"41.016381\" style=\"fill: #1f77b4; stroke: #1f77b4\"/>\n     <use xlink:href=\"#md21c41be0c\" x=\"163.616226\" y=\"103.681073\" style=\"fill: #1f77b4; stroke: #1f77b4\"/>\n     <use xlink:href=\"#md21c41be0c\" x=\"100.866426\" y=\"75.778941\" style=\"fill: #1f77b4; stroke: #1f77b4\"/>\n     <use xlink:href=\"#md21c41be0c\" x=\"100.094433\" y=\"62.296022\" style=\"fill: #1f77b4; stroke: #1f77b4\"/>\n     <use xlink:href=\"#md21c41be0c\" x=\"163.73759\" y=\"111.214193\" style=\"fill: #1f77b4; stroke: #1f77b4\"/>\n     <use xlink:href=\"#md21c41be0c\" x=\"138.937157\" y=\"89.943715\" style=\"fill: #1f77b4; stroke: #1f77b4\"/>\n     <use xlink:href=\"#md21c41be0c\" x=\"123.369518\" y=\"75.881389\" style=\"fill: #1f77b4; stroke: #1f77b4\"/>\n     <use xlink:href=\"#md21c41be0c\" x=\"154.290496\" y=\"93.085053\" style=\"fill: #1f77b4; stroke: #1f77b4\"/>\n     <use xlink:href=\"#md21c41be0c\" x=\"203.175995\" y=\"115.213518\" style=\"fill: #1f77b4; stroke: #1f77b4\"/>\n     <use xlink:href=\"#md21c41be0c\" x=\"162.161257\" y=\"102.60642\" style=\"fill: #1f77b4; stroke: #1f77b4\"/>\n     <use xlink:href=\"#md21c41be0c\" x=\"125.737563\" y=\"86.929983\" style=\"fill: #1f77b4; stroke: #1f77b4\"/>\n     <use xlink:href=\"#md21c41be0c\" x=\"72.868736\" y=\"19.741512\" style=\"fill: #1f77b4; stroke: #1f77b4\"/>\n     <use xlink:href=\"#md21c41be0c\" x=\"153.692678\" y=\"84.950994\" style=\"fill: #1f77b4; stroke: #1f77b4\"/>\n     <use xlink:href=\"#md21c41be0c\" x=\"145.601221\" y=\"91.495629\" style=\"fill: #1f77b4; stroke: #1f77b4\"/>\n     <use xlink:href=\"#md21c41be0c\" x=\"108.633808\" y=\"67.576147\" style=\"fill: #1f77b4; stroke: #1f77b4\"/>\n     <use xlink:href=\"#md21c41be0c\" x=\"104.296414\" y=\"71.755637\" style=\"fill: #1f77b4; stroke: #1f77b4\"/>\n     <use xlink:href=\"#md21c41be0c\" x=\"107.175806\" y=\"59.677925\" style=\"fill: #1f77b4; stroke: #1f77b4\"/>\n     <use xlink:href=\"#md21c41be0c\" x=\"142.350929\" y=\"88.376818\" style=\"fill: #1f77b4; stroke: #1f77b4\"/>\n     <use xlink:href=\"#md21c41be0c\" x=\"156.581696\" y=\"107.687539\" style=\"fill: #1f77b4; stroke: #1f77b4\"/>\n     <use xlink:href=\"#md21c41be0c\" x=\"191.011205\" y=\"107.682129\" style=\"fill: #1f77b4; stroke: #1f77b4\"/>\n     <use xlink:href=\"#md21c41be0c\" x=\"158.105595\" y=\"88.203129\" style=\"fill: #1f77b4; stroke: #1f77b4\"/>\n     <use xlink:href=\"#md21c41be0c\" x=\"175.01553\" y=\"94.868467\" style=\"fill: #1f77b4; stroke: #1f77b4\"/>\n     <use xlink:href=\"#md21c41be0c\" x=\"167.759863\" y=\"90.70054\" style=\"fill: #1f77b4; stroke: #1f77b4\"/>\n     <use xlink:href=\"#md21c41be0c\" x=\"134.952832\" y=\"71.744355\" style=\"fill: #1f77b4; stroke: #1f77b4\"/>\n     <use xlink:href=\"#md21c41be0c\" x=\"152.841636\" y=\"98.442002\" style=\"fill: #1f77b4; stroke: #1f77b4\"/>\n     <use xlink:href=\"#md21c41be0c\" x=\"185.652159\" y=\"131.801204\" style=\"fill: #1f77b4; stroke: #1f77b4\"/>\n     <use xlink:href=\"#md21c41be0c\" x=\"95.149174\" y=\"69.998865\" style=\"fill: #1f77b4; stroke: #1f77b4\"/>\n     <use xlink:href=\"#md21c41be0c\" x=\"183.116765\" y=\"119.117141\" style=\"fill: #1f77b4; stroke: #1f77b4\"/>\n     <use xlink:href=\"#md21c41be0c\" x=\"164.706043\" y=\"97.302328\" style=\"fill: #1f77b4; stroke: #1f77b4\"/>\n     <use xlink:href=\"#md21c41be0c\" x=\"196.741698\" y=\"109.449294\" style=\"fill: #1f77b4; stroke: #1f77b4\"/>\n     <use xlink:href=\"#md21c41be0c\" x=\"186.709306\" y=\"109.359158\" style=\"fill: #1f77b4; stroke: #1f77b4\"/>\n     <use xlink:href=\"#md21c41be0c\" x=\"79.954029\" y=\"61.22175\" style=\"fill: #1f77b4; stroke: #1f77b4\"/>\n     <use xlink:href=\"#md21c41be0c\" x=\"147.478804\" y=\"80.281028\" style=\"fill: #1f77b4; stroke: #1f77b4\"/>\n     <use xlink:href=\"#md21c41be0c\" x=\"139.486865\" y=\"97.927008\" style=\"fill: #1f77b4; stroke: #1f77b4\"/>\n     <use xlink:href=\"#md21c41be0c\" x=\"188.524023\" y=\"118.552247\" style=\"fill: #1f77b4; stroke: #1f77b4\"/>\n     <use xlink:href=\"#md21c41be0c\" x=\"141.282861\" y=\"81.696496\" style=\"fill: #1f77b4; stroke: #1f77b4\"/>\n     <use xlink:href=\"#md21c41be0c\" x=\"168.817679\" y=\"113.737408\" style=\"fill: #1f77b4; stroke: #1f77b4\"/>\n     <use xlink:href=\"#md21c41be0c\" x=\"152.845626\" y=\"96.573549\" style=\"fill: #1f77b4; stroke: #1f77b4\"/>\n     <use xlink:href=\"#md21c41be0c\" x=\"91.748998\" y=\"67.903021\" style=\"fill: #1f77b4; stroke: #1f77b4\"/>\n     <use xlink:href=\"#md21c41be0c\" x=\"93.707469\" y=\"60.253223\" style=\"fill: #1f77b4; stroke: #1f77b4\"/>\n     <use xlink:href=\"#md21c41be0c\" x=\"105.536292\" y=\"59.486907\" style=\"fill: #1f77b4; stroke: #1f77b4\"/>\n     <use xlink:href=\"#md21c41be0c\" x=\"105.918653\" y=\"70.08532\" style=\"fill: #1f77b4; stroke: #1f77b4\"/>\n     <use xlink:href=\"#md21c41be0c\" x=\"94.299046\" y=\"73.069389\" style=\"fill: #1f77b4; stroke: #1f77b4\"/>\n     <use xlink:href=\"#md21c41be0c\" x=\"88.029558\" y=\"64.941549\" style=\"fill: #1f77b4; stroke: #1f77b4\"/>\n     <use xlink:href=\"#md21c41be0c\" x=\"147.970791\" y=\"80.9342\" style=\"fill: #1f77b4; stroke: #1f77b4\"/>\n     <use xlink:href=\"#md21c41be0c\" x=\"64.659822\" y=\"34.869453\" style=\"fill: #1f77b4; stroke: #1f77b4\"/>\n     <use xlink:href=\"#md21c41be0c\" x=\"168.64551\" y=\"101.431384\" style=\"fill: #1f77b4; stroke: #1f77b4\"/>\n     <use xlink:href=\"#md21c41be0c\" x=\"110.659054\" y=\"80.996633\" style=\"fill: #1f77b4; stroke: #1f77b4\"/>\n     <use xlink:href=\"#md21c41be0c\" x=\"167.648887\" y=\"89.105735\" style=\"fill: #1f77b4; stroke: #1f77b4\"/>\n     <use xlink:href=\"#md21c41be0c\" x=\"132.321134\" y=\"100.28782\" style=\"fill: #1f77b4; stroke: #1f77b4\"/>\n     <use xlink:href=\"#md21c41be0c\" x=\"114.947116\" y=\"87.905122\" style=\"fill: #1f77b4; stroke: #1f77b4\"/>\n     <use xlink:href=\"#md21c41be0c\" x=\"118.433431\" y=\"79.857163\" style=\"fill: #1f77b4; stroke: #1f77b4\"/>\n     <use xlink:href=\"#md21c41be0c\" x=\"99.55985\" y=\"63.846774\" style=\"fill: #1f77b4; stroke: #1f77b4\"/>\n     <use xlink:href=\"#md21c41be0c\" x=\"166.530369\" y=\"102.926527\" style=\"fill: #1f77b4; stroke: #1f77b4\"/>\n     <use xlink:href=\"#md21c41be0c\" x=\"134.043122\" y=\"86.184175\" style=\"fill: #1f77b4; stroke: #1f77b4\"/>\n     <use xlink:href=\"#md21c41be0c\" x=\"73.096232\" y=\"36.397518\" style=\"fill: #1f77b4; stroke: #1f77b4\"/>\n     <use xlink:href=\"#md21c41be0c\" x=\"81.846767\" y=\"48.001832\" style=\"fill: #1f77b4; stroke: #1f77b4\"/>\n     <use xlink:href=\"#md21c41be0c\" x=\"113.206142\" y=\"65.706698\" style=\"fill: #1f77b4; stroke: #1f77b4\"/>\n     <use xlink:href=\"#md21c41be0c\" x=\"128.125393\" y=\"64.929098\" style=\"fill: #1f77b4; stroke: #1f77b4\"/>\n     <use xlink:href=\"#md21c41be0c\" x=\"164.748191\" y=\"110.115721\" style=\"fill: #1f77b4; stroke: #1f77b4\"/>\n     <use xlink:href=\"#md21c41be0c\" x=\"130.396784\" y=\"97.799504\" style=\"fill: #1f77b4; stroke: #1f77b4\"/>\n     <use xlink:href=\"#md21c41be0c\" x=\"123.327917\" y=\"65.648155\" style=\"fill: #1f77b4; stroke: #1f77b4\"/>\n     <use xlink:href=\"#md21c41be0c\" x=\"167.421354\" y=\"114.841157\" style=\"fill: #1f77b4; stroke: #1f77b4\"/>\n     <use xlink:href=\"#md21c41be0c\" x=\"110.856601\" y=\"81.804664\" style=\"fill: #1f77b4; stroke: #1f77b4\"/>\n     <use xlink:href=\"#md21c41be0c\" x=\"121.345582\" y=\"92.115293\" style=\"fill: #1f77b4; stroke: #1f77b4\"/>\n     <use xlink:href=\"#md21c41be0c\" x=\"143.812882\" y=\"88.671979\" style=\"fill: #1f77b4; stroke: #1f77b4\"/>\n     <use xlink:href=\"#md21c41be0c\" x=\"155.951706\" y=\"93.738666\" style=\"fill: #1f77b4; stroke: #1f77b4\"/>\n     <use xlink:href=\"#md21c41be0c\" x=\"116.932962\" y=\"65.906018\" style=\"fill: #1f77b4; stroke: #1f77b4\"/>\n     <use xlink:href=\"#md21c41be0c\" x=\"196.733501\" y=\"105.816983\" style=\"fill: #1f77b4; stroke: #1f77b4\"/>\n     <use xlink:href=\"#md21c41be0c\" x=\"162.120341\" y=\"110.238906\" style=\"fill: #1f77b4; stroke: #1f77b4\"/>\n     <use xlink:href=\"#md21c41be0c\" x=\"147.497933\" y=\"92.336976\" style=\"fill: #1f77b4; stroke: #1f77b4\"/>\n     <use xlink:href=\"#md21c41be0c\" x=\"159.417438\" y=\"98.140498\" style=\"fill: #1f77b4; stroke: #1f77b4\"/>\n     <use xlink:href=\"#md21c41be0c\" x=\"124.317908\" y=\"72.518702\" style=\"fill: #1f77b4; stroke: #1f77b4\"/>\n     <use xlink:href=\"#md21c41be0c\" x=\"138.322783\" y=\"89.419788\" style=\"fill: #1f77b4; stroke: #1f77b4\"/>\n     <use xlink:href=\"#md21c41be0c\" x=\"158.96839\" y=\"100.696459\" style=\"fill: #1f77b4; stroke: #1f77b4\"/>\n     <use xlink:href=\"#md21c41be0c\" x=\"127.744142\" y=\"93.001504\" style=\"fill: #1f77b4; stroke: #1f77b4\"/>\n     <use xlink:href=\"#md21c41be0c\" x=\"109.850929\" y=\"75.322134\" style=\"fill: #1f77b4; stroke: #1f77b4\"/>\n     <use xlink:href=\"#md21c41be0c\" x=\"79.531575\" y=\"54.70845\" style=\"fill: #1f77b4; stroke: #1f77b4\"/>\n     <use xlink:href=\"#md21c41be0c\" x=\"93.085265\" y=\"40.839805\" style=\"fill: #1f77b4; stroke: #1f77b4\"/>\n     <use xlink:href=\"#md21c41be0c\" x=\"136.957932\" y=\"106.199639\" style=\"fill: #1f77b4; stroke: #1f77b4\"/>\n     <use xlink:href=\"#md21c41be0c\" x=\"159.96863\" y=\"96.828316\" style=\"fill: #1f77b4; stroke: #1f77b4\"/>\n     <use xlink:href=\"#md21c41be0c\" x=\"173.579909\" y=\"103.721256\" style=\"fill: #1f77b4; stroke: #1f77b4\"/>\n     <use xlink:href=\"#md21c41be0c\" x=\"182.035894\" y=\"112.313368\" style=\"fill: #1f77b4; stroke: #1f77b4\"/>\n     <use xlink:href=\"#md21c41be0c\" x=\"123.713089\" y=\"84.933817\" style=\"fill: #1f77b4; stroke: #1f77b4\"/>\n     <use xlink:href=\"#md21c41be0c\" x=\"115.207466\" y=\"84.120211\" style=\"fill: #1f77b4; stroke: #1f77b4\"/>\n     <use xlink:href=\"#md21c41be0c\" x=\"111.433256\" y=\"73.005496\" style=\"fill: #1f77b4; stroke: #1f77b4\"/>\n     <use xlink:href=\"#md21c41be0c\" x=\"94.073363\" y=\"45.902739\" style=\"fill: #1f77b4; stroke: #1f77b4\"/>\n     <use xlink:href=\"#md21c41be0c\" x=\"131.747999\" y=\"80.939241\" style=\"fill: #1f77b4; stroke: #1f77b4\"/>\n     <use xlink:href=\"#md21c41be0c\" x=\"154.016446\" y=\"77.054076\" style=\"fill: #1f77b4; stroke: #1f77b4\"/>\n     <use xlink:href=\"#md21c41be0c\" x=\"153.493909\" y=\"95.709229\" style=\"fill: #1f77b4; stroke: #1f77b4\"/>\n     <use xlink:href=\"#md21c41be0c\" x=\"191.805124\" y=\"130.835468\" style=\"fill: #1f77b4; stroke: #1f77b4\"/>\n     <use xlink:href=\"#md21c41be0c\" x=\"153.3787\" y=\"81.762581\" style=\"fill: #1f77b4; stroke: #1f77b4\"/>\n     <use xlink:href=\"#md21c41be0c\" x=\"126.645812\" y=\"80.930312\" style=\"fill: #1f77b4; stroke: #1f77b4\"/>\n     <use xlink:href=\"#md21c41be0c\" x=\"85.911444\" y=\"69.181785\" style=\"fill: #1f77b4; stroke: #1f77b4\"/>\n     <use xlink:href=\"#md21c41be0c\" x=\"138.461439\" y=\"79.084594\" style=\"fill: #1f77b4; stroke: #1f77b4\"/>\n     <use xlink:href=\"#md21c41be0c\" x=\"101.709167\" y=\"45.455194\" style=\"fill: #1f77b4; stroke: #1f77b4\"/>\n     <use xlink:href=\"#md21c41be0c\" x=\"92.714355\" y=\"63.458055\" style=\"fill: #1f77b4; stroke: #1f77b4\"/>\n     <use xlink:href=\"#md21c41be0c\" x=\"166.779633\" y=\"108.775136\" style=\"fill: #1f77b4; stroke: #1f77b4\"/>\n     <use xlink:href=\"#md21c41be0c\" x=\"152.564672\" y=\"92.45656\" style=\"fill: #1f77b4; stroke: #1f77b4\"/>\n     <use xlink:href=\"#md21c41be0c\" x=\"187.307515\" y=\"134.823334\" style=\"fill: #1f77b4; stroke: #1f77b4\"/>\n     <use xlink:href=\"#md21c41be0c\" x=\"204.447238\" y=\"118.081668\" style=\"fill: #1f77b4; stroke: #1f77b4\"/>\n     <use xlink:href=\"#md21c41be0c\" x=\"94.191604\" y=\"52.961465\" style=\"fill: #1f77b4; stroke: #1f77b4\"/>\n     <use xlink:href=\"#md21c41be0c\" x=\"113.159053\" y=\"61.465864\" style=\"fill: #1f77b4; stroke: #1f77b4\"/>\n     <use xlink:href=\"#md21c41be0c\" x=\"209.65475\" y=\"137.360505\" style=\"fill: #1f77b4; stroke: #1f77b4\"/>\n     <use xlink:href=\"#md21c41be0c\" x=\"147.693835\" y=\"96.434671\" style=\"fill: #1f77b4; stroke: #1f77b4\"/>\n     <use xlink:href=\"#md21c41be0c\" x=\"123.524517\" y=\"84.332747\" style=\"fill: #1f77b4; stroke: #1f77b4\"/>\n     <use xlink:href=\"#md21c41be0c\" x=\"114.924072\" y=\"68.789748\" style=\"fill: #1f77b4; stroke: #1f77b4\"/>\n     <use xlink:href=\"#md21c41be0c\" x=\"113.448381\" y=\"78.460622\" style=\"fill: #1f77b4; stroke: #1f77b4\"/>\n     <use xlink:href=\"#md21c41be0c\" x=\"103.34198\" y=\"77.960328\" style=\"fill: #1f77b4; stroke: #1f77b4\"/>\n     <use xlink:href=\"#md21c41be0c\" x=\"148.598382\" y=\"91.758443\" style=\"fill: #1f77b4; stroke: #1f77b4\"/>\n     <use xlink:href=\"#md21c41be0c\" x=\"114.633258\" y=\"77.361184\" style=\"fill: #1f77b4; stroke: #1f77b4\"/>\n     <use xlink:href=\"#md21c41be0c\" x=\"138.121056\" y=\"83.567522\" style=\"fill: #1f77b4; stroke: #1f77b4\"/>\n     <use xlink:href=\"#md21c41be0c\" x=\"141.726613\" y=\"88.094748\" style=\"fill: #1f77b4; stroke: #1f77b4\"/>\n     <use xlink:href=\"#md21c41be0c\" x=\"103.842644\" y=\"57.612878\" style=\"fill: #1f77b4; stroke: #1f77b4\"/>\n     <use xlink:href=\"#md21c41be0c\" x=\"139.906969\" y=\"79.7228\" style=\"fill: #1f77b4; stroke: #1f77b4\"/>\n     <use xlink:href=\"#md21c41be0c\" x=\"119.514519\" y=\"94.113195\" style=\"fill: #1f77b4; stroke: #1f77b4\"/>\n     <use xlink:href=\"#md21c41be0c\" x=\"147.45529\" y=\"97.65466\" style=\"fill: #1f77b4; stroke: #1f77b4\"/>\n     <use xlink:href=\"#md21c41be0c\" x=\"65.836197\" y=\"38.247794\" style=\"fill: #1f77b4; stroke: #1f77b4\"/>\n     <use xlink:href=\"#md21c41be0c\" x=\"179.435794\" y=\"102.387526\" style=\"fill: #1f77b4; stroke: #1f77b4\"/>\n     <use xlink:href=\"#md21c41be0c\" x=\"150.685672\" y=\"92.391677\" style=\"fill: #1f77b4; stroke: #1f77b4\"/>\n     <use xlink:href=\"#md21c41be0c\" x=\"117.209687\" y=\"85.728172\" style=\"fill: #1f77b4; stroke: #1f77b4\"/>\n     <use xlink:href=\"#md21c41be0c\" x=\"101.577106\" y=\"60.864784\" style=\"fill: #1f77b4; stroke: #1f77b4\"/>\n     <use xlink:href=\"#md21c41be0c\" x=\"97.308869\" y=\"48.558374\" style=\"fill: #1f77b4; stroke: #1f77b4\"/>\n     <use xlink:href=\"#md21c41be0c\" x=\"128.320691\" y=\"98.57438\" style=\"fill: #1f77b4; stroke: #1f77b4\"/>\n     <use xlink:href=\"#md21c41be0c\" x=\"106.709894\" y=\"65.983288\" style=\"fill: #1f77b4; stroke: #1f77b4\"/>\n     <use xlink:href=\"#md21c41be0c\" x=\"76.969418\" y=\"61.147258\" style=\"fill: #1f77b4; stroke: #1f77b4\"/>\n     <use xlink:href=\"#md21c41be0c\" x=\"118.999655\" y=\"71.532771\" style=\"fill: #1f77b4; stroke: #1f77b4\"/>\n     <use xlink:href=\"#md21c41be0c\" x=\"89.864936\" y=\"54.708292\" style=\"fill: #1f77b4; stroke: #1f77b4\"/>\n     <use xlink:href=\"#md21c41be0c\" x=\"112.720409\" y=\"68.86396\" style=\"fill: #1f77b4; stroke: #1f77b4\"/>\n     <use xlink:href=\"#md21c41be0c\" x=\"165.790753\" y=\"110.617473\" style=\"fill: #1f77b4; stroke: #1f77b4\"/>\n     <use xlink:href=\"#md21c41be0c\" x=\"73.418334\" y=\"54.380556\" style=\"fill: #1f77b4; stroke: #1f77b4\"/>\n     <use xlink:href=\"#md21c41be0c\" x=\"120.550909\" y=\"39.689392\" style=\"fill: #1f77b4; stroke: #1f77b4\"/>\n     <use xlink:href=\"#md21c41be0c\" x=\"166.375596\" y=\"98.286289\" style=\"fill: #1f77b4; stroke: #1f77b4\"/>\n     <use xlink:href=\"#md21c41be0c\" x=\"139.614474\" y=\"75.118748\" style=\"fill: #1f77b4; stroke: #1f77b4\"/>\n     <use xlink:href=\"#md21c41be0c\" x=\"136.124506\" y=\"80.024191\" style=\"fill: #1f77b4; stroke: #1f77b4\"/>\n     <use xlink:href=\"#md21c41be0c\" x=\"170.028279\" y=\"113.8675\" style=\"fill: #1f77b4; stroke: #1f77b4\"/>\n     <use xlink:href=\"#md21c41be0c\" x=\"167.276686\" y=\"107.854807\" style=\"fill: #1f77b4; stroke: #1f77b4\"/>\n     <use xlink:href=\"#md21c41be0c\" x=\"153.580511\" y=\"93.249982\" style=\"fill: #1f77b4; stroke: #1f77b4\"/>\n     <use xlink:href=\"#md21c41be0c\" x=\"124.541968\" y=\"90.734444\" style=\"fill: #1f77b4; stroke: #1f77b4\"/>\n     <use xlink:href=\"#md21c41be0c\" x=\"123.966183\" y=\"71.511011\" style=\"fill: #1f77b4; stroke: #1f77b4\"/>\n     <use xlink:href=\"#md21c41be0c\" x=\"107.977462\" y=\"65.488072\" style=\"fill: #1f77b4; stroke: #1f77b4\"/>\n     <use xlink:href=\"#md21c41be0c\" x=\"145.758173\" y=\"91.955283\" style=\"fill: #1f77b4; stroke: #1f77b4\"/>\n     <use xlink:href=\"#md21c41be0c\" x=\"117.50455\" y=\"72.791139\" style=\"fill: #1f77b4; stroke: #1f77b4\"/>\n     <use xlink:href=\"#md21c41be0c\" x=\"140.335982\" y=\"93.907793\" style=\"fill: #1f77b4; stroke: #1f77b4\"/>\n     <use xlink:href=\"#md21c41be0c\" x=\"159.767344\" y=\"91.774471\" style=\"fill: #1f77b4; stroke: #1f77b4\"/>\n     <use xlink:href=\"#md21c41be0c\" x=\"173.20241\" y=\"113.186882\" style=\"fill: #1f77b4; stroke: #1f77b4\"/>\n     <use xlink:href=\"#md21c41be0c\" x=\"150.785277\" y=\"96.433923\" style=\"fill: #1f77b4; stroke: #1f77b4\"/>\n     <use xlink:href=\"#md21c41be0c\" x=\"167.713336\" y=\"99.740262\" style=\"fill: #1f77b4; stroke: #1f77b4\"/>\n     <use xlink:href=\"#md21c41be0c\" x=\"192.107914\" y=\"118.747469\" style=\"fill: #1f77b4; stroke: #1f77b4\"/>\n     <use xlink:href=\"#md21c41be0c\" x=\"123.704767\" y=\"81.895332\" style=\"fill: #1f77b4; stroke: #1f77b4\"/>\n     <use xlink:href=\"#md21c41be0c\" x=\"122.377029\" y=\"76.074851\" style=\"fill: #1f77b4; stroke: #1f77b4\"/>\n     <use xlink:href=\"#md21c41be0c\" x=\"88.581086\" y=\"59.945113\" style=\"fill: #1f77b4; stroke: #1f77b4\"/>\n     <use xlink:href=\"#md21c41be0c\" x=\"179.94625\" y=\"102.744788\" style=\"fill: #1f77b4; stroke: #1f77b4\"/>\n     <use xlink:href=\"#md21c41be0c\" x=\"108.202554\" y=\"53.044371\" style=\"fill: #1f77b4; stroke: #1f77b4\"/>\n     <use xlink:href=\"#md21c41be0c\" x=\"124.109013\" y=\"69.762488\" style=\"fill: #1f77b4; stroke: #1f77b4\"/>\n     <use xlink:href=\"#md21c41be0c\" x=\"165.104253\" y=\"95.363191\" style=\"fill: #1f77b4; stroke: #1f77b4\"/>\n     <use xlink:href=\"#md21c41be0c\" x=\"144.194264\" y=\"75.424287\" style=\"fill: #1f77b4; stroke: #1f77b4\"/>\n     <use xlink:href=\"#md21c41be0c\" x=\"102.570682\" y=\"45.325731\" style=\"fill: #1f77b4; stroke: #1f77b4\"/>\n     <use xlink:href=\"#md21c41be0c\" x=\"140.771791\" y=\"95.130376\" style=\"fill: #1f77b4; stroke: #1f77b4\"/>\n     <use xlink:href=\"#md21c41be0c\" x=\"142.149427\" y=\"80.528502\" style=\"fill: #1f77b4; stroke: #1f77b4\"/>\n     <use xlink:href=\"#md21c41be0c\" x=\"143.023833\" y=\"99.608027\" style=\"fill: #1f77b4; stroke: #1f77b4\"/>\n     <use xlink:href=\"#md21c41be0c\" x=\"155.614798\" y=\"100.845913\" style=\"fill: #1f77b4; stroke: #1f77b4\"/>\n     <use xlink:href=\"#md21c41be0c\" x=\"172.283603\" y=\"106.715677\" style=\"fill: #1f77b4; stroke: #1f77b4\"/>\n     <use xlink:href=\"#md21c41be0c\" x=\"120.825987\" y=\"74.082358\" style=\"fill: #1f77b4; stroke: #1f77b4\"/>\n     <use xlink:href=\"#md21c41be0c\" x=\"97.47548\" y=\"48.357557\" style=\"fill: #1f77b4; stroke: #1f77b4\"/>\n     <use xlink:href=\"#md21c41be0c\" x=\"150.92467\" y=\"83.281025\" style=\"fill: #1f77b4; stroke: #1f77b4\"/>\n     <use xlink:href=\"#md21c41be0c\" x=\"181.234487\" y=\"108.734116\" style=\"fill: #1f77b4; stroke: #1f77b4\"/>\n     <use xlink:href=\"#md21c41be0c\" x=\"125.67656\" y=\"73.529133\" style=\"fill: #1f77b4; stroke: #1f77b4\"/>\n     <use xlink:href=\"#md21c41be0c\" x=\"108.859134\" y=\"64.600741\" style=\"fill: #1f77b4; stroke: #1f77b4\"/>\n     <use xlink:href=\"#md21c41be0c\" x=\"164.385766\" y=\"103.924043\" style=\"fill: #1f77b4; stroke: #1f77b4\"/>\n     <use xlink:href=\"#md21c41be0c\" x=\"113.947542\" y=\"64.056506\" style=\"fill: #1f77b4; stroke: #1f77b4\"/>\n     <use xlink:href=\"#md21c41be0c\" x=\"83.448396\" y=\"67.46528\" style=\"fill: #1f77b4; stroke: #1f77b4\"/>\n     <use xlink:href=\"#md21c41be0c\" x=\"139.275698\" y=\"80.270981\" style=\"fill: #1f77b4; stroke: #1f77b4\"/>\n     <use xlink:href=\"#md21c41be0c\" x=\"141.746055\" y=\"80.100517\" style=\"fill: #1f77b4; stroke: #1f77b4\"/>\n     <use xlink:href=\"#md21c41be0c\" x=\"95.820929\" y=\"68.176893\" style=\"fill: #1f77b4; stroke: #1f77b4\"/>\n     <use xlink:href=\"#md21c41be0c\" x=\"129.657216\" y=\"87.251526\" style=\"fill: #1f77b4; stroke: #1f77b4\"/>\n     <use xlink:href=\"#md21c41be0c\" x=\"101.18\" y=\"62.808744\" style=\"fill: #1f77b4; stroke: #1f77b4\"/>\n     <use xlink:href=\"#md21c41be0c\" x=\"83.619297\" y=\"67.120011\" style=\"fill: #1f77b4; stroke: #1f77b4\"/>\n     <use xlink:href=\"#md21c41be0c\" x=\"195.470586\" y=\"104.476101\" style=\"fill: #1f77b4; stroke: #1f77b4\"/>\n     <use xlink:href=\"#md21c41be0c\" x=\"112.005591\" y=\"49.587618\" style=\"fill: #1f77b4; stroke: #1f77b4\"/>\n     <use xlink:href=\"#md21c41be0c\" x=\"143.428407\" y=\"87.082188\" style=\"fill: #1f77b4; stroke: #1f77b4\"/>\n     <use xlink:href=\"#md21c41be0c\" x=\"104.411689\" y=\"80.449634\" style=\"fill: #1f77b4; stroke: #1f77b4\"/>\n     <use xlink:href=\"#md21c41be0c\" x=\"174.728812\" y=\"118.862983\" style=\"fill: #1f77b4; stroke: #1f77b4\"/>\n     <use xlink:href=\"#md21c41be0c\" x=\"143.140877\" y=\"77.372409\" style=\"fill: #1f77b4; stroke: #1f77b4\"/>\n     <use xlink:href=\"#md21c41be0c\" x=\"95.863329\" y=\"52.058177\" style=\"fill: #1f77b4; stroke: #1f77b4\"/>\n     <use xlink:href=\"#md21c41be0c\" x=\"87.01741\" y=\"62.82956\" style=\"fill: #1f77b4; stroke: #1f77b4\"/>\n     <use xlink:href=\"#md21c41be0c\" x=\"101.046341\" y=\"79.058261\" style=\"fill: #1f77b4; stroke: #1f77b4\"/>\n     <use xlink:href=\"#md21c41be0c\" x=\"116.233937\" y=\"43.788499\" style=\"fill: #1f77b4; stroke: #1f77b4\"/>\n     <use xlink:href=\"#md21c41be0c\" x=\"143.730079\" y=\"98.529316\" style=\"fill: #1f77b4; stroke: #1f77b4\"/>\n     <use xlink:href=\"#md21c41be0c\" x=\"153.480012\" y=\"121.254164\" style=\"fill: #1f77b4; stroke: #1f77b4\"/>\n     <use xlink:href=\"#md21c41be0c\" x=\"169.009945\" y=\"106.062185\" style=\"fill: #1f77b4; stroke: #1f77b4\"/>\n     <use xlink:href=\"#md21c41be0c\" x=\"146.844714\" y=\"119.498879\" style=\"fill: #1f77b4; stroke: #1f77b4\"/>\n     <use xlink:href=\"#md21c41be0c\" x=\"159.520371\" y=\"102.785482\" style=\"fill: #1f77b4; stroke: #1f77b4\"/>\n     <use xlink:href=\"#md21c41be0c\" x=\"125.326328\" y=\"76.013361\" style=\"fill: #1f77b4; stroke: #1f77b4\"/>\n     <use xlink:href=\"#md21c41be0c\" x=\"153.016574\" y=\"101.826923\" style=\"fill: #1f77b4; stroke: #1f77b4\"/>\n     <use xlink:href=\"#md21c41be0c\" x=\"129.741904\" y=\"72.129293\" style=\"fill: #1f77b4; stroke: #1f77b4\"/>\n     <use xlink:href=\"#md21c41be0c\" x=\"118.25943\" y=\"77.434337\" style=\"fill: #1f77b4; stroke: #1f77b4\"/>\n     <use xlink:href=\"#md21c41be0c\" x=\"84.416239\" y=\"45.124031\" style=\"fill: #1f77b4; stroke: #1f77b4\"/>\n     <use xlink:href=\"#md21c41be0c\" x=\"142.715974\" y=\"96.275731\" style=\"fill: #1f77b4; stroke: #1f77b4\"/>\n     <use xlink:href=\"#md21c41be0c\" x=\"150.767939\" y=\"89.670716\" style=\"fill: #1f77b4; stroke: #1f77b4\"/>\n     <use xlink:href=\"#md21c41be0c\" x=\"135.852052\" y=\"79.427767\" style=\"fill: #1f77b4; stroke: #1f77b4\"/>\n     <use xlink:href=\"#md21c41be0c\" x=\"162.367719\" y=\"97.362672\" style=\"fill: #1f77b4; stroke: #1f77b4\"/>\n     <use xlink:href=\"#md21c41be0c\" x=\"117.006743\" y=\"61.457576\" style=\"fill: #1f77b4; stroke: #1f77b4\"/>\n     <use xlink:href=\"#md21c41be0c\" x=\"101.385291\" y=\"65.408716\" style=\"fill: #1f77b4; stroke: #1f77b4\"/>\n     <use xlink:href=\"#md21c41be0c\" x=\"99.7031\" y=\"57.894887\" style=\"fill: #1f77b4; stroke: #1f77b4\"/>\n     <use xlink:href=\"#md21c41be0c\" x=\"97.191029\" y=\"57.058961\" style=\"fill: #1f77b4; stroke: #1f77b4\"/>\n     <use xlink:href=\"#md21c41be0c\" x=\"168.644856\" y=\"124.844032\" style=\"fill: #1f77b4; stroke: #1f77b4\"/>\n     <use xlink:href=\"#md21c41be0c\" x=\"215.364915\" y=\"116.279386\" style=\"fill: #1f77b4; stroke: #1f77b4\"/>\n     <use xlink:href=\"#md21c41be0c\" x=\"144.975462\" y=\"94.645462\" style=\"fill: #1f77b4; stroke: #1f77b4\"/>\n     <use xlink:href=\"#md21c41be0c\" x=\"92.549809\" y=\"40.056982\" style=\"fill: #1f77b4; stroke: #1f77b4\"/>\n     <use xlink:href=\"#md21c41be0c\" x=\"157.663384\" y=\"69.920683\" style=\"fill: #1f77b4; stroke: #1f77b4\"/>\n     <use xlink:href=\"#md21c41be0c\" x=\"121.637857\" y=\"58.370262\" style=\"fill: #1f77b4; stroke: #1f77b4\"/>\n     <use xlink:href=\"#md21c41be0c\" x=\"119.475485\" y=\"77.498942\" style=\"fill: #1f77b4; stroke: #1f77b4\"/>\n     <use xlink:href=\"#md21c41be0c\" x=\"101.177962\" y=\"45.439928\" style=\"fill: #1f77b4; stroke: #1f77b4\"/>\n     <use xlink:href=\"#md21c41be0c\" x=\"69.715463\" y=\"49.446415\" style=\"fill: #1f77b4; stroke: #1f77b4\"/>\n     <use xlink:href=\"#md21c41be0c\" x=\"87.167098\" y=\"60.393497\" style=\"fill: #1f77b4; stroke: #1f77b4\"/>\n     <use xlink:href=\"#md21c41be0c\" x=\"101.813112\" y=\"54.926652\" style=\"fill: #1f77b4; stroke: #1f77b4\"/>\n     <use xlink:href=\"#md21c41be0c\" x=\"164.051615\" y=\"95.928284\" style=\"fill: #1f77b4; stroke: #1f77b4\"/>\n     <use xlink:href=\"#md21c41be0c\" x=\"193.524326\" y=\"102.287632\" style=\"fill: #1f77b4; stroke: #1f77b4\"/>\n     <use xlink:href=\"#md21c41be0c\" x=\"154.391787\" y=\"87.594439\" style=\"fill: #1f77b4; stroke: #1f77b4\"/>\n     <use xlink:href=\"#md21c41be0c\" x=\"134.174697\" y=\"95.564098\" style=\"fill: #1f77b4; stroke: #1f77b4\"/>\n     <use xlink:href=\"#md21c41be0c\" x=\"172.402235\" y=\"102.527608\" style=\"fill: #1f77b4; stroke: #1f77b4\"/>\n     <use xlink:href=\"#md21c41be0c\" x=\"134.075865\" y=\"69.562801\" style=\"fill: #1f77b4; stroke: #1f77b4\"/>\n     <use xlink:href=\"#md21c41be0c\" x=\"158.340418\" y=\"93.878409\" style=\"fill: #1f77b4; stroke: #1f77b4\"/>\n     <use xlink:href=\"#md21c41be0c\" x=\"106.235945\" y=\"68.545108\" style=\"fill: #1f77b4; stroke: #1f77b4\"/>\n     <use xlink:href=\"#md21c41be0c\" x=\"202.753395\" y=\"128.699387\" style=\"fill: #1f77b4; stroke: #1f77b4\"/>\n     <use xlink:href=\"#md21c41be0c\" x=\"111.481984\" y=\"52.469649\" style=\"fill: #1f77b4; stroke: #1f77b4\"/>\n     <use xlink:href=\"#md21c41be0c\" x=\"113.35727\" y=\"66.831463\" style=\"fill: #1f77b4; stroke: #1f77b4\"/>\n     <use xlink:href=\"#md21c41be0c\" x=\"132.993759\" y=\"70.064059\" style=\"fill: #1f77b4; stroke: #1f77b4\"/>\n     <use xlink:href=\"#md21c41be0c\" x=\"99.535082\" y=\"62.8143\" style=\"fill: #1f77b4; stroke: #1f77b4\"/>\n     <use xlink:href=\"#md21c41be0c\" x=\"176.977957\" y=\"105.000066\" style=\"fill: #1f77b4; stroke: #1f77b4\"/>\n     <use xlink:href=\"#md21c41be0c\" x=\"154.472051\" y=\"102.775427\" style=\"fill: #1f77b4; stroke: #1f77b4\"/>\n     <use xlink:href=\"#md21c41be0c\" x=\"99.569036\" y=\"59.147163\" style=\"fill: #1f77b4; stroke: #1f77b4\"/>\n     <use xlink:href=\"#md21c41be0c\" x=\"152.401148\" y=\"99.896261\" style=\"fill: #1f77b4; stroke: #1f77b4\"/>\n     <use xlink:href=\"#md21c41be0c\" x=\"123.416327\" y=\"70.174887\" style=\"fill: #1f77b4; stroke: #1f77b4\"/>\n     <use xlink:href=\"#md21c41be0c\" x=\"108.543742\" y=\"66.418149\" style=\"fill: #1f77b4; stroke: #1f77b4\"/>\n     <use xlink:href=\"#md21c41be0c\" x=\"129.29442\" y=\"82.484397\" style=\"fill: #1f77b4; stroke: #1f77b4\"/>\n     <use xlink:href=\"#md21c41be0c\" x=\"60.642995\" y=\"43.953786\" style=\"fill: #1f77b4; stroke: #1f77b4\"/>\n     <use xlink:href=\"#md21c41be0c\" x=\"160.154891\" y=\"118.778504\" style=\"fill: #1f77b4; stroke: #1f77b4\"/>\n     <use xlink:href=\"#md21c41be0c\" x=\"118.629613\" y=\"74.034232\" style=\"fill: #1f77b4; stroke: #1f77b4\"/>\n     <use xlink:href=\"#md21c41be0c\" x=\"120.04457\" y=\"71.123862\" style=\"fill: #1f77b4; stroke: #1f77b4\"/>\n     <use xlink:href=\"#md21c41be0c\" x=\"124.557556\" y=\"80.78855\" style=\"fill: #1f77b4; stroke: #1f77b4\"/>\n     <use xlink:href=\"#md21c41be0c\" x=\"167.361968\" y=\"96.927779\" style=\"fill: #1f77b4; stroke: #1f77b4\"/>\n     <use xlink:href=\"#md21c41be0c\" x=\"125.54794\" y=\"88.81502\" style=\"fill: #1f77b4; stroke: #1f77b4\"/>\n     <use xlink:href=\"#md21c41be0c\" x=\"171.289904\" y=\"97.839237\" style=\"fill: #1f77b4; stroke: #1f77b4\"/>\n     <use xlink:href=\"#md21c41be0c\" x=\"110.315338\" y=\"66.481457\" style=\"fill: #1f77b4; stroke: #1f77b4\"/>\n     <use xlink:href=\"#md21c41be0c\" x=\"136.866049\" y=\"94.400855\" style=\"fill: #1f77b4; stroke: #1f77b4\"/>\n     <use xlink:href=\"#md21c41be0c\" x=\"98.340507\" y=\"67.198998\" style=\"fill: #1f77b4; stroke: #1f77b4\"/>\n     <use xlink:href=\"#md21c41be0c\" x=\"112.895947\" y=\"61.465214\" style=\"fill: #1f77b4; stroke: #1f77b4\"/>\n     <use xlink:href=\"#md21c41be0c\" x=\"157.585276\" y=\"98.370641\" style=\"fill: #1f77b4; stroke: #1f77b4\"/>\n     <use xlink:href=\"#md21c41be0c\" x=\"117.474408\" y=\"74.280214\" style=\"fill: #1f77b4; stroke: #1f77b4\"/>\n     <use xlink:href=\"#md21c41be0c\" x=\"60.359941\" y=\"26.526538\" style=\"fill: #1f77b4; stroke: #1f77b4\"/>\n     <use xlink:href=\"#md21c41be0c\" x=\"145.448873\" y=\"77.65953\" style=\"fill: #1f77b4; stroke: #1f77b4\"/>\n     <use xlink:href=\"#md21c41be0c\" x=\"186.201256\" y=\"96.370372\" style=\"fill: #1f77b4; stroke: #1f77b4\"/>\n     <use xlink:href=\"#md21c41be0c\" x=\"133.992283\" y=\"64.983647\" style=\"fill: #1f77b4; stroke: #1f77b4\"/>\n     <use xlink:href=\"#md21c41be0c\" x=\"84.823542\" y=\"49.165685\" style=\"fill: #1f77b4; stroke: #1f77b4\"/>\n     <use xlink:href=\"#md21c41be0c\" x=\"148.944042\" y=\"102.930266\" style=\"fill: #1f77b4; stroke: #1f77b4\"/>\n     <use xlink:href=\"#md21c41be0c\" x=\"104.298767\" y=\"65.062256\" style=\"fill: #1f77b4; stroke: #1f77b4\"/>\n     <use xlink:href=\"#md21c41be0c\" x=\"152.917419\" y=\"97.735653\" style=\"fill: #1f77b4; stroke: #1f77b4\"/>\n     <use xlink:href=\"#md21c41be0c\" x=\"128.53197\" y=\"67.957172\" style=\"fill: #1f77b4; stroke: #1f77b4\"/>\n     <use xlink:href=\"#md21c41be0c\" x=\"127.140778\" y=\"83.592672\" style=\"fill: #1f77b4; stroke: #1f77b4\"/>\n     <use xlink:href=\"#md21c41be0c\" x=\"99.902696\" y=\"48.001817\" style=\"fill: #1f77b4; stroke: #1f77b4\"/>\n     <use xlink:href=\"#md21c41be0c\" x=\"111.226621\" y=\"60.276415\" style=\"fill: #1f77b4; stroke: #1f77b4\"/>\n     <use xlink:href=\"#md21c41be0c\" x=\"99.41056\" y=\"73.353995\" style=\"fill: #1f77b4; stroke: #1f77b4\"/>\n     <use xlink:href=\"#md21c41be0c\" x=\"130.020523\" y=\"67.060018\" style=\"fill: #1f77b4; stroke: #1f77b4\"/>\n     <use xlink:href=\"#md21c41be0c\" x=\"133.691722\" y=\"76.183595\" style=\"fill: #1f77b4; stroke: #1f77b4\"/>\n     <use xlink:href=\"#md21c41be0c\" x=\"109.674828\" y=\"76.581669\" style=\"fill: #1f77b4; stroke: #1f77b4\"/>\n     <use xlink:href=\"#md21c41be0c\" x=\"79.727808\" y=\"43.966445\" style=\"fill: #1f77b4; stroke: #1f77b4\"/>\n     <use xlink:href=\"#md21c41be0c\" x=\"79.706055\" y=\"65.264707\" style=\"fill: #1f77b4; stroke: #1f77b4\"/>\n     <use xlink:href=\"#md21c41be0c\" x=\"94.394667\" y=\"64.050078\" style=\"fill: #1f77b4; stroke: #1f77b4\"/>\n     <use xlink:href=\"#md21c41be0c\" x=\"159.43217\" y=\"91.123986\" style=\"fill: #1f77b4; stroke: #1f77b4\"/>\n     <use xlink:href=\"#md21c41be0c\" x=\"97.23495\" y=\"65.958227\" style=\"fill: #1f77b4; stroke: #1f77b4\"/>\n     <use xlink:href=\"#md21c41be0c\" x=\"171.377258\" y=\"107.579503\" style=\"fill: #1f77b4; stroke: #1f77b4\"/>\n     <use xlink:href=\"#md21c41be0c\" x=\"101.889721\" y=\"65.485866\" style=\"fill: #1f77b4; stroke: #1f77b4\"/>\n     <use xlink:href=\"#md21c41be0c\" x=\"197.829881\" y=\"126.143353\" style=\"fill: #1f77b4; stroke: #1f77b4\"/>\n     <use xlink:href=\"#md21c41be0c\" x=\"81.551907\" y=\"36.538146\" style=\"fill: #1f77b4; stroke: #1f77b4\"/>\n     <use xlink:href=\"#md21c41be0c\" x=\"164.731618\" y=\"116.61722\" style=\"fill: #1f77b4; stroke: #1f77b4\"/>\n     <use xlink:href=\"#md21c41be0c\" x=\"153.539614\" y=\"91.802781\" style=\"fill: #1f77b4; stroke: #1f77b4\"/>\n     <use xlink:href=\"#md21c41be0c\" x=\"123.617897\" y=\"67.689127\" style=\"fill: #1f77b4; stroke: #1f77b4\"/>\n     <use xlink:href=\"#md21c41be0c\" x=\"163.882553\" y=\"88.21979\" style=\"fill: #1f77b4; stroke: #1f77b4\"/>\n     <use xlink:href=\"#md21c41be0c\" x=\"110.029591\" y=\"73.938608\" style=\"fill: #1f77b4; stroke: #1f77b4\"/>\n     <use xlink:href=\"#md21c41be0c\" x=\"85.94848\" y=\"55.874024\" style=\"fill: #1f77b4; stroke: #1f77b4\"/>\n     <use xlink:href=\"#md21c41be0c\" x=\"100.392062\" y=\"57.666512\" style=\"fill: #1f77b4; stroke: #1f77b4\"/>\n     <use xlink:href=\"#md21c41be0c\" x=\"117.967971\" y=\"82.40818\" style=\"fill: #1f77b4; stroke: #1f77b4\"/>\n     <use xlink:href=\"#md21c41be0c\" x=\"156.021167\" y=\"84.405032\" style=\"fill: #1f77b4; stroke: #1f77b4\"/>\n     <use xlink:href=\"#md21c41be0c\" x=\"166.098676\" y=\"94.458293\" style=\"fill: #1f77b4; stroke: #1f77b4\"/>\n     <use xlink:href=\"#md21c41be0c\" x=\"101.838127\" y=\"62.727601\" style=\"fill: #1f77b4; stroke: #1f77b4\"/>\n     <use xlink:href=\"#md21c41be0c\" x=\"95.467118\" y=\"70.759457\" style=\"fill: #1f77b4; stroke: #1f77b4\"/>\n     <use xlink:href=\"#md21c41be0c\" x=\"126.36977\" y=\"79.278492\" style=\"fill: #1f77b4; stroke: #1f77b4\"/>\n     <use xlink:href=\"#md21c41be0c\" x=\"103.233277\" y=\"64.55497\" style=\"fill: #1f77b4; stroke: #1f77b4\"/>\n     <use xlink:href=\"#md21c41be0c\" x=\"108.975632\" y=\"50.003532\" style=\"fill: #1f77b4; stroke: #1f77b4\"/>\n     <use xlink:href=\"#md21c41be0c\" x=\"127.887567\" y=\"72.880216\" style=\"fill: #1f77b4; stroke: #1f77b4\"/>\n     <use xlink:href=\"#md21c41be0c\" x=\"145.034293\" y=\"100.551015\" style=\"fill: #1f77b4; stroke: #1f77b4\"/>\n     <use xlink:href=\"#md21c41be0c\" x=\"143.621596\" y=\"97.354241\" style=\"fill: #1f77b4; stroke: #1f77b4\"/>\n     <use xlink:href=\"#md21c41be0c\" x=\"72.545403\" y=\"30.579846\" style=\"fill: #1f77b4; stroke: #1f77b4\"/>\n     <use xlink:href=\"#md21c41be0c\" x=\"139.111653\" y=\"78.466101\" style=\"fill: #1f77b4; stroke: #1f77b4\"/>\n     <use xlink:href=\"#md21c41be0c\" x=\"110.401199\" y=\"68.035227\" style=\"fill: #1f77b4; stroke: #1f77b4\"/>\n     <use xlink:href=\"#md21c41be0c\" x=\"111.460439\" y=\"57.542535\" style=\"fill: #1f77b4; stroke: #1f77b4\"/>\n     <use xlink:href=\"#md21c41be0c\" x=\"118.944822\" y=\"71.332787\" style=\"fill: #1f77b4; stroke: #1f77b4\"/>\n     <use xlink:href=\"#md21c41be0c\" x=\"174.748233\" y=\"104.393251\" style=\"fill: #1f77b4; stroke: #1f77b4\"/>\n     <use xlink:href=\"#md21c41be0c\" x=\"154.551664\" y=\"99.840019\" style=\"fill: #1f77b4; stroke: #1f77b4\"/>\n     <use xlink:href=\"#md21c41be0c\" x=\"133.265333\" y=\"78.932818\" style=\"fill: #1f77b4; stroke: #1f77b4\"/>\n     <use xlink:href=\"#md21c41be0c\" x=\"92.775152\" y=\"45.488128\" style=\"fill: #1f77b4; stroke: #1f77b4\"/>\n     <use xlink:href=\"#md21c41be0c\" x=\"172.508799\" y=\"91.780958\" style=\"fill: #1f77b4; stroke: #1f77b4\"/>\n     <use xlink:href=\"#md21c41be0c\" x=\"113.648397\" y=\"76.017359\" style=\"fill: #1f77b4; stroke: #1f77b4\"/>\n     <use xlink:href=\"#md21c41be0c\" x=\"149.686218\" y=\"86.272037\" style=\"fill: #1f77b4; stroke: #1f77b4\"/>\n     <use xlink:href=\"#md21c41be0c\" x=\"170.92477\" y=\"112.572085\" style=\"fill: #1f77b4; stroke: #1f77b4\"/>\n     <use xlink:href=\"#md21c41be0c\" x=\"132.674898\" y=\"94.353131\" style=\"fill: #1f77b4; stroke: #1f77b4\"/>\n     <use xlink:href=\"#md21c41be0c\" x=\"145.663155\" y=\"93.488166\" style=\"fill: #1f77b4; stroke: #1f77b4\"/>\n     <use xlink:href=\"#md21c41be0c\" x=\"140.250658\" y=\"81.920357\" style=\"fill: #1f77b4; stroke: #1f77b4\"/>\n     <use xlink:href=\"#md21c41be0c\" x=\"130.378384\" y=\"81.095635\" style=\"fill: #1f77b4; stroke: #1f77b4\"/>\n     <use xlink:href=\"#md21c41be0c\" x=\"105.735287\" y=\"61.455873\" style=\"fill: #1f77b4; stroke: #1f77b4\"/>\n     <use xlink:href=\"#md21c41be0c\" x=\"159.63284\" y=\"85.004685\" style=\"fill: #1f77b4; stroke: #1f77b4\"/>\n     <use xlink:href=\"#md21c41be0c\" x=\"102.270872\" y=\"56.290715\" style=\"fill: #1f77b4; stroke: #1f77b4\"/>\n     <use xlink:href=\"#md21c41be0c\" x=\"120.884218\" y=\"82.1764\" style=\"fill: #1f77b4; stroke: #1f77b4\"/>\n     <use xlink:href=\"#md21c41be0c\" x=\"128.718295\" y=\"54.424965\" style=\"fill: #1f77b4; stroke: #1f77b4\"/>\n     <use xlink:href=\"#md21c41be0c\" x=\"203.748984\" y=\"126.675733\" style=\"fill: #1f77b4; stroke: #1f77b4\"/>\n     <use xlink:href=\"#md21c41be0c\" x=\"119.214417\" y=\"46.317182\" style=\"fill: #1f77b4; stroke: #1f77b4\"/>\n     <use xlink:href=\"#md21c41be0c\" x=\"100.145119\" y=\"58.91252\" style=\"fill: #1f77b4; stroke: #1f77b4\"/>\n     <use xlink:href=\"#md21c41be0c\" x=\"151.980874\" y=\"82.951096\" style=\"fill: #1f77b4; stroke: #1f77b4\"/>\n     <use xlink:href=\"#md21c41be0c\" x=\"62.761976\" y=\"62.678965\" style=\"fill: #1f77b4; stroke: #1f77b4\"/>\n     <use xlink:href=\"#md21c41be0c\" x=\"198.82139\" y=\"128.74173\" style=\"fill: #1f77b4; stroke: #1f77b4\"/>\n     <use xlink:href=\"#md21c41be0c\" x=\"86.225791\" y=\"59.244152\" style=\"fill: #1f77b4; stroke: #1f77b4\"/>\n     <use xlink:href=\"#md21c41be0c\" x=\"94.074975\" y=\"47.787415\" style=\"fill: #1f77b4; stroke: #1f77b4\"/>\n     <use xlink:href=\"#md21c41be0c\" x=\"89.321561\" y=\"62.614274\" style=\"fill: #1f77b4; stroke: #1f77b4\"/>\n     <use xlink:href=\"#md21c41be0c\" x=\"92.993728\" y=\"53.051051\" style=\"fill: #1f77b4; stroke: #1f77b4\"/>\n     <use xlink:href=\"#md21c41be0c\" x=\"152.090843\" y=\"97.883554\" style=\"fill: #1f77b4; stroke: #1f77b4\"/>\n     <use xlink:href=\"#md21c41be0c\" x=\"139.225413\" y=\"93.418804\" style=\"fill: #1f77b4; stroke: #1f77b4\"/>\n     <use xlink:href=\"#md21c41be0c\" x=\"135.558921\" y=\"85.635363\" style=\"fill: #1f77b4; stroke: #1f77b4\"/>\n     <use xlink:href=\"#md21c41be0c\" x=\"194.949359\" y=\"106.434459\" style=\"fill: #1f77b4; stroke: #1f77b4\"/>\n     <use xlink:href=\"#md21c41be0c\" x=\"198.957184\" y=\"119.671824\" style=\"fill: #1f77b4; stroke: #1f77b4\"/>\n     <use xlink:href=\"#md21c41be0c\" x=\"171.989309\" y=\"110.820019\" style=\"fill: #1f77b4; stroke: #1f77b4\"/>\n     <use xlink:href=\"#md21c41be0c\" x=\"97.812795\" y=\"49.964987\" style=\"fill: #1f77b4; stroke: #1f77b4\"/>\n     <use xlink:href=\"#md21c41be0c\" x=\"99.21433\" y=\"58.846471\" style=\"fill: #1f77b4; stroke: #1f77b4\"/>\n     <use xlink:href=\"#md21c41be0c\" x=\"168.410227\" y=\"106.764849\" style=\"fill: #1f77b4; stroke: #1f77b4\"/>\n     <use xlink:href=\"#md21c41be0c\" x=\"154.943681\" y=\"101.199951\" style=\"fill: #1f77b4; stroke: #1f77b4\"/>\n     <use xlink:href=\"#md21c41be0c\" x=\"158.748697\" y=\"91.082104\" style=\"fill: #1f77b4; stroke: #1f77b4\"/>\n     <use xlink:href=\"#md21c41be0c\" x=\"108.04824\" y=\"66.06468\" style=\"fill: #1f77b4; stroke: #1f77b4\"/>\n     <use xlink:href=\"#md21c41be0c\" x=\"123.316324\" y=\"50.839525\" style=\"fill: #1f77b4; stroke: #1f77b4\"/>\n     <use xlink:href=\"#md21c41be0c\" x=\"141.982804\" y=\"90.887019\" style=\"fill: #1f77b4; stroke: #1f77b4\"/>\n     <use xlink:href=\"#md21c41be0c\" x=\"94.570496\" y=\"62.983413\" style=\"fill: #1f77b4; stroke: #1f77b4\"/>\n     <use xlink:href=\"#md21c41be0c\" x=\"174.876196\" y=\"129.950259\" style=\"fill: #1f77b4; stroke: #1f77b4\"/>\n     <use xlink:href=\"#md21c41be0c\" x=\"137.757998\" y=\"81.312401\" style=\"fill: #1f77b4; stroke: #1f77b4\"/>\n     <use xlink:href=\"#md21c41be0c\" x=\"101.957712\" y=\"78.243508\" style=\"fill: #1f77b4; stroke: #1f77b4\"/>\n     <use xlink:href=\"#md21c41be0c\" x=\"65.295747\" y=\"43.001929\" style=\"fill: #1f77b4; stroke: #1f77b4\"/>\n     <use xlink:href=\"#md21c41be0c\" x=\"110.843745\" y=\"38.239337\" style=\"fill: #1f77b4; stroke: #1f77b4\"/>\n     <use xlink:href=\"#md21c41be0c\" x=\"80.696134\" y=\"43.392451\" style=\"fill: #1f77b4; stroke: #1f77b4\"/>\n     <use xlink:href=\"#md21c41be0c\" x=\"160.600853\" y=\"93.641298\" style=\"fill: #1f77b4; stroke: #1f77b4\"/>\n     <use xlink:href=\"#md21c41be0c\" x=\"105.272299\" y=\"65.689664\" style=\"fill: #1f77b4; stroke: #1f77b4\"/>\n     <use xlink:href=\"#md21c41be0c\" x=\"89.569279\" y=\"42.045189\" style=\"fill: #1f77b4; stroke: #1f77b4\"/>\n     <use xlink:href=\"#md21c41be0c\" x=\"100.445949\" y=\"69.822988\" style=\"fill: #1f77b4; stroke: #1f77b4\"/>\n     <use xlink:href=\"#md21c41be0c\" x=\"154.226022\" y=\"92.673493\" style=\"fill: #1f77b4; stroke: #1f77b4\"/>\n     <use xlink:href=\"#md21c41be0c\" x=\"81.976733\" y=\"48.585093\" style=\"fill: #1f77b4; stroke: #1f77b4\"/>\n     <use xlink:href=\"#md21c41be0c\" x=\"94.262361\" y=\"61.035205\" style=\"fill: #1f77b4; stroke: #1f77b4\"/>\n     <use xlink:href=\"#md21c41be0c\" x=\"86.092464\" y=\"49.167832\" style=\"fill: #1f77b4; stroke: #1f77b4\"/>\n     <use xlink:href=\"#md21c41be0c\" x=\"179.362274\" y=\"119.005399\" style=\"fill: #1f77b4; stroke: #1f77b4\"/>\n     <use xlink:href=\"#md21c41be0c\" x=\"141.392897\" y=\"79.355395\" style=\"fill: #1f77b4; stroke: #1f77b4\"/>\n     <use xlink:href=\"#md21c41be0c\" x=\"141.191475\" y=\"90.156653\" style=\"fill: #1f77b4; stroke: #1f77b4\"/>\n     <use xlink:href=\"#md21c41be0c\" x=\"149.256482\" y=\"98.967753\" style=\"fill: #1f77b4; stroke: #1f77b4\"/>\n     <use xlink:href=\"#md21c41be0c\" x=\"145.951571\" y=\"77.495363\" style=\"fill: #1f77b4; stroke: #1f77b4\"/>\n     <use xlink:href=\"#md21c41be0c\" x=\"138.721744\" y=\"84.353508\" style=\"fill: #1f77b4; stroke: #1f77b4\"/>\n     <use xlink:href=\"#md21c41be0c\" x=\"86.885082\" y=\"62.963091\" style=\"fill: #1f77b4; stroke: #1f77b4\"/>\n     <use xlink:href=\"#md21c41be0c\" x=\"143.965055\" y=\"82.070607\" style=\"fill: #1f77b4; stroke: #1f77b4\"/>\n     <use xlink:href=\"#md21c41be0c\" x=\"119.955212\" y=\"69.106277\" style=\"fill: #1f77b4; stroke: #1f77b4\"/>\n     <use xlink:href=\"#md21c41be0c\" x=\"135.101715\" y=\"96.441738\" style=\"fill: #1f77b4; stroke: #1f77b4\"/>\n     <use xlink:href=\"#md21c41be0c\" x=\"161.828893\" y=\"111.331993\" style=\"fill: #1f77b4; stroke: #1f77b4\"/>\n     <use xlink:href=\"#md21c41be0c\" x=\"111.648555\" y=\"72.51847\" style=\"fill: #1f77b4; stroke: #1f77b4\"/>\n     <use xlink:href=\"#md21c41be0c\" x=\"100.415779\" y=\"66.145335\" style=\"fill: #1f77b4; stroke: #1f77b4\"/>\n     <use xlink:href=\"#md21c41be0c\" x=\"160.96304\" y=\"91.571092\" style=\"fill: #1f77b4; stroke: #1f77b4\"/>\n     <use xlink:href=\"#md21c41be0c\" x=\"152.891742\" y=\"89.636495\" style=\"fill: #1f77b4; stroke: #1f77b4\"/>\n     <use xlink:href=\"#md21c41be0c\" x=\"215.291705\" y=\"139.5\" style=\"fill: #1f77b4; stroke: #1f77b4\"/>\n     <use xlink:href=\"#md21c41be0c\" x=\"140.921813\" y=\"92.362856\" style=\"fill: #1f77b4; stroke: #1f77b4\"/>\n     <use xlink:href=\"#md21c41be0c\" x=\"158.602319\" y=\"97.397923\" style=\"fill: #1f77b4; stroke: #1f77b4\"/>\n     <use xlink:href=\"#md21c41be0c\" x=\"113.921521\" y=\"72.019018\" style=\"fill: #1f77b4; stroke: #1f77b4\"/>\n     <use xlink:href=\"#md21c41be0c\" x=\"118.832918\" y=\"49.620039\" style=\"fill: #1f77b4; stroke: #1f77b4\"/>\n     <use xlink:href=\"#md21c41be0c\" x=\"111.574218\" y=\"71.44329\" style=\"fill: #1f77b4; stroke: #1f77b4\"/>\n     <use xlink:href=\"#md21c41be0c\" x=\"213.372501\" y=\"136.960071\" style=\"fill: #1f77b4; stroke: #1f77b4\"/>\n     <use xlink:href=\"#md21c41be0c\" x=\"122.930232\" y=\"97.318613\" style=\"fill: #1f77b4; stroke: #1f77b4\"/>\n     <use xlink:href=\"#md21c41be0c\" x=\"80.235858\" y=\"49.432178\" style=\"fill: #1f77b4; stroke: #1f77b4\"/>\n     <use xlink:href=\"#md21c41be0c\" x=\"129.792698\" y=\"82.430336\" style=\"fill: #1f77b4; stroke: #1f77b4\"/>\n     <use xlink:href=\"#md21c41be0c\" x=\"180.948775\" y=\"106.208697\" style=\"fill: #1f77b4; stroke: #1f77b4\"/>\n     <use xlink:href=\"#md21c41be0c\" x=\"170.499856\" y=\"99.901433\" style=\"fill: #1f77b4; stroke: #1f77b4\"/>\n     <use xlink:href=\"#md21c41be0c\" x=\"88.849633\" y=\"51.304612\" style=\"fill: #1f77b4; stroke: #1f77b4\"/>\n     <use xlink:href=\"#md21c41be0c\" x=\"137.474356\" y=\"84.375375\" style=\"fill: #1f77b4; stroke: #1f77b4\"/>\n     <use xlink:href=\"#md21c41be0c\" x=\"153.70837\" y=\"99.472873\" style=\"fill: #1f77b4; stroke: #1f77b4\"/>\n     <use xlink:href=\"#md21c41be0c\" x=\"138.355186\" y=\"81.512218\" style=\"fill: #1f77b4; stroke: #1f77b4\"/>\n     <use xlink:href=\"#md21c41be0c\" x=\"111.749983\" y=\"64.969672\" style=\"fill: #1f77b4; stroke: #1f77b4\"/>\n     <use xlink:href=\"#md21c41be0c\" x=\"110.132274\" y=\"67.261159\" style=\"fill: #1f77b4; stroke: #1f77b4\"/>\n     <use xlink:href=\"#md21c41be0c\" x=\"115.391161\" y=\"56.861953\" style=\"fill: #1f77b4; stroke: #1f77b4\"/>\n     <use xlink:href=\"#md21c41be0c\" x=\"59.167881\" y=\"48.830459\" style=\"fill: #1f77b4; stroke: #1f77b4\"/>\n     <use xlink:href=\"#md21c41be0c\" x=\"137.420602\" y=\"93.93343\" style=\"fill: #1f77b4; stroke: #1f77b4\"/>\n     <use xlink:href=\"#md21c41be0c\" x=\"113.816275\" y=\"51.875836\" style=\"fill: #1f77b4; stroke: #1f77b4\"/>\n     <use xlink:href=\"#md21c41be0c\" x=\"131.183979\" y=\"62.899869\" style=\"fill: #1f77b4; stroke: #1f77b4\"/>\n     <use xlink:href=\"#md21c41be0c\" x=\"190.318329\" y=\"97.945026\" style=\"fill: #1f77b4; stroke: #1f77b4\"/>\n     <use xlink:href=\"#md21c41be0c\" x=\"121.110442\" y=\"73.726966\" style=\"fill: #1f77b4; stroke: #1f77b4\"/>\n     <use xlink:href=\"#md21c41be0c\" x=\"124.388229\" y=\"88.514597\" style=\"fill: #1f77b4; stroke: #1f77b4\"/>\n     <use xlink:href=\"#md21c41be0c\" x=\"107.952043\" y=\"65.715221\" style=\"fill: #1f77b4; stroke: #1f77b4\"/>\n     <use xlink:href=\"#md21c41be0c\" x=\"128.279728\" y=\"72.322149\" style=\"fill: #1f77b4; stroke: #1f77b4\"/>\n     <use xlink:href=\"#md21c41be0c\" x=\"124.493163\" y=\"83.177418\" style=\"fill: #1f77b4; stroke: #1f77b4\"/>\n     <use xlink:href=\"#md21c41be0c\" x=\"158.543207\" y=\"81.024491\" style=\"fill: #1f77b4; stroke: #1f77b4\"/>\n     <use xlink:href=\"#md21c41be0c\" x=\"135.954325\" y=\"86.321627\" style=\"fill: #1f77b4; stroke: #1f77b4\"/>\n     <use xlink:href=\"#md21c41be0c\" x=\"100.747993\" y=\"72.365067\" style=\"fill: #1f77b4; stroke: #1f77b4\"/>\n     <use xlink:href=\"#md21c41be0c\" x=\"190.526674\" y=\"109.48355\" style=\"fill: #1f77b4; stroke: #1f77b4\"/>\n     <use xlink:href=\"#md21c41be0c\" x=\"148.441916\" y=\"98.23409\" style=\"fill: #1f77b4; stroke: #1f77b4\"/>\n     <use xlink:href=\"#md21c41be0c\" x=\"141.740064\" y=\"85.792673\" style=\"fill: #1f77b4; stroke: #1f77b4\"/>\n     <use xlink:href=\"#md21c41be0c\" x=\"119.37251\" y=\"65.020225\" style=\"fill: #1f77b4; stroke: #1f77b4\"/>\n     <use xlink:href=\"#md21c41be0c\" x=\"136.734091\" y=\"72.480009\" style=\"fill: #1f77b4; stroke: #1f77b4\"/>\n     <use xlink:href=\"#md21c41be0c\" x=\"94.210115\" y=\"52.313079\" style=\"fill: #1f77b4; stroke: #1f77b4\"/>\n     <use xlink:href=\"#md21c41be0c\" x=\"85.446404\" y=\"51.309595\" style=\"fill: #1f77b4; stroke: #1f77b4\"/>\n     <use xlink:href=\"#md21c41be0c\" x=\"185.705864\" y=\"105.235283\" style=\"fill: #1f77b4; stroke: #1f77b4\"/>\n     <use xlink:href=\"#md21c41be0c\" x=\"191.998816\" y=\"123.31925\" style=\"fill: #1f77b4; stroke: #1f77b4\"/>\n     <use xlink:href=\"#md21c41be0c\" x=\"108.483033\" y=\"71.243191\" style=\"fill: #1f77b4; stroke: #1f77b4\"/>\n     <use xlink:href=\"#md21c41be0c\" x=\"137.079124\" y=\"68.878494\" style=\"fill: #1f77b4; stroke: #1f77b4\"/>\n     <use xlink:href=\"#md21c41be0c\" x=\"108.93011\" y=\"62.770566\" style=\"fill: #1f77b4; stroke: #1f77b4\"/>\n     <use xlink:href=\"#md21c41be0c\" x=\"61.582376\" y=\"51.988184\" style=\"fill: #1f77b4; stroke: #1f77b4\"/>\n     <use xlink:href=\"#md21c41be0c\" x=\"123.699439\" y=\"68.581729\" style=\"fill: #1f77b4; stroke: #1f77b4\"/>\n     <use xlink:href=\"#md21c41be0c\" x=\"211.290242\" y=\"134.462685\" style=\"fill: #1f77b4; stroke: #1f77b4\"/>\n     <use xlink:href=\"#md21c41be0c\" x=\"131.457883\" y=\"91.101202\" style=\"fill: #1f77b4; stroke: #1f77b4\"/>\n     <use xlink:href=\"#md21c41be0c\" x=\"136.249731\" y=\"83.280131\" style=\"fill: #1f77b4; stroke: #1f77b4\"/>\n     <use xlink:href=\"#md21c41be0c\" x=\"148.376387\" y=\"73.812263\" style=\"fill: #1f77b4; stroke: #1f77b4\"/>\n     <use xlink:href=\"#md21c41be0c\" x=\"62.737465\" y=\"49.895176\" style=\"fill: #1f77b4; stroke: #1f77b4\"/>\n     <use xlink:href=\"#md21c41be0c\" x=\"140.132867\" y=\"87.084158\" style=\"fill: #1f77b4; stroke: #1f77b4\"/>\n     <use xlink:href=\"#md21c41be0c\" x=\"124.277041\" y=\"74.851045\" style=\"fill: #1f77b4; stroke: #1f77b4\"/>\n     <use xlink:href=\"#md21c41be0c\" x=\"171.538156\" y=\"117.909329\" style=\"fill: #1f77b4; stroke: #1f77b4\"/>\n     <use xlink:href=\"#md21c41be0c\" x=\"110.299218\" y=\"77.794713\" style=\"fill: #1f77b4; stroke: #1f77b4\"/>\n     <use xlink:href=\"#md21c41be0c\" x=\"157.02707\" y=\"93.309311\" style=\"fill: #1f77b4; stroke: #1f77b4\"/>\n     <use xlink:href=\"#md21c41be0c\" x=\"168.1737\" y=\"114.361503\" style=\"fill: #1f77b4; stroke: #1f77b4\"/>\n     <use xlink:href=\"#md21c41be0c\" x=\"115.618309\" y=\"73.693181\" style=\"fill: #1f77b4; stroke: #1f77b4\"/>\n     <use xlink:href=\"#md21c41be0c\" x=\"89.503422\" y=\"61.80793\" style=\"fill: #1f77b4; stroke: #1f77b4\"/>\n     <use xlink:href=\"#md21c41be0c\" x=\"102.82808\" y=\"51.142152\" style=\"fill: #1f77b4; stroke: #1f77b4\"/>\n     <use xlink:href=\"#md21c41be0c\" x=\"113.109709\" y=\"67.446513\" style=\"fill: #1f77b4; stroke: #1f77b4\"/>\n     <use xlink:href=\"#md21c41be0c\" x=\"138.260038\" y=\"75.465611\" style=\"fill: #1f77b4; stroke: #1f77b4\"/>\n     <use xlink:href=\"#md21c41be0c\" x=\"130.576914\" y=\"85.591088\" style=\"fill: #1f77b4; stroke: #1f77b4\"/>\n     <use xlink:href=\"#md21c41be0c\" x=\"154.003058\" y=\"95.758645\" style=\"fill: #1f77b4; stroke: #1f77b4\"/>\n     <use xlink:href=\"#md21c41be0c\" x=\"149.158956\" y=\"74.709133\" style=\"fill: #1f77b4; stroke: #1f77b4\"/>\n     <use xlink:href=\"#md21c41be0c\" x=\"98.929949\" y=\"63.241135\" style=\"fill: #1f77b4; stroke: #1f77b4\"/>\n     <use xlink:href=\"#md21c41be0c\" x=\"101.002775\" y=\"40.864051\" style=\"fill: #1f77b4; stroke: #1f77b4\"/>\n     <use xlink:href=\"#md21c41be0c\" x=\"131.806867\" y=\"82.498042\" style=\"fill: #1f77b4; stroke: #1f77b4\"/>\n     <use xlink:href=\"#md21c41be0c\" x=\"146.863382\" y=\"95.288443\" style=\"fill: #1f77b4; stroke: #1f77b4\"/>\n     <use xlink:href=\"#md21c41be0c\" x=\"120.062523\" y=\"64.323263\" style=\"fill: #1f77b4; stroke: #1f77b4\"/>\n     <use xlink:href=\"#md21c41be0c\" x=\"98.790674\" y=\"65.947551\" style=\"fill: #1f77b4; stroke: #1f77b4\"/>\n     <use xlink:href=\"#md21c41be0c\" x=\"150.661558\" y=\"97.083948\" style=\"fill: #1f77b4; stroke: #1f77b4\"/>\n     <use xlink:href=\"#md21c41be0c\" x=\"101.416817\" y=\"60.00547\" style=\"fill: #1f77b4; stroke: #1f77b4\"/>\n     <use xlink:href=\"#md21c41be0c\" x=\"109.070012\" y=\"75.065495\" style=\"fill: #1f77b4; stroke: #1f77b4\"/>\n     <use xlink:href=\"#md21c41be0c\" x=\"150.800139\" y=\"91.702412\" style=\"fill: #1f77b4; stroke: #1f77b4\"/>\n     <use xlink:href=\"#md21c41be0c\" x=\"143.327468\" y=\"86.626428\" style=\"fill: #1f77b4; stroke: #1f77b4\"/>\n     <use xlink:href=\"#md21c41be0c\" x=\"128.927622\" y=\"99.352137\" style=\"fill: #1f77b4; stroke: #1f77b4\"/>\n     <use xlink:href=\"#md21c41be0c\" x=\"130.153734\" y=\"85.368317\" style=\"fill: #1f77b4; stroke: #1f77b4\"/>\n     <use xlink:href=\"#md21c41be0c\" x=\"121.002389\" y=\"69.920441\" style=\"fill: #1f77b4; stroke: #1f77b4\"/>\n     <use xlink:href=\"#md21c41be0c\" x=\"126.988704\" y=\"85.250258\" style=\"fill: #1f77b4; stroke: #1f77b4\"/>\n     <use xlink:href=\"#md21c41be0c\" x=\"111.202805\" y=\"72.536005\" style=\"fill: #1f77b4; stroke: #1f77b4\"/>\n     <use xlink:href=\"#md21c41be0c\" x=\"144.760108\" y=\"88.506598\" style=\"fill: #1f77b4; stroke: #1f77b4\"/>\n     <use xlink:href=\"#md21c41be0c\" x=\"94.661624\" y=\"65.394123\" style=\"fill: #1f77b4; stroke: #1f77b4\"/>\n     <use xlink:href=\"#md21c41be0c\" x=\"137.831359\" y=\"92.77469\" style=\"fill: #1f77b4; stroke: #1f77b4\"/>\n     <use xlink:href=\"#md21c41be0c\" x=\"87.822408\" y=\"63.505728\" style=\"fill: #1f77b4; stroke: #1f77b4\"/>\n     <use xlink:href=\"#md21c41be0c\" x=\"122.076293\" y=\"82.002465\" style=\"fill: #1f77b4; stroke: #1f77b4\"/>\n     <use xlink:href=\"#md21c41be0c\" x=\"126.153531\" y=\"90.170724\" style=\"fill: #1f77b4; stroke: #1f77b4\"/>\n     <use xlink:href=\"#md21c41be0c\" x=\"181.544651\" y=\"104.100883\" style=\"fill: #1f77b4; stroke: #1f77b4\"/>\n     <use xlink:href=\"#md21c41be0c\" x=\"93.245051\" y=\"66.639559\" style=\"fill: #1f77b4; stroke: #1f77b4\"/>\n     <use xlink:href=\"#md21c41be0c\" x=\"135.521704\" y=\"93.178111\" style=\"fill: #1f77b4; stroke: #1f77b4\"/>\n     <use xlink:href=\"#md21c41be0c\" x=\"103.552833\" y=\"29.145162\" style=\"fill: #1f77b4; stroke: #1f77b4\"/>\n     <use xlink:href=\"#md21c41be0c\" x=\"89.966356\" y=\"48.304737\" style=\"fill: #1f77b4; stroke: #1f77b4\"/>\n     <use xlink:href=\"#md21c41be0c\" x=\"78.211618\" y=\"33.789086\" style=\"fill: #1f77b4; stroke: #1f77b4\"/>\n     <use xlink:href=\"#md21c41be0c\" x=\"154.134073\" y=\"94.364102\" style=\"fill: #1f77b4; stroke: #1f77b4\"/>\n     <use xlink:href=\"#md21c41be0c\" x=\"143.563624\" y=\"79.859418\" style=\"fill: #1f77b4; stroke: #1f77b4\"/>\n     <use xlink:href=\"#md21c41be0c\" x=\"138.554765\" y=\"75.920027\" style=\"fill: #1f77b4; stroke: #1f77b4\"/>\n     <use xlink:href=\"#md21c41be0c\" x=\"96.358195\" y=\"54.263038\" style=\"fill: #1f77b4; stroke: #1f77b4\"/>\n     <use xlink:href=\"#md21c41be0c\" x=\"88.176547\" y=\"71.282606\" style=\"fill: #1f77b4; stroke: #1f77b4\"/>\n     <use xlink:href=\"#md21c41be0c\" x=\"72.379065\" y=\"51.229223\" style=\"fill: #1f77b4; stroke: #1f77b4\"/>\n     <use xlink:href=\"#md21c41be0c\" x=\"91.46099\" y=\"44.911537\" style=\"fill: #1f77b4; stroke: #1f77b4\"/>\n     <use xlink:href=\"#md21c41be0c\" x=\"151.582302\" y=\"101.079222\" style=\"fill: #1f77b4; stroke: #1f77b4\"/>\n     <use xlink:href=\"#md21c41be0c\" x=\"117.550421\" y=\"91.322327\" style=\"fill: #1f77b4; stroke: #1f77b4\"/>\n     <use xlink:href=\"#md21c41be0c\" x=\"189.180159\" y=\"115.420792\" style=\"fill: #1f77b4; stroke: #1f77b4\"/>\n     <use xlink:href=\"#md21c41be0c\" x=\"149.168478\" y=\"99.488933\" style=\"fill: #1f77b4; stroke: #1f77b4\"/>\n     <use xlink:href=\"#md21c41be0c\" x=\"209.480632\" y=\"138.498865\" style=\"fill: #1f77b4; stroke: #1f77b4\"/>\n     <use xlink:href=\"#md21c41be0c\" x=\"111.618086\" y=\"63.106865\" style=\"fill: #1f77b4; stroke: #1f77b4\"/>\n     <use xlink:href=\"#md21c41be0c\" x=\"60.445976\" y=\"41.001057\" style=\"fill: #1f77b4; stroke: #1f77b4\"/>\n     <use xlink:href=\"#md21c41be0c\" x=\"125.551517\" y=\"79.437137\" style=\"fill: #1f77b4; stroke: #1f77b4\"/>\n     <use xlink:href=\"#md21c41be0c\" x=\"82.096086\" y=\"47.789452\" style=\"fill: #1f77b4; stroke: #1f77b4\"/>\n     <use xlink:href=\"#md21c41be0c\" x=\"129.21845\" y=\"97.761305\" style=\"fill: #1f77b4; stroke: #1f77b4\"/>\n     <use xlink:href=\"#md21c41be0c\" x=\"124.781954\" y=\"78.180137\" style=\"fill: #1f77b4; stroke: #1f77b4\"/>\n     <use xlink:href=\"#md21c41be0c\" x=\"157.726165\" y=\"98.652616\" style=\"fill: #1f77b4; stroke: #1f77b4\"/>\n     <use xlink:href=\"#md21c41be0c\" x=\"147.924617\" y=\"98.644985\" style=\"fill: #1f77b4; stroke: #1f77b4\"/>\n     <use xlink:href=\"#md21c41be0c\" x=\"89.656868\" y=\"69.378513\" style=\"fill: #1f77b4; stroke: #1f77b4\"/>\n     <use xlink:href=\"#md21c41be0c\" x=\"159.389251\" y=\"89.341988\" style=\"fill: #1f77b4; stroke: #1f77b4\"/>\n     <use xlink:href=\"#md21c41be0c\" x=\"170.749347\" y=\"117.469574\" style=\"fill: #1f77b4; stroke: #1f77b4\"/>\n     <use xlink:href=\"#md21c41be0c\" x=\"109.613323\" y=\"60.253391\" style=\"fill: #1f77b4; stroke: #1f77b4\"/>\n     <use xlink:href=\"#md21c41be0c\" x=\"143.595695\" y=\"94.22074\" style=\"fill: #1f77b4; stroke: #1f77b4\"/>\n     <use xlink:href=\"#md21c41be0c\" x=\"120.440796\" y=\"63.905791\" style=\"fill: #1f77b4; stroke: #1f77b4\"/>\n     <use xlink:href=\"#md21c41be0c\" x=\"141.543164\" y=\"95.681779\" style=\"fill: #1f77b4; stroke: #1f77b4\"/>\n     <use xlink:href=\"#md21c41be0c\" x=\"185.854045\" y=\"133.021382\" style=\"fill: #1f77b4; stroke: #1f77b4\"/>\n     <use xlink:href=\"#md21c41be0c\" x=\"188.84875\" y=\"108.556947\" style=\"fill: #1f77b4; stroke: #1f77b4\"/>\n     <use xlink:href=\"#md21c41be0c\" x=\"119.550613\" y=\"67.900951\" style=\"fill: #1f77b4; stroke: #1f77b4\"/>\n     <use xlink:href=\"#md21c41be0c\" x=\"111.299622\" y=\"69.989039\" style=\"fill: #1f77b4; stroke: #1f77b4\"/>\n     <use xlink:href=\"#md21c41be0c\" x=\"141.853992\" y=\"79.250461\" style=\"fill: #1f77b4; stroke: #1f77b4\"/>\n     <use xlink:href=\"#md21c41be0c\" x=\"192.555807\" y=\"109.059012\" style=\"fill: #1f77b4; stroke: #1f77b4\"/>\n     <use xlink:href=\"#md21c41be0c\" x=\"113.507396\" y=\"61.332205\" style=\"fill: #1f77b4; stroke: #1f77b4\"/>\n     <use xlink:href=\"#md21c41be0c\" x=\"130.85603\" y=\"79.953314\" style=\"fill: #1f77b4; stroke: #1f77b4\"/>\n     <use xlink:href=\"#md21c41be0c\" x=\"127.710728\" y=\"46.682045\" style=\"fill: #1f77b4; stroke: #1f77b4\"/>\n     <use xlink:href=\"#md21c41be0c\" x=\"103.423126\" y=\"54.894782\" style=\"fill: #1f77b4; stroke: #1f77b4\"/>\n     <use xlink:href=\"#md21c41be0c\" x=\"195.813103\" y=\"122.368535\" style=\"fill: #1f77b4; stroke: #1f77b4\"/>\n     <use xlink:href=\"#md21c41be0c\" x=\"107.384366\" y=\"68.651394\" style=\"fill: #1f77b4; stroke: #1f77b4\"/>\n     <use xlink:href=\"#md21c41be0c\" x=\"131.48779\" y=\"74.228647\" style=\"fill: #1f77b4; stroke: #1f77b4\"/>\n     <use xlink:href=\"#md21c41be0c\" x=\"108.06795\" y=\"74.733973\" style=\"fill: #1f77b4; stroke: #1f77b4\"/>\n     <use xlink:href=\"#md21c41be0c\" x=\"113.988407\" y=\"73.905904\" style=\"fill: #1f77b4; stroke: #1f77b4\"/>\n     <use xlink:href=\"#md21c41be0c\" x=\"185.909789\" y=\"103.107996\" style=\"fill: #1f77b4; stroke: #1f77b4\"/>\n     <use xlink:href=\"#md21c41be0c\" x=\"109.307722\" y=\"64.974627\" style=\"fill: #1f77b4; stroke: #1f77b4\"/>\n     <use xlink:href=\"#md21c41be0c\" x=\"95.05688\" y=\"49.39889\" style=\"fill: #1f77b4; stroke: #1f77b4\"/>\n     <use xlink:href=\"#md21c41be0c\" x=\"126.065625\" y=\"83.398691\" style=\"fill: #1f77b4; stroke: #1f77b4\"/>\n     <use xlink:href=\"#md21c41be0c\" x=\"144.239755\" y=\"83.35897\" style=\"fill: #1f77b4; stroke: #1f77b4\"/>\n     <use xlink:href=\"#md21c41be0c\" x=\"165.016379\" y=\"105.230794\" style=\"fill: #1f77b4; stroke: #1f77b4\"/>\n     <use xlink:href=\"#md21c41be0c\" x=\"163.44194\" y=\"110.704149\" style=\"fill: #1f77b4; stroke: #1f77b4\"/>\n     <use xlink:href=\"#md21c41be0c\" x=\"105.063324\" y=\"50.91775\" style=\"fill: #1f77b4; stroke: #1f77b4\"/>\n     <use xlink:href=\"#md21c41be0c\" x=\"145.300167\" y=\"87.467165\" style=\"fill: #1f77b4; stroke: #1f77b4\"/>\n     <use xlink:href=\"#md21c41be0c\" x=\"117.448184\" y=\"67.77889\" style=\"fill: #1f77b4; stroke: #1f77b4\"/>\n     <use xlink:href=\"#md21c41be0c\" x=\"145.068876\" y=\"89.345142\" style=\"fill: #1f77b4; stroke: #1f77b4\"/>\n     <use xlink:href=\"#md21c41be0c\" x=\"169.41591\" y=\"106.676496\" style=\"fill: #1f77b4; stroke: #1f77b4\"/>\n     <use xlink:href=\"#md21c41be0c\" x=\"76.550778\" y=\"51.656532\" style=\"fill: #1f77b4; stroke: #1f77b4\"/>\n     <use xlink:href=\"#md21c41be0c\" x=\"136.353196\" y=\"98.235682\" style=\"fill: #1f77b4; stroke: #1f77b4\"/>\n     <use xlink:href=\"#md21c41be0c\" x=\"189.641898\" y=\"129.202988\" style=\"fill: #1f77b4; stroke: #1f77b4\"/>\n     <use xlink:href=\"#md21c41be0c\" x=\"150.972148\" y=\"89.877893\" style=\"fill: #1f77b4; stroke: #1f77b4\"/>\n     <use xlink:href=\"#md21c41be0c\" x=\"155.359221\" y=\"103.054897\" style=\"fill: #1f77b4; stroke: #1f77b4\"/>\n     <use xlink:href=\"#md21c41be0c\" x=\"166.891802\" y=\"107.12477\" style=\"fill: #1f77b4; stroke: #1f77b4\"/>\n     <use xlink:href=\"#md21c41be0c\" x=\"114.808336\" y=\"60.411835\" style=\"fill: #1f77b4; stroke: #1f77b4\"/>\n     <use xlink:href=\"#md21c41be0c\" x=\"196.503057\" y=\"97.765297\" style=\"fill: #1f77b4; stroke: #1f77b4\"/>\n     <use xlink:href=\"#md21c41be0c\" x=\"121.910225\" y=\"69.984866\" style=\"fill: #1f77b4; stroke: #1f77b4\"/>\n     <use xlink:href=\"#md21c41be0c\" x=\"92.797304\" y=\"43.405341\" style=\"fill: #1f77b4; stroke: #1f77b4\"/>\n    </g>\n   </g>\n   <g id=\"matplotlib.axis_1\">\n    <g id=\"xtick_1\">\n     <g id=\"line2d_1\">\n      <defs>\n       <path id=\"m89fb43a55f\" d=\"M 0 0 \nL 0 3.5 \n\" style=\"stroke: #000000; stroke-width: 0.8\"/>\n      </defs>\n      <g>\n       <use xlink:href=\"#m89fb43a55f\" x=\"68.58945\" y=\"145.8\" style=\"stroke: #000000; stroke-width: 0.8\"/>\n      </g>\n     </g>\n     <g id=\"text_1\">\n      <!-- −2 -->\n      <g transform=\"translate(61.218356 160.398438) scale(0.1 -0.1)\">\n       <defs>\n        <path id=\"DejaVuSans-2212\" d=\"M 678 2272 \nL 4684 2272 \nL 4684 1741 \nL 678 1741 \nL 678 2272 \nz\n\" transform=\"scale(0.015625)\"/>\n        <path id=\"DejaVuSans-32\" d=\"M 1228 531 \nL 3431 531 \nL 3431 0 \nL 469 0 \nL 469 531 \nQ 828 903 1448 1529 \nQ 2069 2156 2228 2338 \nQ 2531 2678 2651 2914 \nQ 2772 3150 2772 3378 \nQ 2772 3750 2511 3984 \nQ 2250 4219 1831 4219 \nQ 1534 4219 1204 4116 \nQ 875 4013 500 3803 \nL 500 4441 \nQ 881 4594 1212 4672 \nQ 1544 4750 1819 4750 \nQ 2544 4750 2975 4387 \nQ 3406 4025 3406 3419 \nQ 3406 3131 3298 2873 \nQ 3191 2616 2906 2266 \nQ 2828 2175 2409 1742 \nQ 1991 1309 1228 531 \nz\n\" transform=\"scale(0.015625)\"/>\n       </defs>\n       <use xlink:href=\"#DejaVuSans-2212\"/>\n       <use xlink:href=\"#DejaVuSans-32\" x=\"83.789062\"/>\n      </g>\n     </g>\n    </g>\n    <g id=\"xtick_2\">\n     <g id=\"line2d_2\">\n      <g>\n       <use xlink:href=\"#m89fb43a55f\" x=\"129.928418\" y=\"145.8\" style=\"stroke: #000000; stroke-width: 0.8\"/>\n      </g>\n     </g>\n     <g id=\"text_2\">\n      <!-- 0 -->\n      <g transform=\"translate(126.747168 160.398438) scale(0.1 -0.1)\">\n       <defs>\n        <path id=\"DejaVuSans-30\" d=\"M 2034 4250 \nQ 1547 4250 1301 3770 \nQ 1056 3291 1056 2328 \nQ 1056 1369 1301 889 \nQ 1547 409 2034 409 \nQ 2525 409 2770 889 \nQ 3016 1369 3016 2328 \nQ 3016 3291 2770 3770 \nQ 2525 4250 2034 4250 \nz\nM 2034 4750 \nQ 2819 4750 3233 4129 \nQ 3647 3509 3647 2328 \nQ 3647 1150 3233 529 \nQ 2819 -91 2034 -91 \nQ 1250 -91 836 529 \nQ 422 1150 422 2328 \nQ 422 3509 836 4129 \nQ 1250 4750 2034 4750 \nz\n\" transform=\"scale(0.015625)\"/>\n       </defs>\n       <use xlink:href=\"#DejaVuSans-30\"/>\n      </g>\n     </g>\n    </g>\n    <g id=\"xtick_3\">\n     <g id=\"line2d_3\">\n      <g>\n       <use xlink:href=\"#m89fb43a55f\" x=\"191.267387\" y=\"145.8\" style=\"stroke: #000000; stroke-width: 0.8\"/>\n      </g>\n     </g>\n     <g id=\"text_3\">\n      <!-- 2 -->\n      <g transform=\"translate(188.086137 160.398438) scale(0.1 -0.1)\">\n       <use xlink:href=\"#DejaVuSans-32\"/>\n      </g>\n     </g>\n    </g>\n   </g>\n   <g id=\"matplotlib.axis_2\">\n    <g id=\"ytick_1\">\n     <g id=\"line2d_4\">\n      <defs>\n       <path id=\"m8eb965b870\" d=\"M 0 0 \nL -3.5 0 \n\" style=\"stroke: #000000; stroke-width: 0.8\"/>\n      </defs>\n      <g>\n       <use xlink:href=\"#m8eb965b870\" x=\"28.942188\" y=\"125.49405\" style=\"stroke: #000000; stroke-width: 0.8\"/>\n      </g>\n     </g>\n     <g id=\"text_4\">\n      <!-- −5 -->\n      <g transform=\"translate(7.2 129.293268) scale(0.1 -0.1)\">\n       <defs>\n        <path id=\"DejaVuSans-35\" d=\"M 691 4666 \nL 3169 4666 \nL 3169 4134 \nL 1269 4134 \nL 1269 2991 \nQ 1406 3038 1543 3061 \nQ 1681 3084 1819 3084 \nQ 2600 3084 3056 2656 \nQ 3513 2228 3513 1497 \nQ 3513 744 3044 326 \nQ 2575 -91 1722 -91 \nQ 1428 -91 1123 -41 \nQ 819 9 494 109 \nL 494 744 \nQ 775 591 1075 516 \nQ 1375 441 1709 441 \nQ 2250 441 2565 725 \nQ 2881 1009 2881 1497 \nQ 2881 1984 2565 2268 \nQ 2250 2553 1709 2553 \nQ 1456 2553 1204 2497 \nQ 953 2441 691 2322 \nL 691 4666 \nz\n\" transform=\"scale(0.015625)\"/>\n       </defs>\n       <use xlink:href=\"#DejaVuSans-2212\"/>\n       <use xlink:href=\"#DejaVuSans-35\" x=\"83.789062\"/>\n      </g>\n     </g>\n    </g>\n    <g id=\"ytick_2\">\n     <g id=\"line2d_5\">\n      <g>\n       <use xlink:href=\"#m8eb965b870\" x=\"28.942188\" y=\"100.371483\" style=\"stroke: #000000; stroke-width: 0.8\"/>\n      </g>\n     </g>\n     <g id=\"text_5\">\n      <!-- 0 -->\n      <g transform=\"translate(15.579688 104.170702) scale(0.1 -0.1)\">\n       <use xlink:href=\"#DejaVuSans-30\"/>\n      </g>\n     </g>\n    </g>\n    <g id=\"ytick_3\">\n     <g id=\"line2d_6\">\n      <g>\n       <use xlink:href=\"#m8eb965b870\" x=\"28.942188\" y=\"75.248916\" style=\"stroke: #000000; stroke-width: 0.8\"/>\n      </g>\n     </g>\n     <g id=\"text_6\">\n      <!-- 5 -->\n      <g transform=\"translate(15.579688 79.048135) scale(0.1 -0.1)\">\n       <use xlink:href=\"#DejaVuSans-35\"/>\n      </g>\n     </g>\n    </g>\n    <g id=\"ytick_4\">\n     <g id=\"line2d_7\">\n      <g>\n       <use xlink:href=\"#m8eb965b870\" x=\"28.942188\" y=\"50.126349\" style=\"stroke: #000000; stroke-width: 0.8\"/>\n      </g>\n     </g>\n     <g id=\"text_7\">\n      <!-- 10 -->\n      <g transform=\"translate(9.217188 53.925568) scale(0.1 -0.1)\">\n       <defs>\n        <path id=\"DejaVuSans-31\" d=\"M 794 531 \nL 1825 531 \nL 1825 4091 \nL 703 3866 \nL 703 4441 \nL 1819 4666 \nL 2450 4666 \nL 2450 531 \nL 3481 531 \nL 3481 0 \nL 794 0 \nL 794 531 \nz\n\" transform=\"scale(0.015625)\"/>\n       </defs>\n       <use xlink:href=\"#DejaVuSans-31\"/>\n       <use xlink:href=\"#DejaVuSans-30\" x=\"63.623047\"/>\n      </g>\n     </g>\n    </g>\n    <g id=\"ytick_5\">\n     <g id=\"line2d_8\">\n      <g>\n       <use xlink:href=\"#m8eb965b870\" x=\"28.942188\" y=\"25.003783\" style=\"stroke: #000000; stroke-width: 0.8\"/>\n      </g>\n     </g>\n     <g id=\"text_8\">\n      <!-- 15 -->\n      <g transform=\"translate(9.217188 28.803001) scale(0.1 -0.1)\">\n       <use xlink:href=\"#DejaVuSans-31\"/>\n       <use xlink:href=\"#DejaVuSans-35\" x=\"63.623047\"/>\n      </g>\n     </g>\n    </g>\n   </g>\n   <g id=\"patch_3\">\n    <path d=\"M 28.942188 145.8 \nL 28.942188 7.2 \n\" style=\"fill: none; stroke: #000000; stroke-width: 0.8; stroke-linejoin: miter; stroke-linecap: square\"/>\n   </g>\n   <g id=\"patch_4\">\n    <path d=\"M 224.242188 145.8 \nL 224.242188 7.2 \n\" style=\"fill: none; stroke: #000000; stroke-width: 0.8; stroke-linejoin: miter; stroke-linecap: square\"/>\n   </g>\n   <g id=\"patch_5\">\n    <path d=\"M 28.942188 145.8 \nL 224.242188 145.8 \n\" style=\"fill: none; stroke: #000000; stroke-width: 0.8; stroke-linejoin: miter; stroke-linecap: square\"/>\n   </g>\n   <g id=\"patch_6\">\n    <path d=\"M 28.942188 7.2 \nL 224.242188 7.2 \n\" style=\"fill: none; stroke: #000000; stroke-width: 0.8; stroke-linejoin: miter; stroke-linecap: square\"/>\n   </g>\n  </g>\n </g>\n <defs>\n  <clipPath id=\"p5e62eacdb9\">\n   <rect x=\"28.942188\" y=\"7.2\" width=\"195.3\" height=\"138.6\"/>\n  </clipPath>\n </defs>\n</svg>\n"
          },
          "metadata": {}
        }
      ],
      "source": [
        "d2l.set_figsize()\n",
        "d2l.plt.scatter(features[:, (1)].detach().numpy(), labels.detach().numpy(), 1);"
      ]
    },
    {
      "cell_type": "markdown",
      "id": "b032f500",
      "metadata": {
        "origin_pos": 13,
        "id": "b032f500"
      },
      "source": [
        "## 读取数据集\n",
        "\n",
        "回想一下，训练模型时要对数据集进行遍历，每次抽取一小批量样本，并使用它们来更新我们的模型。\n",
        "由于这个过程是训练机器学习算法的基础，所以有必要定义一个函数，\n",
        "该函数能打乱数据集中的样本并以小批量方式获取数据。\n",
        "\n",
        "在下面的代码中，我们[**定义一个`data_iter`函数，\n",
        "该函数接收批量大小、特征矩阵和标签向量作为输入，生成大小为`batch_size`的小批量**]。\n",
        "每个小批量包含一组特征和标签。\n"
      ]
    },
    {
      "cell_type": "code",
      "execution_count": 44,
      "id": "3da34ac6",
      "metadata": {
        "execution": {
          "iopub.execute_input": "2023-08-18T07:02:04.839342Z",
          "iopub.status.busy": "2023-08-18T07:02:04.838682Z",
          "iopub.status.idle": "2023-08-18T07:02:04.846329Z",
          "shell.execute_reply": "2023-08-18T07:02:04.845247Z"
        },
        "origin_pos": 14,
        "tab": [
          "pytorch"
        ],
        "id": "3da34ac6"
      },
      "outputs": [],
      "source": [
        "def data_iter(batch_size, features, labels):\n",
        "    num_examples = len(features)\n",
        "    indices = list(range(num_examples))\n",
        "    # 这些样本是随机读取的，没有特定的顺序\n",
        "    random.shuffle(indices)\n",
        "    for i in range(0, num_examples, batch_size):\n",
        "        batch_indices = torch.tensor(\n",
        "            indices[i: min(i + batch_size, num_examples)])\n",
        "        yield features[batch_indices], labels[batch_indices]"
      ]
    },
    {
      "cell_type": "markdown",
      "id": "52e08a78",
      "metadata": {
        "origin_pos": 16,
        "id": "52e08a78"
      },
      "source": [
        "通常，我们利用GPU并行运算的优势，处理合理大小的“小批量”。\n",
        "每个样本都可以并行地进行模型计算，且每个样本损失函数的梯度也可以被并行计算。\n",
        "GPU可以在处理几百个样本时，所花费的时间不比处理一个样本时多太多。\n",
        "\n",
        "我们直观感受一下小批量运算：读取第一个小批量数据样本并打印。\n",
        "每个批量的特征维度显示批量大小和输入特征数。\n",
        "同样的，批量的标签形状与`batch_size`相等。\n"
      ]
    },
    {
      "cell_type": "code",
      "execution_count": 45,
      "id": "1dce0726",
      "metadata": {
        "execution": {
          "iopub.execute_input": "2023-08-18T07:02:04.851066Z",
          "iopub.status.busy": "2023-08-18T07:02:04.850456Z",
          "iopub.status.idle": "2023-08-18T07:02:04.859860Z",
          "shell.execute_reply": "2023-08-18T07:02:04.858756Z"
        },
        "origin_pos": 17,
        "tab": [
          "pytorch"
        ],
        "id": "1dce0726",
        "outputId": "55e168e1-513a-444d-80c2-225fd8141d38",
        "colab": {
          "base_uri": "https://localhost:8080/"
        }
      },
      "outputs": [
        {
          "output_type": "stream",
          "name": "stdout",
          "text": [
            "tensor([[-1.2833,  0.4925],\n",
            "        [ 0.4608,  1.1040],\n",
            "        [ 0.0182,  0.7922],\n",
            "        [ 0.7550, -0.9018],\n",
            "        [ 0.2694, -0.4139],\n",
            "        [ 0.6627, -1.2835],\n",
            "        [ 1.0715,  0.9685],\n",
            "        [ 0.4134,  0.2502],\n",
            "        [-0.9298, -0.9514],\n",
            "        [ 0.8150, -0.5554]]) \n",
            " tensor([[-0.0357],\n",
            "        [ 1.3666],\n",
            "        [ 1.5321],\n",
            "        [ 8.7731],\n",
            "        [ 6.1410],\n",
            "        [ 9.8829],\n",
            "        [ 3.0584],\n",
            "        [ 4.1747],\n",
            "        [ 5.5740],\n",
            "        [ 7.7433]])\n"
          ]
        }
      ],
      "source": [
        "batch_size = 10\n",
        "\n",
        "for X, y in data_iter(batch_size, features, labels):\n",
        "    print(X, '\\n', y)\n",
        "    break"
      ]
    },
    {
      "cell_type": "markdown",
      "id": "d86e62d7",
      "metadata": {
        "origin_pos": 18,
        "id": "d86e62d7"
      },
      "source": [
        "当我们运行迭代时，我们会连续地获得不同的小批量，直至遍历完整个数据集。\n",
        "上面实现的迭代对教学来说很好，但它的执行效率很低，可能会在实际问题上陷入麻烦。\n",
        "例如，它要求我们将所有数据加载到内存中，并执行大量的随机内存访问。\n",
        "在深度学习框架中实现的内置迭代器效率要高得多，\n",
        "它可以处理存储在文件中的数据和数据流提供的数据。\n",
        "\n",
        "## 初始化模型参数\n",
        "\n",
        "[**在我们开始用小批量随机梯度下降优化我们的模型参数之前**]，\n",
        "(**我们需要先有一些参数**)。\n",
        "在下面的代码中，我们通过从均值为0、标准差为0.01的正态分布中采样随机数来初始化权重，\n",
        "并将偏置初始化为0。\n"
      ]
    },
    {
      "cell_type": "code",
      "execution_count": 46,
      "id": "12c51289",
      "metadata": {
        "execution": {
          "iopub.execute_input": "2023-08-18T07:02:04.864457Z",
          "iopub.status.busy": "2023-08-18T07:02:04.863853Z",
          "iopub.status.idle": "2023-08-18T07:02:04.869983Z",
          "shell.execute_reply": "2023-08-18T07:02:04.868859Z"
        },
        "origin_pos": 20,
        "tab": [
          "pytorch"
        ],
        "id": "12c51289"
      },
      "outputs": [],
      "source": [
        "w = torch.normal(0, 0.01, size=(2,1), requires_grad=True) # 随机采样来初始化权重\n",
        "b = torch.zeros(1, requires_grad=True) # 初始化为0"
      ]
    },
    {
      "cell_type": "markdown",
      "id": "c59d5d68",
      "metadata": {
        "origin_pos": 23,
        "id": "c59d5d68"
      },
      "source": [
        "在初始化参数之后，我们的任务是更新这些参数，直到这些参数足够拟合我们的数据。\n",
        "每次更新都需要计算损失函数关于模型参数的梯度。\n",
        "有了这个梯度，我们就可以向减小损失的方向更新每个参数。\n",
        "因为手动计算梯度很枯燥而且容易出错，所以没有人会手动计算梯度。\n",
        "我们使用 :numref:`sec_autograd`中引入的自动微分来计算梯度。\n",
        "\n",
        "## 定义模型\n",
        "\n",
        "接下来，我们必须[**定义模型，将模型的输入和参数同模型的输出关联起来。**]\n",
        "回想一下，要计算线性模型的输出，\n",
        "我们只需计算输入特征$\\mathbf{X}$和模型权重$\\mathbf{w}$的矩阵-向量乘法后加上偏置$b$。\n",
        "注意，上面的$\\mathbf{Xw}$是一个向量，而$b$是一个标量。\n",
        "回想一下 :numref:`subsec_broadcasting`中描述的广播机制：\n",
        "当我们用一个向量加一个标量时，标量会被加到向量的每个分量上。\n"
      ]
    },
    {
      "cell_type": "code",
      "execution_count": 55,
      "id": "b8b29b19",
      "metadata": {
        "execution": {
          "iopub.execute_input": "2023-08-18T07:02:04.874642Z",
          "iopub.status.busy": "2023-08-18T07:02:04.874004Z",
          "iopub.status.idle": "2023-08-18T07:02:04.879521Z",
          "shell.execute_reply": "2023-08-18T07:02:04.878471Z"
        },
        "origin_pos": 24,
        "tab": [
          "pytorch"
        ],
        "id": "b8b29b19"
      },
      "outputs": [],
      "source": [
        "def linreg(X, w, b):  #@save\n",
        "    \"\"\"线性回归模型\"\"\"\n",
        "    return torch.matmul(X, w) + b"
      ]
    },
    {
      "cell_type": "markdown",
      "id": "6b7765ef",
      "metadata": {
        "origin_pos": 25,
        "id": "6b7765ef"
      },
      "source": [
        "## [**定义损失函数**]\n",
        "\n",
        "因为需要计算损失函数的梯度，所以我们应该先定义损失函数。\n",
        "这里我们使用 :numref:`sec_linear_regression`中描述的平方损失函数。\n",
        "在实现中，我们需要将真实值`y`的形状转换为和预测值`y_hat`的形状相同。\n"
      ]
    },
    {
      "cell_type": "code",
      "execution_count": 48,
      "id": "3dda15c7",
      "metadata": {
        "execution": {
          "iopub.execute_input": "2023-08-18T07:02:04.884156Z",
          "iopub.status.busy": "2023-08-18T07:02:04.883559Z",
          "iopub.status.idle": "2023-08-18T07:02:04.889065Z",
          "shell.execute_reply": "2023-08-18T07:02:04.887964Z"
        },
        "origin_pos": 26,
        "tab": [
          "pytorch"
        ],
        "id": "3dda15c7"
      },
      "outputs": [],
      "source": [
        "def squared_loss(y_hat, y):  #@save\n",
        "    \"\"\"均方损失\"\"\"\n",
        "    return (y_hat - y.reshape(y_hat.shape)) ** 2 / 2"
      ]
    },
    {
      "cell_type": "markdown",
      "id": "56969029",
      "metadata": {
        "origin_pos": 27,
        "id": "56969029"
      },
      "source": [
        "## (**定义优化算法**)\n",
        "\n",
        "正如我们在 :numref:`sec_linear_regression`中讨论的，线性回归有解析解。\n",
        "尽管线性回归有解析解，但本书中的其他模型却没有。\n",
        "这里我们介绍小批量随机梯度下降。\n",
        "\n",
        "在每一步中，使用从数据集中随机抽取的一个小批量，然后根据参数计算损失的梯度。\n",
        "接下来，朝着减少损失的方向更新我们的参数。\n",
        "下面的函数实现小批量随机梯度下降更新。\n",
        "该函数接受模型参数集合、学习速率和批量大小作为输入。每\n",
        "一步更新的大小由学习速率`lr`决定。\n",
        "因为我们计算的损失是一个批量样本的总和，所以我们用批量大小（`batch_size`）\n",
        "来规范化步长，这样步长大小就不会取决于我们对批量大小的选择。\n"
      ]
    },
    {
      "cell_type": "code",
      "execution_count": 49,
      "id": "8f92242d",
      "metadata": {
        "execution": {
          "iopub.execute_input": "2023-08-18T07:02:04.893665Z",
          "iopub.status.busy": "2023-08-18T07:02:04.892999Z",
          "iopub.status.idle": "2023-08-18T07:02:04.899100Z",
          "shell.execute_reply": "2023-08-18T07:02:04.898003Z"
        },
        "origin_pos": 29,
        "tab": [
          "pytorch"
        ],
        "id": "8f92242d"
      },
      "outputs": [],
      "source": [
        "def sgd(params, lr, batch_size):  # Stochastic Gradient Descent, SGD\n",
        "    \"\"\"小批量随机梯度下降\"\"\"\n",
        "    with torch.no_grad():\n",
        "        for param in params:\n",
        "            param -= lr * param.grad / batch_size\n",
        "            param.grad.zero_() # 每一次反向传播都会有新的梯度，所以要手动清除旧的梯度，不然就会叠加"
      ]
    },
    {
      "cell_type": "code",
      "source": [
        "# 应用举例\n",
        "torch.zeros\n",
        "x = torch.tensor(2.0 ,requires_grad=True)\n",
        "loss = x ** 2\n",
        "loss.backward()  # 计算梯度\n",
        "\n",
        "print(\"梯度：\", x.grad)\n",
        "\n",
        "sgd([w], 0.1, 2) # 参数更新\n",
        "print(\"更新后：\", x)\n",
        "x.grad.zero_()"
      ],
      "metadata": {
        "colab": {
          "base_uri": "https://localhost:8080/"
        },
        "id": "qVyq8dEO0AS6",
        "outputId": "b6ebb913-f809-4659-b937-bcb66a2e4748"
      },
      "id": "qVyq8dEO0AS6",
      "execution_count": 50,
      "outputs": [
        {
          "output_type": "stream",
          "name": "stdout",
          "text": [
            "梯度： tensor(4.)\n",
            "更新后： tensor(1.8000, requires_grad=True)\n"
          ]
        },
        {
          "output_type": "execute_result",
          "data": {
            "text/plain": [
              "tensor(0.)"
            ]
          },
          "metadata": {},
          "execution_count": 50
        }
      ]
    },
    {
      "cell_type": "markdown",
      "id": "89067f86",
      "metadata": {
        "origin_pos": 32,
        "id": "89067f86"
      },
      "source": [
        "## 训练\n",
        "\n",
        "现在我们已经准备好了模型训练所有需要的要素，可以实现主要的[**训练过程**]部分了。\n",
        "理解这段代码至关重要，因为从事深度学习后，\n",
        "相同的训练过程几乎一遍又一遍地出现。\n",
        "在每次迭代中，我们读取一小批量训练样本，并通过我们的模型来获得一组预测。\n",
        "计算完损失后，我们开始反向传播，存储每个参数的梯度。\n",
        "最后，我们调用优化算法`sgd`来更新模型参数。\n",
        "\n",
        "概括一下，我们将执行以下循环：\n",
        "\n",
        "* 初始化参数\n",
        "* 重复以下训练，直到完成\n",
        "    * 计算梯度 $\\mathbf{g} \\leftarrow \\partial_{(\\mathbf{w},b)} \\frac{1}{|\\mathcal{B}|} \\sum_{i \\in \\mathcal{B}} l(\\mathbf{x}^{(i)}, y^{(i)}, \\mathbf{w}, b)$\n",
        "    * 更新参数 $(\\mathbf{w}, b) \\leftarrow (\\mathbf{w}, b) - \\eta \\mathbf{g}$\n",
        "\n",
        "在每个*迭代周期*（epoch）中，我们使用`data_iter`函数遍历整个数据集，\n",
        "并将训练数据集中所有样本都使用一次（假设样本数能够被批量大小整除）。\n",
        "这里的迭代周期个数`num_epochs`和学习率`lr`都是超参数，分别设为3和0.03。\n",
        "设置超参数很棘手，需要通过反复试验进行调整。\n",
        "我们现在忽略这些细节，以后会在 :numref:`chap_optimization`中详细介绍。\n"
      ]
    },
    {
      "cell_type": "markdown",
      "source": [
        "虽然统计学上抽取一定数量的样本就可以代表整个样本库的特征了，但是我们在这里反复遍历且要求用上所有样本，是为了不断改进模型。（当然不能反复用同一个数据库，否则会变成过拟合，泛化能力就会显著下降）"
      ],
      "metadata": {
        "id": "JKerTCus9onY"
      },
      "id": "JKerTCus9onY"
    },
    {
      "cell_type": "code",
      "execution_count": 92,
      "id": "9163db58",
      "metadata": {
        "execution": {
          "iopub.execute_input": "2023-08-18T07:02:04.903791Z",
          "iopub.status.busy": "2023-08-18T07:02:04.903216Z",
          "iopub.status.idle": "2023-08-18T07:02:04.908499Z",
          "shell.execute_reply": "2023-08-18T07:02:04.907341Z"
        },
        "origin_pos": 33,
        "tab": [
          "pytorch"
        ],
        "id": "9163db58"
      },
      "outputs": [],
      "source": [
        "lr = 0.03\n",
        "num_epochs = 3\n",
        "net = linreg\n",
        "loss = squared_loss"
      ]
    },
    {
      "cell_type": "code",
      "execution_count": 96,
      "id": "ad5c2cd1",
      "metadata": {
        "execution": {
          "iopub.execute_input": "2023-08-18T07:02:04.913061Z",
          "iopub.status.busy": "2023-08-18T07:02:04.912436Z",
          "iopub.status.idle": "2023-08-18T07:02:05.067276Z",
          "shell.execute_reply": "2023-08-18T07:02:05.066107Z"
        },
        "origin_pos": 35,
        "tab": [
          "pytorch"
        ],
        "id": "ad5c2cd1",
        "outputId": "5dd6a3be-22cf-467d-86d9-4d0fed2eaa17",
        "colab": {
          "base_uri": "https://localhost:8080/"
        }
      },
      "outputs": [
        {
          "output_type": "stream",
          "name": "stdout",
          "text": [
            "epoch 1, loss nan\n",
            "epoch 2, loss nan\n",
            "epoch 3, loss nan\n"
          ]
        }
      ],
      "source": [
        "for epoch in range(num_epochs): # 3个周期\n",
        "    for X, y in data_iter(batch_size, features, labels):\n",
        "        l = loss(net(X, w, b), y)  # X和y的小批量损失\n",
        "        # 因为l形状是(batch_size,1)，而不是一个标量。l中的所有元素被加到一起，并以此计算关于[w,b]的梯度\n",
        "        l.sum().backward()\n",
        "        sgd([w, b], lr, batch_size)  # 使用参数的梯度更新参数\n",
        "    with torch.no_grad():\n",
        "        train_l = loss(net(features, w, b), labels)\n",
        "        print(f'epoch {epoch + 1}, loss {float(train_l.mean()):f}')"
      ]
    },
    {
      "cell_type": "markdown",
      "id": "427d8cda",
      "metadata": {
        "origin_pos": 38,
        "id": "427d8cda"
      },
      "source": [
        "因为我们使用的是自己合成的数据集，所以我们知道真正的参数是什么。\n",
        "因此，我们可以通过[**比较真实参数和通过训练学到的参数来评估训练的成功程度**]。\n",
        "事实上，真实参数和通过训练学到的参数确实非常接近。\n"
      ]
    },
    {
      "cell_type": "code",
      "execution_count": 98,
      "id": "a4c3d525",
      "metadata": {
        "execution": {
          "iopub.execute_input": "2023-08-18T07:02:05.072546Z",
          "iopub.status.busy": "2023-08-18T07:02:05.071769Z",
          "iopub.status.idle": "2023-08-18T07:02:05.079203Z",
          "shell.execute_reply": "2023-08-18T07:02:05.078107Z"
        },
        "origin_pos": 39,
        "tab": [
          "pytorch"
        ],
        "id": "a4c3d525",
        "outputId": "68611b83-467c-4b50-a4c4-d50d5e2d95a9",
        "colab": {
          "base_uri": "https://localhost:8080/"
        }
      },
      "outputs": [
        {
          "output_type": "stream",
          "name": "stdout",
          "text": [
            "w的估计误差: tensor([nan, nan], grad_fn=<SubBackward0>)\n",
            "b的估计误差: tensor([nan], grad_fn=<RsubBackward1>)\n"
          ]
        }
      ],
      "source": [
        "print(f'w的估计误差: {true_w - w.reshape(true_w.shape)}')\n",
        "print(f'b的估计误差: {true_b - b}')"
      ]
    },
    {
      "cell_type": "markdown",
      "id": "9f3d71ee",
      "metadata": {
        "origin_pos": 40,
        "id": "9f3d71ee"
      },
      "source": [
        "注意，我们不应该想当然地认为我们能够完美地求解参数。\n",
        "在机器学习中，我们通常不太关心恢复真正的参数，而更关心如何高度准确预测参数。\n",
        "幸运的是，即使是在复杂的优化问题上，随机梯度下降通常也能找到非常好的解。\n",
        "其中一个原因是，在深度网络中存在许多参数组合能够实现高度精确的预测。\n",
        "\n",
        "## 小结\n",
        "\n",
        "* 我们学习了深度网络是如何实现和优化的。在这一过程中只使用张量和自动微分，不需要定义层或复杂的优化器。\n",
        "* 这一节只触及到了表面知识。在下面的部分中，我们将基于刚刚介绍的概念描述其他模型，并学习如何更简洁地实现其他模型。\n",
        "\n",
        "## 练习\n",
        "\n",
        "1. 如果我们将权重初始化为零，会发生什么。算法仍然有效吗？\n",
        "1. 假设试图为电压和电流的关系建立一个模型。自动微分可以用来学习模型的参数吗?\n",
        "1. 能基于[普朗克定律](https://en.wikipedia.org/wiki/Planck%27s_law)使用光谱能量密度来确定物体的温度吗？\n",
        "1. 计算二阶导数时可能会遇到什么问题？这些问题可以如何解决？\n",
        "1. 为什么在`squared_loss`函数中需要使用`reshape`函数？\n",
        "1. 尝试使用不同的学习率，观察损失函数值下降的快慢。\n",
        "1. 如果样本个数不能被批量大小整除，`data_iter`函数的行为会有什么变化？\n"
      ]
    },
    {
      "cell_type": "markdown",
      "id": "193224b1",
      "metadata": {
        "origin_pos": 42,
        "tab": [
          "pytorch"
        ],
        "id": "193224b1"
      },
      "source": [
        "[Discussions](https://discuss.d2l.ai/t/1778)\n"
      ]
    }
  ],
  "metadata": {
    "kernelspec": {
      "display_name": "Python 3",
      "name": "python3"
    },
    "language_info": {
      "name": "python"
    },
    "required_libs": [],
    "colab": {
      "provenance": []
    }
  },
  "nbformat": 4,
  "nbformat_minor": 5
}