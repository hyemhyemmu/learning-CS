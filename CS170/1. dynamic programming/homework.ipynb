{
 "cells": [
  {
   "cell_type": "markdown",
   "metadata": {},
   "source": [
    "# 动态规划练习题\n",
    "\n",
    "以下是一些动态规划的练习题，按照难度递增排列。每道题都包含问题描述和示例。"
   ]
  },
  {
   "cell_type": "markdown",
   "metadata": {},
   "source": [
    "## 练习题 1: 最大子数组和\n",
    "\n",
    "给定一个整数数组，找到具有最大和的连续子数组（子数组最少包含一个元素），返回其最大和。\n",
    "\n",
    "**示例:**\n",
    "```\n",
    "输入: [-2,1,-3,4,-1,2,1,-5,4]\n",
    "输出: 6\n",
    "解释: 连续子数组 [4,-1,2,1] 的和最大，为 6。\n",
    "```\n",
    "\n",
    "**要求:** 使用动态规划解决，时间复杂度 O(n)，空间复杂度 O(1)。"
   ]
  },
  {
   "cell_type": "code",
   "execution_count": 5,
   "metadata": {},
   "outputs": [],
   "source": [
    "def max_subarray(nums):\n",
    "    \"\"\"\n",
    "    找到具有最大和的连续子数组\n",
    "    \"\"\"\n",
    "    n = len(nums)\n",
    "    dp = nums.copy() # dp[i]表示以i为结尾的子数组的最大和\n",
    "    dp[0] = nums[0]\n",
    "    max_sum = nums[0]\n",
    "    max_indx = 0\n",
    "    prev = [-1] * n\n",
    "    \n",
    "    \n",
    "    for i in range(1, n):\n",
    "        # 对每个元素遍历寻找最大和\n",
    "        if dp[i - 1] + nums[i] > nums[i]:\n",
    "            dp[i] = dp[i - 1] + nums[i]\n",
    "            prev[i] = i - 1\n",
    "\n",
    "        if dp[i] > max_sum:\n",
    "            max_sum = dp[i]\n",
    "            max_indx = i\n",
    "\n",
    "    subarray = []\n",
    "    i = max_indx\n",
    "    while i != -1:\n",
    "        subarray.append(nums[i])\n",
    "        i = prev[i]\n",
    "    return subarray, max_sum\n",
    "\n"
   ]
  },
  {
   "cell_type": "code",
   "execution_count": 7,
   "metadata": {},
   "outputs": [
    {
     "name": "stdout",
     "output_type": "stream",
     "text": [
      "([1, 2, -1, 4], 6)\n"
     ]
    }
   ],
   "source": [
    "print(max_subarray([-2,1,-3,4,-1,2,1,-5,4]))"
   ]
  },
  {
   "cell_type": "markdown",
   "metadata": {},
   "source": [
    "## 练习题 2: 硬币找零\n",
    "\n",
    "给定不同面额的硬币和一个总金额，计算可以凑成总金额所需的最少的硬币个数。如果没有任何一种硬币组合能组成总金额，返回 -1。\n",
    "\n",
    "**示例:**\n",
    "```\n",
    "输入: coins = [1, 2, 5], amount = 11\n",
    "输出: 3 \n",
    "解释: 11 = 5 + 5 + 1\n",
    "```\n",
    "\n",
    "**要求:** 使用动态规划解决，时间复杂度 O(amount * len(coins))。"
   ]
  },
  {
   "cell_type": "code",
   "execution_count": 14,
   "metadata": {},
   "outputs": [],
   "source": [
    "def coin_change_greedy(coins, amount):\n",
    "    \"\"\"\n",
    "    计算最少硬币数（贪心算法版）\n",
    "    \"\"\"\n",
    "    coins.sort(reverse=True)  # 从大到小排序\n",
    "    count = 0\n",
    "    for coin in coins:\n",
    "        if amount == 0:\n",
    "            break\n",
    "        use = amount // coin  # 能用多少个当前面值的硬币\n",
    "        count += use\n",
    "        amount -= use * coin  # 减去已经用的部分\n",
    "    if amount != 0:\n",
    "        return -1  # 如果没法凑成金额，返回-1\n",
    "    return count"
   ]
  },
  {
   "cell_type": "code",
   "execution_count": null,
   "metadata": {},
   "outputs": [],
   "source": [
    "def coin_change_dp(coins, amount):\n",
    "    \"\"\"\n",
    "    动态规划版\n",
    "    \"\"\"\n",
    "    INF = float('inf')\n",
    "    K = [INF] * (amount + 1)\n",
    "\n",
    "    # 初始化\n",
    "    K[0] = 0\n",
    "\n",
    "    for i in range(1, amount + 1):\n",
    "        for coin in coins:\n",
    "            if i - coin >= 0: # coin得能用才行\n",
    "                 K[i] = min(K[i - coin] + 1, K[i])\n",
    "\n",
    "    if K[amount] == INF:\n",
    "        return -1\n",
    "    else:\n",
    "        return K[amount]"
   ]
  },
  {
   "cell_type": "code",
   "execution_count": 15,
   "metadata": {},
   "outputs": [
    {
     "data": {
      "text/plain": [
       "3"
      ]
     },
     "execution_count": 15,
     "metadata": {},
     "output_type": "execute_result"
    }
   ],
   "source": [
    "coin_change_greedy(coins=[1, 2, 5], amount=11)"
   ]
  },
  {
   "cell_type": "code",
   "execution_count": 12,
   "metadata": {},
   "outputs": [
    {
     "data": {
      "text/plain": [
       "3"
      ]
     },
     "execution_count": 12,
     "metadata": {},
     "output_type": "execute_result"
    }
   ],
   "source": [
    "coin_change_dp(coins=[1, 2, 5], amount=11)"
   ]
  },
  {
   "cell_type": "code",
   "execution_count": 20,
   "metadata": {},
   "outputs": [],
   "source": [
    "def coin_change_comb(coins, amount):\n",
    "    \"\"\"\n",
    "    动态规划改进版：输出实际的最佳组合\n",
    "    \"\"\"\n",
    "    INF = float('inf')\n",
    "    K = [INF] * (amount + 1)\n",
    "    prev = [-1] * (amount + 1)\n",
    "\n",
    "    K[0] = 0\n",
    "\n",
    "    for i in range(1, amount + 1):\n",
    "        for coin in coins:\n",
    "            if i >= coin and K[i - coin] + 1 < K[i]:\n",
    "                    K[i] = K[i - coin] + 1\n",
    "                    prev[i] = i - coin\n",
    "\n",
    "    if K[amount] == INF:\n",
    "         return -1\n",
    "    \n",
    "    comb = []\n",
    "    curr = amount\n",
    "    while prev[curr] != -1:\n",
    "         comb.append(curr - prev[curr]) # coin = i - prev[i]\n",
    "         curr = prev[curr]\n",
    "    return comb"
   ]
  },
  {
   "cell_type": "code",
   "execution_count": 21,
   "metadata": {},
   "outputs": [
    {
     "data": {
      "text/plain": [
       "[1, 5, 5]"
      ]
     },
     "execution_count": 21,
     "metadata": {},
     "output_type": "execute_result"
    }
   ],
   "source": [
    "coin_change_comb(coins=[1, 2, 5], amount=11)"
   ]
  },
  {
   "cell_type": "markdown",
   "metadata": {},
   "source": [
    "## 练习题 3: 不同路径\n",
    "\n",
    "一个机器人位于一个 m x n 网格的左上角。机器人每次只能向下或者向右移动一步。机器人试图到达网格的右下角。问总共有多少条不同的路径？\n",
    "\n",
    "**示例:**\n",
    "```\n",
    "输入: m = 3, n = 2\n",
    "输出: 3\n",
    "解释: 从左上角开始，总共有 3 条路径可以到达右下角。\n",
    "1. 向右 -> 向右 -> 向下\n",
    "2. 向右 -> 向下 -> 向右\n",
    "3. 向下 -> 向右 -> 向右\n",
    "```\n",
    "\n",
    "**要求:** 使用动态规划解决，可以尝试空间优化。"
   ]
  },
  {
   "cell_type": "code",
   "execution_count": 24,
   "metadata": {},
   "outputs": [],
   "source": [
    "def unique_paths(m, n):\n",
    "    \"\"\"\n",
    "    计算不同路径数\n",
    "    \"\"\"\n",
    "    # 初始化表格\n",
    "    K = [[1] * n for _ in range(m)]\n",
    "\n",
    "    # 从(1,1)开始\n",
    "    for i in range(1, m):\n",
    "        for j in range(1, n):\n",
    "            K[i][j] = K[i - 1][j] + K[i][j - 1]\n",
    "    \n",
    "    return K[m - 1][n - 1]"
   ]
  },
  {
   "cell_type": "code",
   "execution_count": 25,
   "metadata": {},
   "outputs": [
    {
     "data": {
      "text/plain": [
       "3"
      ]
     },
     "execution_count": 25,
     "metadata": {},
     "output_type": "execute_result"
    }
   ],
   "source": [
    "unique_paths(3,2)"
   ]
  },
  {
   "cell_type": "markdown",
   "metadata": {},
   "source": [
    "## 练习题 4: 戳气球\n",
    "\n",
    "有 n 个气球，编号从 0 到 n-1，每个气球上都有一个数字，存储在数组 nums 中。你想要戳破所有的气球。如果你戳破气球 i ，你可以获得 nums[i-1] * nums[i] * nums[i+1] 枚硬币。如果 i-1 或 i+1 超出了数组的边界，那么就当它为 1。求你能获得的最大硬币数。\n",
    "\n",
    "**示例:**\n",
    "```\n",
    "输入: [3,1,5,8]\n",
    "输出: 167\n",
    "解释: \n",
    "nums = [3,1,5,8] --> [3,5,8] --> [3,8] --> [8] --> []\n",
    "coins = 3*1*5 + 3*5*8 + 1*3*8 + 1*8*1 = 167\n",
    "```\n",
    "\n",
    "**要求:** 使用区间动态规划解决。"
   ]
  },
  {
   "cell_type": "code",
   "execution_count": 16,
   "metadata": {},
   "outputs": [],
   "source": [
    "def max_coins(nums):\n",
    "    \"\"\"\n",
    "    计算能获得的最大硬币数\n",
    "    这其实就是“最优二叉树搜索（OBST）问题”\n",
    "    \"\"\"\n",
    "    data = [1] + nums + [1]\n",
    "    n = len(data)\n",
    "    dp = [[0] * n for _ in range(n)] # n * n的方阵\n",
    "\n",
    "    # 初始条件是长度为1/0的情况，很显然此时收益为0，恰好与我们的初始值相同，因此无需理会\n",
    "    \n",
    "    # dp[i][j] = dp[i][k] + dp[k][j] + i * k * j,  i < k <j\n",
    "    # 由于大区间的计算依赖于小区间，因此不能用嵌套for循环来计算\n",
    "    # for i in range(n + 1):\n",
    "    #     for j in range(i, n + 1):\n",
    "    #         for k in range(i + 1, j):\n",
    "    #             dp[i][j] = max(dp[i][k] + dp[k][j] + data[i] * data[k] * data[j])\n",
    "    # 必须按区间长度来循环，由小到大逐步增大\n",
    "\n",
    "    for length in range(2, n): # 区间长度为2 ~ n - 1\n",
    "            for i in range(n - length): # 起始点为0 ~ n - length，防止越界\n",
    "                j = i + length\n",
    "                max_k_sum = 0\n",
    "                for k in range(i + 1, j): # k的范围为i+1 ~ j-1\n",
    "                    curr_k_sum = dp[i][k] + dp[k][j] + data[i] * data[k] * data[j]\n",
    "                    if curr_k_sum > max_k_sum:\n",
    "                            max_k_sum = curr_k_sum\n",
    "                dp[i][j] = max_k_sum\n",
    "                        \n",
    "    return dp[0][n - 1] "
   ]
  },
  {
   "cell_type": "code",
   "execution_count": 17,
   "metadata": {},
   "outputs": [
    {
     "data": {
      "text/plain": [
       "167"
      ]
     },
     "execution_count": 17,
     "metadata": {},
     "output_type": "execute_result"
    }
   ],
   "source": [
    "max_coins([3, 1, 5, 8])"
   ]
  },
  {
   "cell_type": "code",
   "execution_count": 19,
   "metadata": {},
   "outputs": [],
   "source": [
    "def max_coins_seq(nums):\n",
    "    \"\"\"\n",
    "    计算能获得的最大硬币数的路径，返回应当逐步消除的节点\n",
    "    这其实就是“最优二叉树搜索（OBST）问题”\n",
    "    \"\"\"\n",
    "    data = [1] + nums + [1]\n",
    "    n = len(data)\n",
    "    dp = [[0] * n for _ in range(n)] # n * n的方阵\n",
    "    pop_list=[]\n",
    "\n",
    "    # 初始条件是长度为1/0的情况，很显然此时收益为0，恰好与我们的初始值相同，因此无需理会\n",
    "    \n",
    "    for length in range(2, n): # 区间长度为2 ~ n - 1\n",
    "            for i in range(n - length): # 起始点为0 ~ n - length，防止越界\n",
    "                j = i + length\n",
    "                max_k_sum = 0\n",
    "                for k in range(i + 1, j): # k的范围为i+1 ~ j-1\n",
    "                    curr_k_sum = dp[i][k] + dp[k][j] + data[i] * data[k] * data[j]\n",
    "                    if curr_k_sum > max_k_sum:\n",
    "                            max_k_sum = curr_k_sum\n",
    "                            pop_list.append(k)\n",
    "                dp[i][j] = max_k_sum\n",
    "                        \n",
    "    pop_list.reverse()\n",
    "\n",
    "    return pop_list"
   ]
  },
  {
   "cell_type": "code",
   "execution_count": 20,
   "metadata": {},
   "outputs": [
    {
     "data": {
      "text/plain": [
       "[4, 1, 4, 3, 2, 1, 4, 3, 3, 2, 1, 4, 3, 2, 1]"
      ]
     },
     "execution_count": 20,
     "metadata": {},
     "output_type": "execute_result"
    }
   ],
   "source": [
    "max_coins_seq([3, 1, 5, 8])"
   ]
  },
  {
   "cell_type": "markdown",
   "metadata": {},
   "source": [
    "## 练习题 4-2: 主题公园规划\n",
    "有一个 n 个顶点的凸多边形，代表一块未开发的土地。每个顶点 i 上都有一个代表“人气值”的数字，存储在数组 pop 中。你的任务是将该多边形完全切分成若干个三角形区域。每形成一个由顶点 i, j, k 组成的三角形，你就可以获得 pop[i] * pop[j] * pop[k] 的商业价值。求你能获得的最大总商业价值。\n",
    "\n",
    "**示例:**\n",
    "```\n",
    "输入: [10, 2, 5, 8]\n",
    "输出: 500\n",
    "解释: \n",
    "pop = [10, 2, 5, 8]\n",
    "方案1 (连接顶点0和2): 三角形(0,1,2) + 三角形(0,2,3)\n",
    "总价值 = (10*2*5) + (10*5*8) = 100 + 400 = 500\n",
    "\n",
    "方案2 (连接顶点1和3): 三角形(0,1,3) + 三角形(1,2,3)\n",
    "总价值 = (10*2*8) + (2*5*8) = 160 + 80 = 240\n",
    "\n",
    "最大总价值为 500。\n",
    "```\n",
    "\n",
    "**要求:** 使用区间动态规划解决。"
   ]
  },
  {
   "cell_type": "markdown",
   "metadata": {},
   "source": [
    "## 练习题 5: 编辑距离变种 - 最少操作次数\n",
    "\n",
    "给定两个字符串 word1 和 word2，返回使 word1 和 word2 相同所需的最小步数。\n",
    "每步可以删除任意一个字符串中的一个字符。\n",
    "\n",
    "**示例:**\n",
    "```\n",
    "输入: word1 = \"sea\", word2 = \"eat\"\n",
    "输出: 2\n",
    "解释: 第一步将 \"sea\" 变为 \"ea\"，第二步将 \"eat\" 变为 \"ea\"\n",
    "```\n",
    "\n",
    "**要求:** 使用动态规划解决，这个问题与编辑距离类似但操作不同。"
   ]
  },
  {
   "cell_type": "code",
   "execution_count": 13,
   "metadata": {},
   "outputs": [],
   "source": [
    "def min_distance(word1, word2):\n",
    "    \"\"\"\n",
    "    计算使两个字符串相同的最小步数\n",
    "    \"\"\"\n",
    "    # 在这里实现你的代码\n",
    "    pass"
   ]
  },
  {
   "cell_type": "markdown",
   "metadata": {},
   "source": [
    "## 练习题 6: 最长回文子序列\n",
    "\n",
    "给定一个字符串 s，找出其中最长的回文子序列的长度。\n",
    "子序列是指在不改变字符顺序的前提下，通过删除一些字符（或不删除）得到的序列。\n",
    "\n",
    "**示例:**\n",
    "```\n",
    "输入: s = \"bbbab\"\n",
    "输出: 4\n",
    "解释: 一个可能的最长回文子序列为 \"bbbb\"。\n",
    "```\n",
    "\n",
    "**要求:** 使用区间动态规划解决。"
   ]
  },
  {
   "cell_type": "code",
   "execution_count": 14,
   "metadata": {},
   "outputs": [],
   "source": [
    "def longest_palindrome_subseq(s):\n",
    "    \"\"\"\n",
    "    找出最长回文子序列的长度\n",
    "    \"\"\"\n",
    "    # 在这里实现你的代码\n",
    "    pass"
   ]
  },
  {
   "cell_type": "markdown",
   "metadata": {},
   "source": [
    "## 练习题 7: 分割等和子集\n",
    "\n",
    "给定一个只包含正整数的非空数组，判断是否可以将这个数组分割成两个子集，使得两个子集的元素和相等。\n",
    "\n",
    "**示例:**\n",
    "```\n",
    "输入: [1, 5, 11, 5]\n",
    "输出: true\n",
    "解释: 数组可以分割成 [1, 5, 5] 和 [11]。\n",
    "```\n",
    "\n",
    "**要求:** 这是一个0-1背包问题的变种，使用动态规划解决。"
   ]
  },
  {
   "cell_type": "code",
   "execution_count": 15,
   "metadata": {},
   "outputs": [],
   "source": [
    "def can_partition(nums):\n",
    "    \"\"\"\n",
    "    判断是否可以将数组分割成两个子集，使得两个子集的元素和相等\n",
    "    \"\"\"\n",
    "    # 在这里实现你的代码\n",
    "    pass"
   ]
  }
 ],
 "metadata": {
  "kernelspec": {
   "display_name": "Python 3",
   "language": "python",
   "name": "python3"
  },
  "language_info": {
   "codemirror_mode": {
    "name": "ipython",
    "version": 3
   },
   "file_extension": ".py",
   "mimetype": "text/x-python",
   "name": "python",
   "nbconvert_exporter": "python",
   "pygments_lexer": "ipython3",
   "version": "3.12.10"
  }
 },
 "nbformat": 4,
 "nbformat_minor": 4
}
