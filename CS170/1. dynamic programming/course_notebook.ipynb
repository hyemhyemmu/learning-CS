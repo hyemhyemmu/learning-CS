{
 "cells": [
  {
   "cell_type": "markdown",
   "id": "769a477e",
   "metadata": {},
   "source": [
    "CS170 course used notebook\n",
    "Spring 2020"
   ]
  },
  {
   "cell_type": "code",
   "execution_count": 1,
   "id": "7e58a4d3",
   "metadata": {},
   "outputs": [],
   "source": [
    "def fib(n):\n",
    "    if n<=1: return n\n",
    "    return fib(n-1)+fib(n-2)"
   ]
  },
  {
   "cell_type": "code",
   "execution_count": 4,
   "id": "f1a25f6a",
   "metadata": {},
   "outputs": [
    {
     "data": {
      "text/plain": [
       "55"
      ]
     },
     "execution_count": 4,
     "metadata": {},
     "output_type": "execute_result"
    }
   ],
   "source": [
    "fib(10)"
   ]
  },
  {
   "cell_type": "code",
   "execution_count": 3,
   "id": "e7c91b57",
   "metadata": {},
   "outputs": [
    {
     "data": {
      "text/plain": [
       "89"
      ]
     },
     "execution_count": 3,
     "metadata": {},
     "output_type": "execute_result"
    }
   ],
   "source": [
    "fib(11)"
   ]
  },
  {
   "cell_type": "code",
   "execution_count": 5,
   "id": "659df9ea",
   "metadata": {},
   "outputs": [
    {
     "data": {
      "text/plain": [
       "1"
      ]
     },
     "execution_count": 5,
     "metadata": {},
     "output_type": "execute_result"
    }
   ],
   "source": [
    "fib(2)"
   ]
  },
  {
   "cell_type": "code",
   "execution_count": 6,
   "id": "9d5bef03",
   "metadata": {},
   "outputs": [],
   "source": [
    "def fib_memo(n, mem):\n",
    "    if n <= 1: return n\n",
    "    if mem[n] != None: return mem[n]\n",
    "    mem[n] = fib_memo(n-1, mem) + fib_memo(n-2, mem)\n",
    "    return mem[n]\n",
    "\n",
    "def fib_fast(n):\n",
    "    mem = [None] * (n + 1)\n",
    "    return fib_memo(n, mem)"
   ]
  },
  {
   "cell_type": "code",
   "execution_count": 13,
   "id": "377441e0",
   "metadata": {},
   "outputs": [
    {
     "data": {
      "text/plain": [
       "43466557686937456435688527675040625802564660517371780402481729089536555417949051890403879840079255169295922593080322634775209689623239873322471161642996440906533187938298969649928516003704476137795166849228875"
      ]
     },
     "execution_count": 13,
     "metadata": {},
     "output_type": "execute_result"
    }
   ],
   "source": [
    "fib_fast(1000)"
   ]
  },
  {
   "cell_type": "code",
   "execution_count": null,
   "id": "ded605e6",
   "metadata": {},
   "outputs": [
    {
     "data": {
      "text/plain": [
       "354224848179261915075"
      ]
     },
     "execution_count": 10,
     "metadata": {},
     "output_type": "execute_result"
    }
   ],
   "source": [
    "fib_fast(100)"
   ]
  },
  {
   "cell_type": "code",
   "execution_count": 15,
   "id": "c7a66b14",
   "metadata": {},
   "outputs": [],
   "source": [
    "def fibBottomUp(n):\n",
    "    mem = [None]*(n+1)\n",
    "    mem[0] = 0\n",
    "    mem[1] = 1\n",
    "    for i in range(2, n+1):\n",
    "        mem[i] = mem[i-1] + mem[i-2]\n",
    "    return mem[n]"
   ]
  },
  {
   "cell_type": "code",
   "execution_count": 16,
   "id": "48e857d3",
   "metadata": {},
   "outputs": [
    {
     "data": {
      "text/plain": [
       "354224848179261915075"
      ]
     },
     "execution_count": 16,
     "metadata": {},
     "output_type": "execute_result"
    }
   ],
   "source": [
    "fibBottomUp(100)"
   ]
  },
  {
   "cell_type": "code",
   "execution_count": 17,
   "id": "9bc06646",
   "metadata": {},
   "outputs": [],
   "source": [
    "def fibSpaceSave(n):\n",
    "    if n <= 1: return n\n",
    "    mem = [0, 1]\n",
    "    for i in range(2, n+1):\n",
    "        x = mem[0] + mem[1]\n",
    "        mem[0] = mem[1]\n",
    "        mem[1] = x\n",
    "    return mem[1]"
   ]
  },
  {
   "cell_type": "code",
   "execution_count": 18,
   "id": "3a9d94f9",
   "metadata": {},
   "outputs": [
    {
     "data": {
      "text/plain": [
       "354224848179261915075"
      ]
     },
     "execution_count": 18,
     "metadata": {},
     "output_type": "execute_result"
    }
   ],
   "source": [
    "fibSpaceSave(100)"
   ]
  },
  {
   "cell_type": "code",
   "execution_count": 19,
   "id": "12d90875",
   "metadata": {},
   "outputs": [],
   "source": [
    "G = [\n",
    "    [ [1, 3], [2, 1] ],\n",
    "    [ [3, 7] ],\n",
    "    [ [3, 11] ],\n",
    "    [ [4, 1] ],\n",
    "    [],\n",
    "    []\n",
    "]"
   ]
  },
  {
   "cell_type": "code",
   "execution_count": 22,
   "id": "42abfc82",
   "metadata": {},
   "outputs": [],
   "source": [
    "def reverseGraph(G):\n",
    "    n = len(G)\n",
    "    adj = [ [] for _ in range(n)]\n",
    "    \n",
    "    for i in range(n):\n",
    "        for e in G[i]:\n",
    "            adj[e[0]].append([i, e[1]])\n",
    "    \n",
    "    return adj"
   ]
  },
  {
   "cell_type": "code",
   "execution_count": 23,
   "id": "4ba01b87",
   "metadata": {},
   "outputs": [
    {
     "data": {
      "text/plain": [
       "[[], [[0, 3]], [[0, 1]], [[1, 7], [2, 11]], [[3, 1]], []]"
      ]
     },
     "execution_count": 23,
     "metadata": {},
     "output_type": "execute_result"
    }
   ],
   "source": [
    "reverseGraph(G)"
   ]
  },
  {
   "cell_type": "code",
   "execution_count": null,
   "id": "2c1371ee",
   "metadata": {},
   "outputs": [],
   "source": [
    "def shorstestDAGmemo(revG, s, t, mem):\n",
    "    "
   ]
  }
 ],
 "metadata": {
  "kernelspec": {
   "display_name": "Python 3",
   "language": "python",
   "name": "python3"
  },
  "language_info": {
   "codemirror_mode": {
    "name": "ipython",
    "version": 3
   },
   "file_extension": ".py",
   "mimetype": "text/x-python",
   "name": "python",
   "nbconvert_exporter": "python",
   "pygments_lexer": "ipython3",
   "version": "3.12.10"
  }
 },
 "nbformat": 4,
 "nbformat_minor": 5
}
